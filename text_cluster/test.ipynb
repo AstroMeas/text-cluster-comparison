{
 "cells": [
  {
   "cell_type": "code",
   "execution_count": 1,
   "metadata": {},
   "outputs": [],
   "source": [
    "import cluster_functions as cf\n",
    "import cluster_functions_nb as cf_nb\n",
    "import debther_texts\n",
    "import pandas as pd"
   ]
  },
  {
   "cell_type": "code",
   "execution_count": 2,
   "metadata": {},
   "outputs": [
    {
     "name": "stdout",
     "output_type": "stream",
     "text": [
      "['་', ' ', '\\\\n']\n",
      "['་', ' ', '\\\\n']\n"
     ]
    }
   ],
   "source": [
    "\n",
    "a = debther_texts.debther_gangtok()\n",
    "b = debther_texts.debther_peking()\n",
    "sep,repl,_,_ = debther_texts.debther_parameters()\n",
    "    \n",
    "a = cf.clean(a,sep,repl)\n",
    "b = cf.clean(b,sep,repl)\n"
   ]
  },
  {
   "cell_type": "code",
   "execution_count": 3,
   "metadata": {},
   "outputs": [
    {
     "name": "stdout",
     "output_type": "stream",
     "text": [
      "100% -- finished\r"
     ]
    }
   ],
   "source": [
    "df_1 = cf.find_cluster(a,b,10)"
   ]
  },
  {
   "cell_type": "code",
   "execution_count": 4,
   "metadata": {},
   "outputs": [
    {
     "name": "stdout",
     "output_type": "stream",
     "text": [
      "100% -- finished\r"
     ]
    }
   ],
   "source": [
    "df_2 = cf_nb.find_cluster(a,b,10)"
   ]
  },
  {
   "cell_type": "code",
   "execution_count": 5,
   "metadata": {},
   "outputs": [
    {
     "data": {
      "text/plain": [
       "Index(['start_text_a', 'end_text_a', 'start_text_b', 'end_text_b', 'length',\n",
       "       'differenz'],\n",
       "      dtype='object')"
      ]
     },
     "execution_count": 5,
     "metadata": {},
     "output_type": "execute_result"
    }
   ],
   "source": [
    "df_1.columns"
   ]
  },
  {
   "cell_type": "code",
   "execution_count": 6,
   "metadata": {},
   "outputs": [
    {
     "data": {
      "text/plain": [
       "Index(['start_text_a', 'end_text_a', 'start_text_b', 'end_text_b', 'length',\n",
       "       'differenz'],\n",
       "      dtype='object')"
      ]
     },
     "execution_count": 6,
     "metadata": {},
     "output_type": "execute_result"
    }
   ],
   "source": [
    "df_2.columns"
   ]
  },
  {
   "cell_type": "code",
   "execution_count": 7,
   "metadata": {},
   "outputs": [],
   "source": [
    "diff = df_1.merge(df_2, on=df_1.columns.tolist(),how='outer',indicator=True)\n",
    "diff = diff[diff['_merge'] != 'both'].drop(columns=['_merge'])"
   ]
  },
  {
   "cell_type": "code",
   "execution_count": 8,
   "metadata": {},
   "outputs": [
    {
     "data": {
      "text/html": [
       "<div>\n",
       "<style scoped>\n",
       "    .dataframe tbody tr th:only-of-type {\n",
       "        vertical-align: middle;\n",
       "    }\n",
       "\n",
       "    .dataframe tbody tr th {\n",
       "        vertical-align: top;\n",
       "    }\n",
       "\n",
       "    .dataframe thead th {\n",
       "        text-align: right;\n",
       "    }\n",
       "</style>\n",
       "<table border=\"1\" class=\"dataframe\">\n",
       "  <thead>\n",
       "    <tr style=\"text-align: right;\">\n",
       "      <th></th>\n",
       "      <th>start_text_a</th>\n",
       "      <th>end_text_a</th>\n",
       "      <th>start_text_b</th>\n",
       "      <th>end_text_b</th>\n",
       "      <th>length</th>\n",
       "      <th>differenz</th>\n",
       "    </tr>\n",
       "  </thead>\n",
       "  <tbody>\n",
       "  </tbody>\n",
       "</table>\n",
       "</div>"
      ],
      "text/plain": [
       "Empty DataFrame\n",
       "Columns: [start_text_a, end_text_a, start_text_b, end_text_b, length, differenz]\n",
       "Index: []"
      ]
     },
     "execution_count": 8,
     "metadata": {},
     "output_type": "execute_result"
    }
   ],
   "source": [
    "diff"
   ]
  },
  {
   "cell_type": "code",
   "execution_count": 12,
   "metadata": {},
   "outputs": [
    {
     "data": {
      "text/html": [
       "<div>\n",
       "<style scoped>\n",
       "    .dataframe tbody tr th:only-of-type {\n",
       "        vertical-align: middle;\n",
       "    }\n",
       "\n",
       "    .dataframe tbody tr th {\n",
       "        vertical-align: top;\n",
       "    }\n",
       "\n",
       "    .dataframe thead th {\n",
       "        text-align: right;\n",
       "    }\n",
       "</style>\n",
       "<table border=\"1\" class=\"dataframe\">\n",
       "  <thead>\n",
       "    <tr style=\"text-align: right;\">\n",
       "      <th></th>\n",
       "      <th>start_text_a</th>\n",
       "      <th>end_text_a</th>\n",
       "      <th>start_text_b</th>\n",
       "      <th>end_text_b</th>\n",
       "      <th>length</th>\n",
       "      <th>differenz</th>\n",
       "    </tr>\n",
       "  </thead>\n",
       "  <tbody>\n",
       "    <tr>\n",
       "      <th>0</th>\n",
       "      <td>21</td>\n",
       "      <td>66</td>\n",
       "      <td>6</td>\n",
       "      <td>51</td>\n",
       "      <td>45</td>\n",
       "      <td>-15</td>\n",
       "    </tr>\n",
       "    <tr>\n",
       "      <th>1</th>\n",
       "      <td>67</td>\n",
       "      <td>101</td>\n",
       "      <td>52</td>\n",
       "      <td>86</td>\n",
       "      <td>34</td>\n",
       "      <td>-15</td>\n",
       "    </tr>\n",
       "    <tr>\n",
       "      <th>2</th>\n",
       "      <td>104</td>\n",
       "      <td>117</td>\n",
       "      <td>90</td>\n",
       "      <td>103</td>\n",
       "      <td>13</td>\n",
       "      <td>-14</td>\n",
       "    </tr>\n",
       "    <tr>\n",
       "      <th>3</th>\n",
       "      <td>122</td>\n",
       "      <td>174</td>\n",
       "      <td>120</td>\n",
       "      <td>172</td>\n",
       "      <td>52</td>\n",
       "      <td>-2</td>\n",
       "    </tr>\n",
       "    <tr>\n",
       "      <th>4</th>\n",
       "      <td>180</td>\n",
       "      <td>191</td>\n",
       "      <td>178</td>\n",
       "      <td>189</td>\n",
       "      <td>11</td>\n",
       "      <td>-2</td>\n",
       "    </tr>\n",
       "    <tr>\n",
       "      <th>...</th>\n",
       "      <td>...</td>\n",
       "      <td>...</td>\n",
       "      <td>...</td>\n",
       "      <td>...</td>\n",
       "      <td>...</td>\n",
       "      <td>...</td>\n",
       "    </tr>\n",
       "    <tr>\n",
       "      <th>961</th>\n",
       "      <td>30378</td>\n",
       "      <td>30397</td>\n",
       "      <td>55749</td>\n",
       "      <td>55768</td>\n",
       "      <td>19</td>\n",
       "      <td>25371</td>\n",
       "    </tr>\n",
       "    <tr>\n",
       "      <th>962</th>\n",
       "      <td>30400</td>\n",
       "      <td>30414</td>\n",
       "      <td>55771</td>\n",
       "      <td>55785</td>\n",
       "      <td>14</td>\n",
       "      <td>25371</td>\n",
       "    </tr>\n",
       "    <tr>\n",
       "      <th>963</th>\n",
       "      <td>30422</td>\n",
       "      <td>30455</td>\n",
       "      <td>55793</td>\n",
       "      <td>55826</td>\n",
       "      <td>33</td>\n",
       "      <td>25371</td>\n",
       "    </tr>\n",
       "    <tr>\n",
       "      <th>964</th>\n",
       "      <td>30456</td>\n",
       "      <td>30471</td>\n",
       "      <td>55828</td>\n",
       "      <td>55843</td>\n",
       "      <td>15</td>\n",
       "      <td>25372</td>\n",
       "    </tr>\n",
       "    <tr>\n",
       "      <th>965</th>\n",
       "      <td>30487</td>\n",
       "      <td>30513</td>\n",
       "      <td>55862</td>\n",
       "      <td>55888</td>\n",
       "      <td>26</td>\n",
       "      <td>25375</td>\n",
       "    </tr>\n",
       "  </tbody>\n",
       "</table>\n",
       "<p>966 rows × 6 columns</p>\n",
       "</div>"
      ],
      "text/plain": [
       "     start_text_a  end_text_a  start_text_b  end_text_b  length  differenz\n",
       "0              21          66             6          51      45        -15\n",
       "1              67         101            52          86      34        -15\n",
       "2             104         117            90         103      13        -14\n",
       "3             122         174           120         172      52         -2\n",
       "4             180         191           178         189      11         -2\n",
       "..            ...         ...           ...         ...     ...        ...\n",
       "961         30378       30397         55749       55768      19      25371\n",
       "962         30400       30414         55771       55785      14      25371\n",
       "963         30422       30455         55793       55826      33      25371\n",
       "964         30456       30471         55828       55843      15      25372\n",
       "965         30487       30513         55862       55888      26      25375\n",
       "\n",
       "[966 rows x 6 columns]"
      ]
     },
     "execution_count": 12,
     "metadata": {},
     "output_type": "execute_result"
    }
   ],
   "source": [
    "df_1"
   ]
  },
  {
   "cell_type": "code",
   "execution_count": 13,
   "metadata": {},
   "outputs": [
    {
     "data": {
      "text/html": [
       "<div>\n",
       "<style scoped>\n",
       "    .dataframe tbody tr th:only-of-type {\n",
       "        vertical-align: middle;\n",
       "    }\n",
       "\n",
       "    .dataframe tbody tr th {\n",
       "        vertical-align: top;\n",
       "    }\n",
       "\n",
       "    .dataframe thead th {\n",
       "        text-align: right;\n",
       "    }\n",
       "</style>\n",
       "<table border=\"1\" class=\"dataframe\">\n",
       "  <thead>\n",
       "    <tr style=\"text-align: right;\">\n",
       "      <th></th>\n",
       "      <th>start_text_a</th>\n",
       "      <th>end_text_a</th>\n",
       "      <th>start_text_b</th>\n",
       "      <th>end_text_b</th>\n",
       "      <th>length</th>\n",
       "      <th>differenz</th>\n",
       "    </tr>\n",
       "  </thead>\n",
       "  <tbody>\n",
       "    <tr>\n",
       "      <th>0</th>\n",
       "      <td>21</td>\n",
       "      <td>66</td>\n",
       "      <td>6</td>\n",
       "      <td>51</td>\n",
       "      <td>45</td>\n",
       "      <td>-15</td>\n",
       "    </tr>\n",
       "    <tr>\n",
       "      <th>1</th>\n",
       "      <td>67</td>\n",
       "      <td>101</td>\n",
       "      <td>52</td>\n",
       "      <td>86</td>\n",
       "      <td>34</td>\n",
       "      <td>-15</td>\n",
       "    </tr>\n",
       "    <tr>\n",
       "      <th>2</th>\n",
       "      <td>104</td>\n",
       "      <td>117</td>\n",
       "      <td>90</td>\n",
       "      <td>103</td>\n",
       "      <td>13</td>\n",
       "      <td>-14</td>\n",
       "    </tr>\n",
       "    <tr>\n",
       "      <th>3</th>\n",
       "      <td>122</td>\n",
       "      <td>174</td>\n",
       "      <td>120</td>\n",
       "      <td>172</td>\n",
       "      <td>52</td>\n",
       "      <td>-2</td>\n",
       "    </tr>\n",
       "    <tr>\n",
       "      <th>4</th>\n",
       "      <td>180</td>\n",
       "      <td>191</td>\n",
       "      <td>178</td>\n",
       "      <td>189</td>\n",
       "      <td>11</td>\n",
       "      <td>-2</td>\n",
       "    </tr>\n",
       "    <tr>\n",
       "      <th>...</th>\n",
       "      <td>...</td>\n",
       "      <td>...</td>\n",
       "      <td>...</td>\n",
       "      <td>...</td>\n",
       "      <td>...</td>\n",
       "      <td>...</td>\n",
       "    </tr>\n",
       "    <tr>\n",
       "      <th>961</th>\n",
       "      <td>30378</td>\n",
       "      <td>30397</td>\n",
       "      <td>55749</td>\n",
       "      <td>55768</td>\n",
       "      <td>19</td>\n",
       "      <td>25371</td>\n",
       "    </tr>\n",
       "    <tr>\n",
       "      <th>962</th>\n",
       "      <td>30400</td>\n",
       "      <td>30414</td>\n",
       "      <td>55771</td>\n",
       "      <td>55785</td>\n",
       "      <td>14</td>\n",
       "      <td>25371</td>\n",
       "    </tr>\n",
       "    <tr>\n",
       "      <th>963</th>\n",
       "      <td>30422</td>\n",
       "      <td>30455</td>\n",
       "      <td>55793</td>\n",
       "      <td>55826</td>\n",
       "      <td>33</td>\n",
       "      <td>25371</td>\n",
       "    </tr>\n",
       "    <tr>\n",
       "      <th>964</th>\n",
       "      <td>30456</td>\n",
       "      <td>30471</td>\n",
       "      <td>55828</td>\n",
       "      <td>55843</td>\n",
       "      <td>15</td>\n",
       "      <td>25372</td>\n",
       "    </tr>\n",
       "    <tr>\n",
       "      <th>965</th>\n",
       "      <td>30487</td>\n",
       "      <td>30513</td>\n",
       "      <td>55862</td>\n",
       "      <td>55888</td>\n",
       "      <td>26</td>\n",
       "      <td>25375</td>\n",
       "    </tr>\n",
       "  </tbody>\n",
       "</table>\n",
       "<p>966 rows × 6 columns</p>\n",
       "</div>"
      ],
      "text/plain": [
       "     start_text_a  end_text_a  start_text_b  end_text_b  length  differenz\n",
       "0              21          66             6          51      45        -15\n",
       "1              67         101            52          86      34        -15\n",
       "2             104         117            90         103      13        -14\n",
       "3             122         174           120         172      52         -2\n",
       "4             180         191           178         189      11         -2\n",
       "..            ...         ...           ...         ...     ...        ...\n",
       "961         30378       30397         55749       55768      19      25371\n",
       "962         30400       30414         55771       55785      14      25371\n",
       "963         30422       30455         55793       55826      33      25371\n",
       "964         30456       30471         55828       55843      15      25372\n",
       "965         30487       30513         55862       55888      26      25375\n",
       "\n",
       "[966 rows x 6 columns]"
      ]
     },
     "execution_count": 13,
     "metadata": {},
     "output_type": "execute_result"
    }
   ],
   "source": [
    "df_2"
   ]
  },
  {
   "cell_type": "code",
   "execution_count": 11,
   "metadata": {},
   "outputs": [
    {
     "data": {
      "text/html": [
       "<div>\n",
       "<style scoped>\n",
       "    .dataframe tbody tr th:only-of-type {\n",
       "        vertical-align: middle;\n",
       "    }\n",
       "\n",
       "    .dataframe tbody tr th {\n",
       "        vertical-align: top;\n",
       "    }\n",
       "\n",
       "    .dataframe thead th {\n",
       "        text-align: right;\n",
       "    }\n",
       "</style>\n",
       "<table border=\"1\" class=\"dataframe\">\n",
       "  <thead>\n",
       "    <tr style=\"text-align: right;\">\n",
       "      <th></th>\n",
       "      <th>start_text_a</th>\n",
       "      <th>end_text_a</th>\n",
       "      <th>start_text_b</th>\n",
       "      <th>end_text_b</th>\n",
       "      <th>length</th>\n",
       "      <th>differenz</th>\n",
       "    </tr>\n",
       "  </thead>\n",
       "  <tbody>\n",
       "  </tbody>\n",
       "</table>\n",
       "</div>"
      ],
      "text/plain": [
       "Empty DataFrame\n",
       "Columns: [start_text_a, end_text_a, start_text_b, end_text_b, length, differenz]\n",
       "Index: []"
      ]
     },
     "execution_count": 11,
     "metadata": {},
     "output_type": "execute_result"
    }
   ],
   "source": [
    "diff = df_1.eq(df_2)  # Vergleicht Werte\n",
    "df_diff = df_1.mask(diff)  # Ersetzt gleiche Werte mit NaN\n",
    "df_diff.dropna()"
   ]
  },
  {
   "cell_type": "code",
   "execution_count": null,
   "metadata": {},
   "outputs": [],
   "source": []
  }
 ],
 "metadata": {
  "kernelspec": {
   "display_name": ".venv",
   "language": "python",
   "name": "python3"
  },
  "language_info": {
   "codemirror_mode": {
    "name": "ipython",
    "version": 3
   },
   "file_extension": ".py",
   "mimetype": "text/x-python",
   "name": "python",
   "nbconvert_exporter": "python",
   "pygments_lexer": "ipython3",
   "version": "3.11.4"
  }
 },
 "nbformat": 4,
 "nbformat_minor": 2
}
