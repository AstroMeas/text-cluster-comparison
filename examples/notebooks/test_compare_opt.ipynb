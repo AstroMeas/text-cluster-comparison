{
 "cells": [
  {
   "cell_type": "code",
   "execution_count": 13,
   "metadata": {},
   "outputs": [],
   "source": [
    "from src.text_example.load_example_Notre_dame_wikipedia import load_text_a,load_text_b,example_parameters\n",
    "from src.preprocessing.text_preprocessing import convert_to_list\n",
    "from src.clustering.cluster_search import find_cluster\n",
    "from src.web.callbacks.graph_callbacks import create_bubble_plot\n",
    "import pandas as pd\n",
    "import plotly.express as px"
   ]
  },
  {
   "cell_type": "code",
   "execution_count": 109,
   "metadata": {},
   "outputs": [
    {
     "name": "stderr",
     "output_type": "stream",
     "text": [
      "2025-03-24 19:50:54,271 - src.clustering.cluster_search - INFO - Length of sequences: 25663 and 29924 items\n",
      "2025-03-24 19:50:54,272 - src.clustering.cluster_search - INFO - Using minimum cluster length: 10\n",
      "2025-03-24 19:50:54,453 - src.clustering.cluster_search - INFO - Found 580 clusters\n"
     ]
    }
   ],
   "source": [
    "a = load_text_a()\n",
    "b = load_text_b()\n",
    "sep = example_parameters()[0]\n",
    "#print(sep)\n",
    "a = convert_to_list(a,sep)\n",
    "b = convert_to_list(b,sep)\n",
    "df = find_cluster(a,b,10,'a','b')"
   ]
  },
  {
   "cell_type": "code",
   "execution_count": 110,
   "metadata": {},
   "outputs": [
    {
     "name": "stdout",
     "output_type": "stream",
     "text": [
      "(580, 6)\n"
     ]
    },
    {
     "data": {
      "application/vnd.plotly.v1+json": {
       "config": {
        "plotlyServerURL": "https://plot.ly"
       },
       "data": [
        {
         "hovertemplate": "start_a=%{x}<br>start_b=%{y}<br>length=%{marker.size}<extra></extra>",
         "legendgroup": "",
         "marker": {
          "color": "#636efa",
          "size": {
           "bdata": "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",
           "dtype": "i4"
          },
          "sizemode": "area",
          "sizeref": 0.33,
          "symbol": "circle"
         },
         "mode": "markers",
         "name": "",
         "orientation": "v",
         "showlegend": false,
         "type": "scatter",
         "x": {
          "bdata": "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",
          "dtype": "i4"
         },
         "xaxis": "x",
         "y": {
          "bdata": "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",
          "dtype": "i4"
         },
         "yaxis": "y"
        }
       ],
       "layout": {
        "clickmode": "event+select",
        "legend": {
         "itemsizing": "constant",
         "tracegroupgap": 0
        },
        "margin": {
         "t": 60
        },
        "template": {
         "data": {
          "bar": [
           {
            "error_x": {
             "color": "#2a3f5f"
            },
            "error_y": {
             "color": "#2a3f5f"
            },
            "marker": {
             "line": {
              "color": "#E5ECF6",
              "width": 0.5
             },
             "pattern": {
              "fillmode": "overlay",
              "size": 10,
              "solidity": 0.2
             }
            },
            "type": "bar"
           }
          ],
          "barpolar": [
           {
            "marker": {
             "line": {
              "color": "#E5ECF6",
              "width": 0.5
             },
             "pattern": {
              "fillmode": "overlay",
              "size": 10,
              "solidity": 0.2
             }
            },
            "type": "barpolar"
           }
          ],
          "carpet": [
           {
            "aaxis": {
             "endlinecolor": "#2a3f5f",
             "gridcolor": "white",
             "linecolor": "white",
             "minorgridcolor": "white",
             "startlinecolor": "#2a3f5f"
            },
            "baxis": {
             "endlinecolor": "#2a3f5f",
             "gridcolor": "white",
             "linecolor": "white",
             "minorgridcolor": "white",
             "startlinecolor": "#2a3f5f"
            },
            "type": "carpet"
           }
          ],
          "choropleth": [
           {
            "colorbar": {
             "outlinewidth": 0,
             "ticks": ""
            },
            "type": "choropleth"
           }
          ],
          "contour": [
           {
            "colorbar": {
             "outlinewidth": 0,
             "ticks": ""
            },
            "colorscale": [
             [
              0,
              "#0d0887"
             ],
             [
              0.1111111111111111,
              "#46039f"
             ],
             [
              0.2222222222222222,
              "#7201a8"
             ],
             [
              0.3333333333333333,
              "#9c179e"
             ],
             [
              0.4444444444444444,
              "#bd3786"
             ],
             [
              0.5555555555555556,
              "#d8576b"
             ],
             [
              0.6666666666666666,
              "#ed7953"
             ],
             [
              0.7777777777777778,
              "#fb9f3a"
             ],
             [
              0.8888888888888888,
              "#fdca26"
             ],
             [
              1,
              "#f0f921"
             ]
            ],
            "type": "contour"
           }
          ],
          "contourcarpet": [
           {
            "colorbar": {
             "outlinewidth": 0,
             "ticks": ""
            },
            "type": "contourcarpet"
           }
          ],
          "heatmap": [
           {
            "colorbar": {
             "outlinewidth": 0,
             "ticks": ""
            },
            "colorscale": [
             [
              0,
              "#0d0887"
             ],
             [
              0.1111111111111111,
              "#46039f"
             ],
             [
              0.2222222222222222,
              "#7201a8"
             ],
             [
              0.3333333333333333,
              "#9c179e"
             ],
             [
              0.4444444444444444,
              "#bd3786"
             ],
             [
              0.5555555555555556,
              "#d8576b"
             ],
             [
              0.6666666666666666,
              "#ed7953"
             ],
             [
              0.7777777777777778,
              "#fb9f3a"
             ],
             [
              0.8888888888888888,
              "#fdca26"
             ],
             [
              1,
              "#f0f921"
             ]
            ],
            "type": "heatmap"
           }
          ],
          "histogram": [
           {
            "marker": {
             "pattern": {
              "fillmode": "overlay",
              "size": 10,
              "solidity": 0.2
             }
            },
            "type": "histogram"
           }
          ],
          "histogram2d": [
           {
            "colorbar": {
             "outlinewidth": 0,
             "ticks": ""
            },
            "colorscale": [
             [
              0,
              "#0d0887"
             ],
             [
              0.1111111111111111,
              "#46039f"
             ],
             [
              0.2222222222222222,
              "#7201a8"
             ],
             [
              0.3333333333333333,
              "#9c179e"
             ],
             [
              0.4444444444444444,
              "#bd3786"
             ],
             [
              0.5555555555555556,
              "#d8576b"
             ],
             [
              0.6666666666666666,
              "#ed7953"
             ],
             [
              0.7777777777777778,
              "#fb9f3a"
             ],
             [
              0.8888888888888888,
              "#fdca26"
             ],
             [
              1,
              "#f0f921"
             ]
            ],
            "type": "histogram2d"
           }
          ],
          "histogram2dcontour": [
           {
            "colorbar": {
             "outlinewidth": 0,
             "ticks": ""
            },
            "colorscale": [
             [
              0,
              "#0d0887"
             ],
             [
              0.1111111111111111,
              "#46039f"
             ],
             [
              0.2222222222222222,
              "#7201a8"
             ],
             [
              0.3333333333333333,
              "#9c179e"
             ],
             [
              0.4444444444444444,
              "#bd3786"
             ],
             [
              0.5555555555555556,
              "#d8576b"
             ],
             [
              0.6666666666666666,
              "#ed7953"
             ],
             [
              0.7777777777777778,
              "#fb9f3a"
             ],
             [
              0.8888888888888888,
              "#fdca26"
             ],
             [
              1,
              "#f0f921"
             ]
            ],
            "type": "histogram2dcontour"
           }
          ],
          "mesh3d": [
           {
            "colorbar": {
             "outlinewidth": 0,
             "ticks": ""
            },
            "type": "mesh3d"
           }
          ],
          "parcoords": [
           {
            "line": {
             "colorbar": {
              "outlinewidth": 0,
              "ticks": ""
             }
            },
            "type": "parcoords"
           }
          ],
          "pie": [
           {
            "automargin": true,
            "type": "pie"
           }
          ],
          "scatter": [
           {
            "fillpattern": {
             "fillmode": "overlay",
             "size": 10,
             "solidity": 0.2
            },
            "type": "scatter"
           }
          ],
          "scatter3d": [
           {
            "line": {
             "colorbar": {
              "outlinewidth": 0,
              "ticks": ""
             }
            },
            "marker": {
             "colorbar": {
              "outlinewidth": 0,
              "ticks": ""
             }
            },
            "type": "scatter3d"
           }
          ],
          "scattercarpet": [
           {
            "marker": {
             "colorbar": {
              "outlinewidth": 0,
              "ticks": ""
             }
            },
            "type": "scattercarpet"
           }
          ],
          "scattergeo": [
           {
            "marker": {
             "colorbar": {
              "outlinewidth": 0,
              "ticks": ""
             }
            },
            "type": "scattergeo"
           }
          ],
          "scattergl": [
           {
            "marker": {
             "colorbar": {
              "outlinewidth": 0,
              "ticks": ""
             }
            },
            "type": "scattergl"
           }
          ],
          "scattermap": [
           {
            "marker": {
             "colorbar": {
              "outlinewidth": 0,
              "ticks": ""
             }
            },
            "type": "scattermap"
           }
          ],
          "scattermapbox": [
           {
            "marker": {
             "colorbar": {
              "outlinewidth": 0,
              "ticks": ""
             }
            },
            "type": "scattermapbox"
           }
          ],
          "scatterpolar": [
           {
            "marker": {
             "colorbar": {
              "outlinewidth": 0,
              "ticks": ""
             }
            },
            "type": "scatterpolar"
           }
          ],
          "scatterpolargl": [
           {
            "marker": {
             "colorbar": {
              "outlinewidth": 0,
              "ticks": ""
             }
            },
            "type": "scatterpolargl"
           }
          ],
          "scatterternary": [
           {
            "marker": {
             "colorbar": {
              "outlinewidth": 0,
              "ticks": ""
             }
            },
            "type": "scatterternary"
           }
          ],
          "surface": [
           {
            "colorbar": {
             "outlinewidth": 0,
             "ticks": ""
            },
            "colorscale": [
             [
              0,
              "#0d0887"
             ],
             [
              0.1111111111111111,
              "#46039f"
             ],
             [
              0.2222222222222222,
              "#7201a8"
             ],
             [
              0.3333333333333333,
              "#9c179e"
             ],
             [
              0.4444444444444444,
              "#bd3786"
             ],
             [
              0.5555555555555556,
              "#d8576b"
             ],
             [
              0.6666666666666666,
              "#ed7953"
             ],
             [
              0.7777777777777778,
              "#fb9f3a"
             ],
             [
              0.8888888888888888,
              "#fdca26"
             ],
             [
              1,
              "#f0f921"
             ]
            ],
            "type": "surface"
           }
          ],
          "table": [
           {
            "cells": {
             "fill": {
              "color": "#EBF0F8"
             },
             "line": {
              "color": "white"
             }
            },
            "header": {
             "fill": {
              "color": "#C8D4E3"
             },
             "line": {
              "color": "white"
             }
            },
            "type": "table"
           }
          ]
         },
         "layout": {
          "annotationdefaults": {
           "arrowcolor": "#2a3f5f",
           "arrowhead": 0,
           "arrowwidth": 1
          },
          "autotypenumbers": "strict",
          "coloraxis": {
           "colorbar": {
            "outlinewidth": 0,
            "ticks": ""
           }
          },
          "colorscale": {
           "diverging": [
            [
             0,
             "#8e0152"
            ],
            [
             0.1,
             "#c51b7d"
            ],
            [
             0.2,
             "#de77ae"
            ],
            [
             0.3,
             "#f1b6da"
            ],
            [
             0.4,
             "#fde0ef"
            ],
            [
             0.5,
             "#f7f7f7"
            ],
            [
             0.6,
             "#e6f5d0"
            ],
            [
             0.7,
             "#b8e186"
            ],
            [
             0.8,
             "#7fbc41"
            ],
            [
             0.9,
             "#4d9221"
            ],
            [
             1,
             "#276419"
            ]
           ],
           "sequential": [
            [
             0,
             "#0d0887"
            ],
            [
             0.1111111111111111,
             "#46039f"
            ],
            [
             0.2222222222222222,
             "#7201a8"
            ],
            [
             0.3333333333333333,
             "#9c179e"
            ],
            [
             0.4444444444444444,
             "#bd3786"
            ],
            [
             0.5555555555555556,
             "#d8576b"
            ],
            [
             0.6666666666666666,
             "#ed7953"
            ],
            [
             0.7777777777777778,
             "#fb9f3a"
            ],
            [
             0.8888888888888888,
             "#fdca26"
            ],
            [
             1,
             "#f0f921"
            ]
           ],
           "sequentialminus": [
            [
             0,
             "#0d0887"
            ],
            [
             0.1111111111111111,
             "#46039f"
            ],
            [
             0.2222222222222222,
             "#7201a8"
            ],
            [
             0.3333333333333333,
             "#9c179e"
            ],
            [
             0.4444444444444444,
             "#bd3786"
            ],
            [
             0.5555555555555556,
             "#d8576b"
            ],
            [
             0.6666666666666666,
             "#ed7953"
            ],
            [
             0.7777777777777778,
             "#fb9f3a"
            ],
            [
             0.8888888888888888,
             "#fdca26"
            ],
            [
             1,
             "#f0f921"
            ]
           ]
          },
          "colorway": [
           "#636efa",
           "#EF553B",
           "#00cc96",
           "#ab63fa",
           "#FFA15A",
           "#19d3f3",
           "#FF6692",
           "#B6E880",
           "#FF97FF",
           "#FECB52"
          ],
          "font": {
           "color": "#2a3f5f"
          },
          "geo": {
           "bgcolor": "white",
           "lakecolor": "white",
           "landcolor": "#E5ECF6",
           "showlakes": true,
           "showland": true,
           "subunitcolor": "white"
          },
          "hoverlabel": {
           "align": "left"
          },
          "hovermode": "closest",
          "mapbox": {
           "style": "light"
          },
          "paper_bgcolor": "white",
          "plot_bgcolor": "#E5ECF6",
          "polar": {
           "angularaxis": {
            "gridcolor": "white",
            "linecolor": "white",
            "ticks": ""
           },
           "bgcolor": "#E5ECF6",
           "radialaxis": {
            "gridcolor": "white",
            "linecolor": "white",
            "ticks": ""
           }
          },
          "scene": {
           "xaxis": {
            "backgroundcolor": "#E5ECF6",
            "gridcolor": "white",
            "gridwidth": 2,
            "linecolor": "white",
            "showbackground": true,
            "ticks": "",
            "zerolinecolor": "white"
           },
           "yaxis": {
            "backgroundcolor": "#E5ECF6",
            "gridcolor": "white",
            "gridwidth": 2,
            "linecolor": "white",
            "showbackground": true,
            "ticks": "",
            "zerolinecolor": "white"
           },
           "zaxis": {
            "backgroundcolor": "#E5ECF6",
            "gridcolor": "white",
            "gridwidth": 2,
            "linecolor": "white",
            "showbackground": true,
            "ticks": "",
            "zerolinecolor": "white"
           }
          },
          "shapedefaults": {
           "line": {
            "color": "#2a3f5f"
           }
          },
          "ternary": {
           "aaxis": {
            "gridcolor": "white",
            "linecolor": "white",
            "ticks": ""
           },
           "baxis": {
            "gridcolor": "white",
            "linecolor": "white",
            "ticks": ""
           },
           "bgcolor": "#E5ECF6",
           "caxis": {
            "gridcolor": "white",
            "linecolor": "white",
            "ticks": ""
           }
          },
          "title": {
           "x": 0.05
          },
          "xaxis": {
           "automargin": true,
           "gridcolor": "white",
           "linecolor": "white",
           "ticks": "",
           "title": {
            "standoff": 15
           },
           "zerolinecolor": "white",
           "zerolinewidth": 2
          },
          "yaxis": {
           "automargin": true,
           "gridcolor": "white",
           "linecolor": "white",
           "ticks": "",
           "title": {
            "standoff": 15
           },
           "zerolinecolor": "white",
           "zerolinewidth": 2
          }
         }
        },
        "xaxis": {
         "anchor": "y",
         "domain": [
          0,
          1
         ],
         "title": {
          "text": "start_a"
         }
        },
        "yaxis": {
         "anchor": "x",
         "domain": [
          0,
          1
         ],
         "title": {
          "text": "start_b"
         }
        }
       }
      }
     },
     "metadata": {},
     "output_type": "display_data"
    }
   ],
   "source": [
    "print(df.shape)\n",
    "create_bubble_plot(df,'a','b')"
   ]
  },
  {
   "cell_type": "code",
   "execution_count": 10,
   "metadata": {},
   "outputs": [
    {
     "ename": "NameError",
     "evalue": "name 'delete_not_ascending_cluster' is not defined",
     "output_type": "error",
     "traceback": [
      "\u001b[1;31m---------------------------------------------------------------------------\u001b[0m",
      "\u001b[1;31mNameError\u001b[0m                                 Traceback (most recent call last)",
      "Cell \u001b[1;32mIn[10], line 1\u001b[0m\n\u001b[1;32m----> 1\u001b[0m df \u001b[38;5;241m=\u001b[39m \u001b[43mdelete_not_ascending_cluster\u001b[49m(df,\u001b[38;5;124m'\u001b[39m\u001b[38;5;124ma\u001b[39m\u001b[38;5;124m'\u001b[39m,\u001b[38;5;124m'\u001b[39m\u001b[38;5;124mb\u001b[39m\u001b[38;5;124m'\u001b[39m)\n\u001b[0;32m      2\u001b[0m \u001b[38;5;28mprint\u001b[39m(df\u001b[38;5;241m.\u001b[39mshape)\n\u001b[0;32m      3\u001b[0m create_bubble_plot(df,\u001b[38;5;124m'\u001b[39m\u001b[38;5;124ma\u001b[39m\u001b[38;5;124m'\u001b[39m,\u001b[38;5;124m'\u001b[39m\u001b[38;5;124mb\u001b[39m\u001b[38;5;124m'\u001b[39m)\n",
      "\u001b[1;31mNameError\u001b[0m: name 'delete_not_ascending_cluster' is not defined"
     ]
    }
   ],
   "source": [
    "df = delete_not_ascending_cluster(df,'a','b')\n",
    "print(df.shape)\n",
    "create_bubble_plot(df,'a','b')\n"
   ]
  },
  {
   "cell_type": "code",
   "execution_count": 10,
   "metadata": {},
   "outputs": [],
   "source": [
    "def clean_found_clusters(df):\n",
    "    return filter_pseudoclusters(df)"
   ]
  },
  {
   "cell_type": "code",
   "execution_count": 14,
   "metadata": {},
   "outputs": [
    {
     "name": "stdout",
     "output_type": "stream",
     "text": [
      "Initial clusters: 732\n",
      "Pseudoclusters found (non-ascending start_b): 35\n",
      "Remaining clusters after filtering: 697\n"
     ]
    }
   ],
   "source": [
    "df = clean_found_clusters(df)"
   ]
  },
  {
   "cell_type": "code",
   "execution_count": 7,
   "metadata": {},
   "outputs": [],
   "source": [
    "df.to_csv('cluster_df.csv',sep=';',decimal=',')\n",
    "df.to_parquet('cluster_df.parquet')\n",
    "df.to_pickle('cluster_df.pickle')"
   ]
  },
  {
   "cell_type": "code",
   "execution_count": null,
   "metadata": {},
   "outputs": [
    {
     "data": {
      "text/html": [
       "<div>\n",
       "<style scoped>\n",
       "    .dataframe tbody tr th:only-of-type {\n",
       "        vertical-align: middle;\n",
       "    }\n",
       "\n",
       "    .dataframe tbody tr th {\n",
       "        vertical-align: top;\n",
       "    }\n",
       "\n",
       "    .dataframe thead th {\n",
       "        text-align: right;\n",
       "    }\n",
       "</style>\n",
       "<table border=\"1\" class=\"dataframe\">\n",
       "  <thead>\n",
       "    <tr style=\"text-align: right;\">\n",
       "      <th></th>\n",
       "      <th>start_a</th>\n",
       "      <th>end_a</th>\n",
       "      <th>start_b</th>\n",
       "      <th>end_b</th>\n",
       "      <th>length</th>\n",
       "      <th>differenz</th>\n",
       "    </tr>\n",
       "  </thead>\n",
       "  <tbody>\n",
       "    <tr>\n",
       "      <th>0</th>\n",
       "      <td>2</td>\n",
       "      <td>10</td>\n",
       "      <td>28532</td>\n",
       "      <td>28540</td>\n",
       "      <td>8</td>\n",
       "      <td>28530</td>\n",
       "    </tr>\n",
       "    <tr>\n",
       "      <th>1</th>\n",
       "      <td>105</td>\n",
       "      <td>124</td>\n",
       "      <td>127</td>\n",
       "      <td>146</td>\n",
       "      <td>19</td>\n",
       "      <td>22</td>\n",
       "    </tr>\n",
       "    <tr>\n",
       "      <th>2</th>\n",
       "      <td>225</td>\n",
       "      <td>236</td>\n",
       "      <td>473</td>\n",
       "      <td>484</td>\n",
       "      <td>11</td>\n",
       "      <td>248</td>\n",
       "    </tr>\n",
       "    <tr>\n",
       "      <th>3</th>\n",
       "      <td>442</td>\n",
       "      <td>456</td>\n",
       "      <td>585</td>\n",
       "      <td>599</td>\n",
       "      <td>14</td>\n",
       "      <td>143</td>\n",
       "    </tr>\n",
       "    <tr>\n",
       "      <th>4</th>\n",
       "      <td>465</td>\n",
       "      <td>475</td>\n",
       "      <td>600</td>\n",
       "      <td>610</td>\n",
       "      <td>10</td>\n",
       "      <td>135</td>\n",
       "    </tr>\n",
       "    <tr>\n",
       "      <th>...</th>\n",
       "      <td>...</td>\n",
       "      <td>...</td>\n",
       "      <td>...</td>\n",
       "      <td>...</td>\n",
       "      <td>...</td>\n",
       "      <td>...</td>\n",
       "    </tr>\n",
       "    <tr>\n",
       "      <th>727</th>\n",
       "      <td>25197</td>\n",
       "      <td>25220</td>\n",
       "      <td>29361</td>\n",
       "      <td>29384</td>\n",
       "      <td>23</td>\n",
       "      <td>4164</td>\n",
       "    </tr>\n",
       "    <tr>\n",
       "      <th>728</th>\n",
       "      <td>25243</td>\n",
       "      <td>25252</td>\n",
       "      <td>28544</td>\n",
       "      <td>28553</td>\n",
       "      <td>9</td>\n",
       "      <td>3301</td>\n",
       "    </tr>\n",
       "    <tr>\n",
       "      <th>729</th>\n",
       "      <td>25418</td>\n",
       "      <td>25473</td>\n",
       "      <td>29029</td>\n",
       "      <td>29084</td>\n",
       "      <td>55</td>\n",
       "      <td>3611</td>\n",
       "    </tr>\n",
       "    <tr>\n",
       "      <th>730</th>\n",
       "      <td>25505</td>\n",
       "      <td>25518</td>\n",
       "      <td>28619</td>\n",
       "      <td>28632</td>\n",
       "      <td>13</td>\n",
       "      <td>3114</td>\n",
       "    </tr>\n",
       "    <tr>\n",
       "      <th>731</th>\n",
       "      <td>25649</td>\n",
       "      <td>25658</td>\n",
       "      <td>29902</td>\n",
       "      <td>29911</td>\n",
       "      <td>9</td>\n",
       "      <td>4253</td>\n",
       "    </tr>\n",
       "  </tbody>\n",
       "</table>\n",
       "<p>732 rows × 6 columns</p>\n",
       "</div>"
      ],
      "text/plain": [
       "     start_a  end_a  start_b  end_b  length  differenz\n",
       "0          2     10    28532  28540       8      28530\n",
       "1        105    124      127    146      19         22\n",
       "2        225    236      473    484      11        248\n",
       "3        442    456      585    599      14        143\n",
       "4        465    475      600    610      10        135\n",
       "..       ...    ...      ...    ...     ...        ...\n",
       "727    25197  25220    29361  29384      23       4164\n",
       "728    25243  25252    28544  28553       9       3301\n",
       "729    25418  25473    29029  29084      55       3611\n",
       "730    25505  25518    28619  28632      13       3114\n",
       "731    25649  25658    29902  29911       9       4253\n",
       "\n",
       "[732 rows x 6 columns]"
      ]
     },
     "execution_count": 11,
     "metadata": {},
     "output_type": "execute_result"
    }
   ],
   "source": [
    "df"
   ]
  },
  {
   "cell_type": "code",
   "execution_count": 1,
   "metadata": {},
   "outputs": [],
   "source": [
    "import pandas as pd\n",
    "import numpy as np\n",
    "from scipy import stats\n",
    "\n",
    "def detect_outliers_by_local_consistency(cluster_df, start_a_col='start_a', start_b_col='start_b', \n",
    "                                        window_size=5, z_threshold=3.0, verbose=True):\n",
    "    \"\"\"\n",
    "    Detects and filters outliers in start_b values based on local consistency of the relationship\n",
    "    between start_a and start_b. Uses a sliding window approach to analyze local patterns.\n",
    "    \n",
    "    Parameters:\n",
    "    -----------\n",
    "    cluster_df : pandas.DataFrame\n",
    "        DataFrame containing cluster information\n",
    "    start_a_col : str, default='start_a'\n",
    "        Column name for the start position in text A\n",
    "    start_b_col : str, default='start_b'\n",
    "        Column name for the start position in text B\n",
    "    window_size : int, default=5\n",
    "        Size of the sliding window for local consistency analysis\n",
    "    z_threshold : float, default=3.0\n",
    "        Z-score threshold for outlier detection\n",
    "    verbose : bool, default=True\n",
    "        Whether to print information about filtered clusters\n",
    "        \n",
    "    Returns:\n",
    "    --------\n",
    "    pandas.DataFrame\n",
    "        Filtered DataFrame with outliers removed\n",
    "    \"\"\"\n",
    "    # Make a copy of the input DataFrame to avoid modifying the original\n",
    "    df = cluster_df.copy()\n",
    "    \n",
    "    # Initial number of clusters\n",
    "    initial_count = len(df)\n",
    "    \n",
    "    # Make sure the DataFrame is sorted by start_a\n",
    "    df = df.sort_values(by=start_a_col).reset_index(drop=True)\n",
    "    \n",
    "    # Calculate the difference between start_b and start_a\n",
    "    df['diff'] = df[start_b_col] - df[start_a_col]\n",
    "    \n",
    "    # Initialize outlier mask\n",
    "    is_outlier = np.zeros(len(df), dtype=bool)\n",
    "    \n",
    "    # Sliding window approach to detect local outliers\n",
    "    for i in range(len(df)):\n",
    "        # Define window bounds (handle edge cases)\n",
    "        window_start = max(0, i - window_size // 2)\n",
    "        window_end = min(len(df), i + window_size // 2 + 1)\n",
    "        \n",
    "        # Get differences in the current window, excluding the current point\n",
    "        window_indices = list(range(window_start, window_end))\n",
    "        if i in window_indices:\n",
    "            window_indices.remove(i)\n",
    "        \n",
    "        if not window_indices:  # Skip if window is empty\n",
    "            continue\n",
    "            \n",
    "        window_diffs = df.loc[window_indices, 'diff'].values\n",
    "        \n",
    "        # Skip if window has less than 3 points (not enough for robust statistics)\n",
    "        if len(window_diffs) < 3:\n",
    "            continue\n",
    "        \n",
    "        # Calculate robust statistics for the window\n",
    "        median_diff = np.median(window_diffs)\n",
    "        mad = stats.median_abs_deviation(window_diffs, scale=1.4826)  # Consistent with normal distribution\n",
    "        \n",
    "        # Handle case where MAD is 0 (all points in window have same diff)\n",
    "        if mad == 0:\n",
    "            # Use a small default value\n",
    "            mad = np.std(window_diffs) if np.std(window_diffs) > 0 else 1.0\n",
    "        \n",
    "        # Calculate z-score for the current point\n",
    "        current_diff = df.loc[i, 'diff']\n",
    "        z_score = abs(current_diff - median_diff) / mad\n",
    "        \n",
    "        # Mark as outlier if z-score exceeds threshold\n",
    "        if z_score > z_threshold:\n",
    "            is_outlier[i] = True\n",
    "    \n",
    "    # Count and remove outliers\n",
    "    outlier_count = np.sum(is_outlier)\n",
    "    filtered_df = df[~is_outlier].copy()\n",
    "    \n",
    "    # Drop the temporary column\n",
    "    filtered_df = filtered_df.drop('diff', axis=1)\n",
    "    \n",
    "    # Print summary if verbose\n",
    "    if verbose:\n",
    "        print(f\"Initial clusters: {initial_count}\")\n",
    "        print(f\"Outliers detected: {outlier_count}\")\n",
    "        print(f\"Remaining clusters after filtering: {len(filtered_df)}\")\n",
    "        \n",
    "        if outlier_count > 0:\n",
    "            # Show some examples of detected outliers\n",
    "            outlier_examples = df[is_outlier].head(min(5, outlier_count))\n",
    "            print(\"\\nExample outliers:\")\n",
    "            for idx, row in outlier_examples.iterrows():\n",
    "                print(f\"Row {idx}: start_a={row[start_a_col]}, start_b={row[start_b_col]}, \" \n",
    "                      f\"diff={row['diff']}\")\n",
    "    \n",
    "    return filtered_df, outlier_count"
   ]
  },
  {
   "cell_type": "code",
   "execution_count": 2,
   "metadata": {},
   "outputs": [],
   "source": [
    "def is_column_ascending(df, column_name):\n",
    "    values = df[column_name]\n",
    "    return values.equals(values.sort_values(ignore_index=False))"
   ]
  },
  {
   "cell_type": "code",
   "execution_count": null,
   "metadata": {},
   "outputs": [],
   "source": [
    "def delete_not_ascending_cluster(df, text_a_name='a', text_b_name='b'):\n",
    "    # Errorhandling\n",
    "\n",
    "    column_name_a= f'start_{text_a_name}'\n",
    "    column_name_b= f'start_{text_b_name}'\n",
    "\n",
    "    if df.empty:\n",
    "        raise ValueError(\"DataFrame is empty\")   \n",
    "     \n",
    "    if column_name_a not in df.columns:\n",
    "        raise KeyError(f\"Column '{column_name_a}' not found in DataFrame\")\n",
    "    if column_name_b not in df.columns:\n",
    "        raise KeyError(f\"Column '{column_name_b}' not found in DataFrame\")\n",
    "    \n",
    "    df = remove_overlapping_clusters(df,column_name_a,f'end_{text_a_name}')\n",
    "\n",
    "    z_thresh = [4,3.5,3,2.8,2.5,2,2,1.8,1.5,1]\n",
    "    win_size = [15,15,13,11,9,20,7,5,15,3]\n",
    "    parameter_set = 0\n",
    "    while not is_column_ascending(df,column_name_b):\n",
    "        df, outlier_count = detect_outliers_by_local_consistency(df,column_name_a,column_name_b,win_size[parameter_set],z_thresh[parameter_set])\n",
    "        if outlier_count == 0:\n",
    "            parameter_set += 1\n",
    "            if parameter_set == len(z_thresh):\n",
    "                print('not all wrong clusters removed')\n",
    "                return df\n",
    "    return df"
   ]
  },
  {
   "cell_type": "code",
   "execution_count": 57,
   "metadata": {},
   "outputs": [
    {
     "data": {
      "text/plain": [
       "True"
      ]
     },
     "execution_count": 57,
     "metadata": {},
     "output_type": "execute_result"
    }
   ],
   "source": [
    "is_column_ascending(df,'start_a')"
   ]
  },
  {
   "cell_type": "code",
   "execution_count": 73,
   "metadata": {},
   "outputs": [
    {
     "data": {
      "text/plain": [
       "False"
      ]
     },
     "execution_count": 73,
     "metadata": {},
     "output_type": "execute_result"
    }
   ],
   "source": [
    "is_column_ascending(df,'start_b')"
   ]
  },
  {
   "cell_type": "code",
   "execution_count": 76,
   "metadata": {},
   "outputs": [
    {
     "name": "stdout",
     "output_type": "stream",
     "text": [
      "1031\n",
      "1113\n",
      "1128\n",
      "1140\n",
      "1159\n",
      "1277\n",
      "1289\n",
      "1468\n",
      "1479\n",
      "1656\n",
      "1677\n",
      "1703\n",
      "1720\n",
      "1758\n",
      "1791\n",
      "2283\n",
      "2292\n",
      "2360\n",
      "2419\n",
      "2485\n",
      "2567\n",
      "2633\n",
      "2784\n",
      "2793\n",
      "2802\n",
      "2831\n",
      "2840\n",
      "2854\n",
      "2867\n",
      "3087\n",
      "3131\n",
      "3154\n",
      "3688\n",
      "3914\n",
      "3928\n",
      "3937\n",
      "3962\n",
      "3972\n",
      "3997\n",
      "4028\n",
      "4248\n",
      "4258\n",
      "4274\n",
      "4296\n",
      "4360\n",
      "4376\n",
      "4400\n",
      "4423\n",
      "4441\n",
      "4468\n",
      "4692\n",
      "4719\n",
      "4735\n",
      "5062\n",
      "5071\n",
      "5121\n",
      "5163\n",
      "5179\n",
      "5288\n",
      "5317\n",
      "5341\n",
      "5371\n",
      "5413\n",
      "5426\n",
      "5445\n",
      "5468\n",
      "5501\n",
      "5524\n",
      "5587\n",
      "5627\n",
      "5659\n",
      "6627\n",
      "6648\n",
      "6682\n",
      "6706\n",
      "6721\n",
      "6767\n",
      "6815\n",
      "6889\n",
      "7577\n",
      "7595\n",
      "7610\n",
      "7657\n",
      "7766\n",
      "7817\n",
      "7890\n",
      "8010\n",
      "8368\n",
      "8523\n",
      "8548\n",
      "8573\n",
      "8584\n",
      "8593\n",
      "8631\n",
      "8663\n",
      "8731\n",
      "8768\n",
      "8791\n",
      "8814\n",
      "8846\n",
      "8870\n",
      "10072\n",
      "10081\n",
      "10092\n",
      "10101\n",
      "10125\n",
      "10214\n",
      "10224\n",
      "10305\n",
      "10331\n",
      "10341\n",
      "10357\n",
      "10395\n",
      "10427\n",
      "10436\n",
      "10485\n",
      "10504\n",
      "10694\n",
      "10729\n",
      "10747\n",
      "10757\n",
      "11825\n",
      "11825\n",
      "11847\n",
      "11847\n",
      "11902\n",
      "11937\n",
      "11953\n",
      "12000\n",
      "12020\n",
      "12041\n",
      "12089\n",
      "12115\n",
      "12132\n",
      "12198\n",
      "12230\n",
      "12247\n",
      "12272\n",
      "12282\n",
      "12272\n",
      "_________________\n",
      "12282\n",
      "12354\n",
      "12544\n",
      "12558\n",
      "12580\n",
      "12599\n",
      "12608\n",
      "12638\n",
      "12667\n",
      "12687\n",
      "12696\n",
      "12732\n",
      "12792\n",
      "12809\n",
      "12825\n",
      "12853\n",
      "12875\n",
      "13046\n",
      "13059\n",
      "13071\n",
      "13080\n",
      "13156\n",
      "13351\n",
      "13368\n",
      "13402\n",
      "13426\n",
      "13469\n",
      "13809\n",
      "13835\n",
      "13913\n",
      "13965\n",
      "13978\n",
      "14187\n",
      "14201\n",
      "14220\n",
      "14269\n",
      "14297\n",
      "14347\n",
      "14366\n",
      "14393\n",
      "14435\n",
      "14444\n",
      "14508\n",
      "14526\n",
      "14576\n",
      "14625\n",
      "14639\n",
      "14655\n",
      "14671\n",
      "14687\n",
      "14707\n",
      "14790\n",
      "14799\n",
      "14901\n",
      "14924\n",
      "14933\n",
      "14948\n",
      "14980\n",
      "14998\n",
      "15043\n",
      "15062\n",
      "15073\n",
      "15135\n",
      "15175\n",
      "15199\n",
      "15674\n",
      "15691\n",
      "15701\n",
      "15733\n",
      "15743\n",
      "15876\n",
      "16167\n",
      "16204\n",
      "16455\n",
      "16488\n",
      "16509\n",
      "16521\n",
      "16537\n",
      "16556\n",
      "16568\n",
      "16580\n",
      "16601\n",
      "16670\n",
      "16732\n",
      "16815\n",
      "16934\n",
      "16999\n",
      "17118\n",
      "17138\n",
      "17172\n",
      "17189\n",
      "17201\n",
      "17253\n",
      "17280\n",
      "17321\n",
      "17349\n",
      "17360\n",
      "17382\n",
      "17392\n",
      "17406\n",
      "17454\n",
      "17493\n",
      "17558\n",
      "17600\n",
      "17610\n",
      "17644\n",
      "17659\n",
      "17680\n",
      "17801\n",
      "17818\n",
      "17840\n",
      "18072\n",
      "18082\n",
      "18095\n",
      "18095\n",
      "18117\n",
      "18117\n",
      "18226\n",
      "18349\n",
      "18387\n",
      "18405\n",
      "18416\n",
      "18425\n",
      "18453\n",
      "18968\n",
      "19252\n",
      "19275\n",
      "19387\n",
      "19410\n",
      "19431\n",
      "19460\n",
      "19472\n",
      "19548\n",
      "19571\n",
      "19587\n",
      "19600\n",
      "19637\n",
      "19682\n",
      "20126\n",
      "20153\n",
      "20195\n",
      "20223\n",
      "20241\n",
      "20318\n",
      "20357\n",
      "20410\n",
      "20474\n",
      "20599\n",
      "20699\n",
      "20797\n",
      "20838\n",
      "20875\n",
      "20911\n",
      "20928\n",
      "20944\n",
      "20978\n",
      "21054\n",
      "21361\n",
      "21398\n",
      "21419\n",
      "21492\n",
      "21508\n",
      "21545\n",
      "21564\n",
      "21579\n",
      "21624\n",
      "21750\n",
      "21772\n",
      "21807\n",
      "21991\n",
      "22000\n",
      "22034\n",
      "22046\n",
      "22071\n",
      "22115\n",
      "22377\n",
      "22420\n",
      "22483\n",
      "22553\n",
      "22562\n",
      "22588\n",
      "22623\n",
      "22649\n",
      "22666\n",
      "22713\n",
      "22732\n",
      "22762\n",
      "22775\n",
      "22795\n",
      "22821\n",
      "22862\n",
      "22881\n",
      "22932\n",
      "22971\n",
      "22981\n",
      "23001\n",
      "23090\n",
      "23099\n",
      "23133\n",
      "23166\n",
      "24236\n",
      "24284\n",
      "24295\n",
      "24339\n",
      "24357\n",
      "24377\n",
      "24445\n",
      "24511\n",
      "24538\n",
      "24617\n",
      "24629\n",
      "24758\n",
      "24791\n",
      "24932\n",
      "24985\n",
      "25105\n",
      "25197\n",
      "26185\n",
      "26229\n",
      "26257\n",
      "26272\n",
      "26283\n",
      "26293\n",
      "26326\n",
      "26788\n",
      "26812\n",
      "26846\n",
      "26857\n",
      "26873\n",
      "26882\n",
      "26911\n",
      "26934\n",
      "26953\n",
      "26967\n",
      "26982\n",
      "26995\n",
      "27019\n",
      "27059\n",
      "27070\n"
     ]
    }
   ],
   "source": [
    "last = 0\n",
    "for i in df['start_b'].values:\n",
    "    print(i)\n",
    "    if i <last:\n",
    "        print('_________________')\n",
    "    last = i"
   ]
  },
  {
   "cell_type": "code",
   "execution_count": 83,
   "metadata": {},
   "outputs": [
    {
     "data": {
      "text/html": [
       "<div>\n",
       "<style scoped>\n",
       "    .dataframe tbody tr th:only-of-type {\n",
       "        vertical-align: middle;\n",
       "    }\n",
       "\n",
       "    .dataframe tbody tr th {\n",
       "        vertical-align: top;\n",
       "    }\n",
       "\n",
       "    .dataframe thead th {\n",
       "        text-align: right;\n",
       "    }\n",
       "</style>\n",
       "<table border=\"1\" class=\"dataframe\">\n",
       "  <thead>\n",
       "    <tr style=\"text-align: right;\">\n",
       "      <th></th>\n",
       "      <th>start_a</th>\n",
       "      <th>end_a</th>\n",
       "      <th>start_b</th>\n",
       "      <th>end_b</th>\n",
       "      <th>length</th>\n",
       "      <th>differenz</th>\n",
       "    </tr>\n",
       "  </thead>\n",
       "  <tbody>\n",
       "    <tr>\n",
       "      <th>261</th>\n",
       "      <td>7751</td>\n",
       "      <td>7776</td>\n",
       "      <td>12247</td>\n",
       "      <td>12272</td>\n",
       "      <td>25</td>\n",
       "      <td>4496</td>\n",
       "    </tr>\n",
       "    <tr>\n",
       "      <th>264</th>\n",
       "      <td>7812</td>\n",
       "      <td>7880</td>\n",
       "      <td>12272</td>\n",
       "      <td>12340</td>\n",
       "      <td>68</td>\n",
       "      <td>4460</td>\n",
       "    </tr>\n",
       "    <tr>\n",
       "      <th>269</th>\n",
       "      <td>7938</td>\n",
       "      <td>7960</td>\n",
       "      <td>12354</td>\n",
       "      <td>12376</td>\n",
       "      <td>22</td>\n",
       "      <td>4416</td>\n",
       "    </tr>\n",
       "  </tbody>\n",
       "</table>\n",
       "</div>"
      ],
      "text/plain": [
       "     start_a  end_a  start_b  end_b  length  differenz\n",
       "261     7751   7776    12247  12272      25       4496\n",
       "264     7812   7880    12272  12340      68       4460\n",
       "269     7938   7960    12354  12376      22       4416"
      ]
     },
     "execution_count": 83,
     "metadata": {},
     "output_type": "execute_result"
    }
   ],
   "source": [
    "df[df['start_b'].isin([12247,12272,12282,12354])]"
   ]
  },
  {
   "cell_type": "code",
   "execution_count": 3,
   "metadata": {},
   "outputs": [],
   "source": [
    "def remove_overlapping_clusters(cluster_df, start_a_col='start_a', end_a_col='end_a', verbose=True):\n",
    "    \"\"\"\n",
    "    Removes rows where start_a is smaller than the end_a of the previous row.\n",
    "    This ensures that clusters do not overlap in text A.\n",
    "    \n",
    "    Parameters:\n",
    "    -----------\n",
    "    cluster_df : pandas.DataFrame\n",
    "        DataFrame containing cluster information\n",
    "    start_a_col : str, default='start_a'\n",
    "        Column name for the start position in text A\n",
    "    end_a_col : str, default='end_a'\n",
    "        Column name for the end position in text A\n",
    "    verbose : bool, default=True\n",
    "        Whether to print information about removed rows\n",
    "        \n",
    "    Returns:\n",
    "    --------\n",
    "    pandas.DataFrame\n",
    "        Filtered DataFrame with overlapping clusters removed\n",
    "    \"\"\"\n",
    "    # Make a copy of the input DataFrame to avoid modifying the original\n",
    "    df = cluster_df.copy()\n",
    "    \n",
    "    # Initial number of clusters\n",
    "    initial_count = len(df)\n",
    "    \n",
    "    # Make sure the DataFrame is sorted by start_a\n",
    "    df = df.sort_values(by=start_a_col).reset_index(drop=True)\n",
    "    \n",
    "    # Initialize mask for valid rows (non-overlapping)\n",
    "    valid_rows = pd.Series(True, index=df.index)\n",
    "    \n",
    "    # Previous end_a value\n",
    "    prev_end_a = None\n",
    "    \n",
    "    # Check each row for overlap with previous\n",
    "    for idx in df.index:\n",
    "        current_start_a = df.loc[idx, start_a_col]\n",
    "        \n",
    "        # Skip first row\n",
    "        if prev_end_a is not None:\n",
    "            # If current start_a is smaller than previous end_a, mark as invalid\n",
    "            if current_start_a < prev_end_a:\n",
    "                valid_rows[idx] = False\n",
    "        \n",
    "        # Update previous end_a\n",
    "        prev_end_a = df.loc[idx, end_a_col]\n",
    "    \n",
    "    # Apply the mask to filter out overlapping rows\n",
    "    filtered_df = df[valid_rows].copy()\n",
    "    \n",
    "    # Count removed rows\n",
    "    removed_count = initial_count - len(filtered_df)\n",
    "    \n",
    "    # Print summary if verbose\n",
    "    if verbose:\n",
    "        print(f\"Initial clusters: {initial_count}\")\n",
    "        print(f\"Overlapping clusters removed: {removed_count}\")\n",
    "        print(f\"Remaining clusters: {len(filtered_df)}\")\n",
    "        \n",
    "    return filtered_df\n",
    "\n",
    "# Example usage:\n",
    "# filtered_df = remove_overlapping_clusters(cluster_df)"
   ]
  },
  {
   "cell_type": "code",
   "execution_count": 82,
   "metadata": {},
   "outputs": [
    {
     "name": "stdout",
     "output_type": "stream",
     "text": [
      "Initial clusters: 732\n",
      "Overlapping clusters removed: 5\n",
      "Remaining clusters: 727\n"
     ]
    }
   ],
   "source": [
    "df=remove_overlapping_clusters(df)"
   ]
  },
  {
   "cell_type": "code",
   "execution_count": 17,
   "metadata": {},
   "outputs": [
    {
     "data": {
      "application/vnd.plotly.v1+json": {
       "config": {
        "plotlyServerURL": "https://plot.ly"
       },
       "data": [
        {
         "hovertemplate": "index=%{x}<br>start_b=%{y}<extra></extra>",
         "legendgroup": "",
         "line": {
          "color": "#636efa",
          "dash": "solid"
         },
         "marker": {
          "symbol": "circle"
         },
         "mode": "lines",
         "name": "",
         "orientation": "v",
         "showlegend": false,
         "type": "scatter",
         "x": {
          "bdata": "AAABAAIAAwAEAAUABgAHAAgACQAKAAsADAANAA4ADwAQABEAEgATABQAFQAWABcAGAAZABoAGwAcAB0AHgAfACAAIQAiACMAJAAlACYAJwAoACkAKgArACwALQAuAC8AMAAxADIAMwA0ADUANgA3ADgAOQA6ADsAPAA9AD4APwBAAEEAQgBDAEQARQBGAEcASABJAEoASwBMAE0ATgBPAFAAUQBSAFMAVABVAFYAVwBYAFkAWgBbAFwAXQBeAF8AYABhAGIAYwBkAGUAZgBnAGgAaQBqAGsAbABtAG4AbwBwAHEAcgBzAHQAdQB2AHcAeAB5AHoAewB8AH0AfgB/AIAAgQCCAIMAhACFAIYAhwCIAIkAigCLAIwAjQCOAI8AkACRAJIAkwCUAJUAlgCXAJgAmQCaAJsAnACdAJ4AnwCgAKEAogCjAKQApQCmAKcAqACpAKoAqwCsAK0ArgCvALAAsQCyALMAtAC1ALYAtwC4ALkAugC7ALwAvQC+AL8AwADBAMIAwwDEAMUAxgDHAMgAyQDKAMsAzADNAM4AzwDQANEA0gDTANQA1QDWANcA2ADZANoA2wDcAN0A3gDfAOAA4QDiAOMA5ADlAOYA5wDoAOkA6gDrAOwA7QDuAO8A8ADxAPIA8wD0APUA9gD3APgA+QD6APsA/AD9AP4A/wAAAQEBAgEDAQQBBQEGAQcBCAEJAQoBCwEMAQ0BDgEPARABEQESARMBFAEVARYBFwEYARkBGgEbARwBHQEeAR8BIAEhASIBIwEkASUBJgEnASgBKQEqASsBLAEtAS4BLwEwATEBMgEzATQBNQE2ATcBOAE5AToBOwE8AT0BPgE/AUABQQFCAUMBRAFFAUYBRwFIAUkBSgFLAUwBTQFOAU8BUAFRAVIBUwFUAVUBVgFXAVgBWQFaAVsBXAFdAV4BXwFgAWEBYgFjAWQBZQFmAWcBaAFpAWoBawFsAW0BbgFvAXABcQFyAXMBdAF1AXYBdwF4AXkBegF7AXwBfQF+AX8BgAGBAYIBgwGEAYUBhgGHAYgBiQGKAYsBjAGNAY4BjwGQAZEBkgGTAZQBlQGWAZcBmAGZAZoBmwGcAZ0BngGfAaABoQGiAaMBpAGlAaYBpwGoAakBqgGrAawBrQGuAa8BsAGxAbIBswG0AbUBtgG3AbgBuQG6AbsBvAG9Ab4BvwHAAcEBwgHDAcQBxQHGAccByAHJAcoBywHMAc0BzgHPAdAB0QHSAdMB1AHVAdYB1wHYAdkB2gHbAdwB3QHeAd8B4AHhAeIB4wHkAeUB5gHnAegB6QHqAesB7AHtAe4B7wHwAfEB8gHzAfQB9QH2AfcB+AH5AfoB+wH8Af0B/gH/AQACAQICAgMCBAIFAgYCBwIIAgkCCgILAgwCDQIOAg8CEAIRAhICEwIUAhUCFgIXAhgCGQIaAhsCHAIdAh4CHwIgAiECIgIjAiQCJQImAicCKAIpAioCKwIsAi0CLgIvAjACMQIyAjMCNAI1AjYCNwI4AjkCOgI7AjwCPQI+Aj8CQAJBAkICQwI=",
          "dtype": "i2"
         },
         "xaxis": "x",
         "y": {
          "bdata": "fwAAANkBAABJAgAAWAIAAMIDAADmAwAABwQAABwEAABZBAAA5DkAAP0EAAAJBQAAIQUAAPkFAACVOAAAJAYAADYGAAC+OAAAeAYAAI0GAAC4BgAA3gYAAP0IAAA4CQAA2wkAAAcKAABJCgAAmAoAAKYKAACzCgAAwwoAANUKAADyCgAAGAsAACYLAAAzCwAADwwAADsMAABiCgAAfwoAACUNAABIDQAAWg0AAIENAACgDQAAaA4AAN0OAADoDgAA/A4AACgPAAA6DwAASg8AAGEPAACEDwAAnQ8AALwPAACtDgAA5g8AAPkPAAANEAAAGxAAAKIQAACyEAAAyBAAAAgRAAAYEQAAMBEAAEcRAABZEQAAdBEAAK4RAADJEQAA2hEAAPIRAAAKEgAAVBIAAG8SAAB/EgAAzxMAAAEUAAArFAAAOxQAAKgUAADFFAAA3RQAAPsUAAAlFQAAMhUAAEUVAABcFQAAfRUAAJQVAADTFQAA+xUAANQfAAAMIAAAICAAAOMZAABBGgAAXhoAAKwaAACfGgAA6RoAAKsdAAC6HQAAVh4AAIkeAAC0HgAASh8AAAMiAACwIAAA/yAAAH0hAAC3IQAAGyIAAEAiAABXIgAAbiIAAI4iAACmIgAABSUAAC0lAABCJQAAYSUAAKAlAACtJQAA2CUAAPUlAAASJgAAJiYAAI0mAACjJgAAsCYAABQnAABAJwAAYScAAHUnAACNJwAAQSgAAGUoAAB1KAAAmygAAMQoAAD1KAAACCkAAKUpAADGKQAA6SkAAAUqAACEKAAAuCoAAMsqAABvLQAAby0AAH8tAAB/LQAA/CoAAA4rAAAuKwAATisAAHErAACaKwAA1ysAAG8qAABcLAAAmCwAAKosAADWLAAA6ywAAIYqAAATLQAAKC0AAE8tAABoLQAAoC0AANEtAABHLgAARy4AAH4uAADgLgAA9C4AAAkvAAA5LwAAUy8AAGQvAAB+LwAApi8AAMYvAADXLwAAzy4AAM8uAADwLwAA+i8AAPAvAAD6LwAAQjAAAEIwAAB0MAAAsTAAAMgwAAAAMQAAJDEAAEAxAABeMQAAezEAAJgxAAC8MQAACTIAABkyAAA1MgAASzIAAIQyAACcMgAAsDIAALsyAADeMgAAWTIAAGoyAAD2MgAAAzMAABgzAAA8MwAASzMAAGQzAACBMwAAsDMAAM4zAAAnNAAAODQAAFo0AACdNAAA8TUAAAs2AAA/NgAAWTYAAGQ2AACNNgAAmjYAAGs3AAB5NwAAjDcAAL03AADZNwAACzgAAB44AAA5OAAAbDgAAL44AADwOAAAPzkAAE85AABfOQAAczkAAM85AAA1OgAAZDoAAIQ6AACWOgAAwzoAANY6AADhOgAAHzsAAEc7AABfOwAAgjsAAK47AAA3PAAAcDwAAJU8AACjPAAAwzwAAOY8AAA6PQAAVT0AAH89AAAEPgAAWD4AAGw+AADQPgAA6T4AACQ+AAA+PgAAJz8AAEw/AABiPwAAgT8AAJY/AACmPwAAuD8AAMU/AAD1PwAAE0AAACpAAABIPgAAR0AAAGhAAAB9QAAAiUAAAJlAAACsQAAAuEAAAMRAAADZQAAAHkEAAFxBAACvQQAAJkIAAGdCAACbQgAA/EIAABRDAAAlQwAAMUMAAGVDAACAQwAAqUMAAMVDAADQQwAA8EMAAP5DAAAuRAAAVUQAAJZEAABRQwAAUUMAAMBEAADKRAAA7EQAABBFAABgRQAAiUUAAJpFAACwRQAA3kUAAAZGAAAURgAAQUYAAHJGAACiRgAACQUAAAkFAADFRgAACQUAAMVGAAAJBQAACQUAAAkFAAAMRwAAMkcAAEZHAABbSAAArUcAANNHAADlRwAA+UcAAARIAAAVSAAAKkkAAENJAABjSQAAeEkAAPYoAACuSQAACQUAAAkFAAAYSgAAMEoAAFFKAABoSgAAlUoAAEdKAAD6SgAAHUsAAEtLAAC7SwAA0ksAAOdLAAAETAAAEEwAAFxMAABzTAAAg0wAAJBMAAC1TAAA4kwAAH1LAAAfTQAAMU0AAFBNAAB4TQAAm00AAL1NAAAZTgAAP04AAG5OAACeTgAAuU4AAONOAAD/TgAAEU8AAIVPAAC6TwAAI1AAAIROAABfUAAAd1AAAD1RAABmUQAAi1EAAK9RAADAUQAA0FEAAPJRAABxUwAAllMAAKtTAAD0UwAABFQAAClUAAA8VAAAS1QAAGNUAAB4VAAAhFQAAMhUAADjVAAA9lQAAAxVAAAvVQAAQFUAAGFVAADwVQAAElYAAB5WAAA3VgAAWFYAAGNWAAC0VgAAzVYAAOVWAAAFVwAAHFcAAGlXAACUVwAA01cAACJYAAA8WAAAX1gAAHlYAACKWAAAuVgAAMxYAADqWAAA91gAAAtZAAAlWQAATlkAAGFZAACUWQAAxVkAANlZAADwWQAAO1oAAF1aAAB+WgAAlloAAK1aAAC4WgAAxloAAD1bAABlWwAAclsAAJFbAACjWwAAzVsAAA9cAAAwXAAAVVwAALxdAADPXQAA210AAGtcAACSXAAAnVwAAL1cAADZXAAA51wAAAhdAAAXXQAAMF0AAEldAAB0XQAA+10AABpeAAB1XgAAm14AAKxeAADcXgAA514AACVfAAA5XwAAfV8AAL9fAADqXwAAKWAAADVgAAB1YAAAiGAAALZgAADXYAAAD2EAAGRhAACZYQAAEWIAAG1iAACVYgAAsGIAAC5kAABSZAAAcmQAAJVkAAC+ZAAAzGQAAOhkAAAoZgAASWYAAHVmAACRZgAAoGYAALVmAADWZgAAH2cAADNnAABWZwAAdmcAAIVnAACmZwAA2GcAAABoAAAVaAAAb2gAAG9oAACkaAAAvGgAAOloAAACaQAAH2kAADZpAABXaQAAZmkAAItpAAC+aQAAJmoAAD5qAABJagAAWmoAAHtqAACHagAAm2oAALZqAADAagAA22oAAPtqAAAQawAALWsAAFBtAABybQAAim0AAKltAAArbQAAK24AAE9uAABjbgAAi24AAOhuAABwcgAAh3IAALFyAABlcQAAy28AAA==",
          "dtype": "i4"
         },
         "yaxis": "y"
        }
       ],
       "layout": {
        "legend": {
         "tracegroupgap": 0
        },
        "margin": {
         "t": 60
        },
        "template": {
         "data": {
          "bar": [
           {
            "error_x": {
             "color": "#2a3f5f"
            },
            "error_y": {
             "color": "#2a3f5f"
            },
            "marker": {
             "line": {
              "color": "#E5ECF6",
              "width": 0.5
             },
             "pattern": {
              "fillmode": "overlay",
              "size": 10,
              "solidity": 0.2
             }
            },
            "type": "bar"
           }
          ],
          "barpolar": [
           {
            "marker": {
             "line": {
              "color": "#E5ECF6",
              "width": 0.5
             },
             "pattern": {
              "fillmode": "overlay",
              "size": 10,
              "solidity": 0.2
             }
            },
            "type": "barpolar"
           }
          ],
          "carpet": [
           {
            "aaxis": {
             "endlinecolor": "#2a3f5f",
             "gridcolor": "white",
             "linecolor": "white",
             "minorgridcolor": "white",
             "startlinecolor": "#2a3f5f"
            },
            "baxis": {
             "endlinecolor": "#2a3f5f",
             "gridcolor": "white",
             "linecolor": "white",
             "minorgridcolor": "white",
             "startlinecolor": "#2a3f5f"
            },
            "type": "carpet"
           }
          ],
          "choropleth": [
           {
            "colorbar": {
             "outlinewidth": 0,
             "ticks": ""
            },
            "type": "choropleth"
           }
          ],
          "contour": [
           {
            "colorbar": {
             "outlinewidth": 0,
             "ticks": ""
            },
            "colorscale": [
             [
              0,
              "#0d0887"
             ],
             [
              0.1111111111111111,
              "#46039f"
             ],
             [
              0.2222222222222222,
              "#7201a8"
             ],
             [
              0.3333333333333333,
              "#9c179e"
             ],
             [
              0.4444444444444444,
              "#bd3786"
             ],
             [
              0.5555555555555556,
              "#d8576b"
             ],
             [
              0.6666666666666666,
              "#ed7953"
             ],
             [
              0.7777777777777778,
              "#fb9f3a"
             ],
             [
              0.8888888888888888,
              "#fdca26"
             ],
             [
              1,
              "#f0f921"
             ]
            ],
            "type": "contour"
           }
          ],
          "contourcarpet": [
           {
            "colorbar": {
             "outlinewidth": 0,
             "ticks": ""
            },
            "type": "contourcarpet"
           }
          ],
          "heatmap": [
           {
            "colorbar": {
             "outlinewidth": 0,
             "ticks": ""
            },
            "colorscale": [
             [
              0,
              "#0d0887"
             ],
             [
              0.1111111111111111,
              "#46039f"
             ],
             [
              0.2222222222222222,
              "#7201a8"
             ],
             [
              0.3333333333333333,
              "#9c179e"
             ],
             [
              0.4444444444444444,
              "#bd3786"
             ],
             [
              0.5555555555555556,
              "#d8576b"
             ],
             [
              0.6666666666666666,
              "#ed7953"
             ],
             [
              0.7777777777777778,
              "#fb9f3a"
             ],
             [
              0.8888888888888888,
              "#fdca26"
             ],
             [
              1,
              "#f0f921"
             ]
            ],
            "type": "heatmap"
           }
          ],
          "histogram": [
           {
            "marker": {
             "pattern": {
              "fillmode": "overlay",
              "size": 10,
              "solidity": 0.2
             }
            },
            "type": "histogram"
           }
          ],
          "histogram2d": [
           {
            "colorbar": {
             "outlinewidth": 0,
             "ticks": ""
            },
            "colorscale": [
             [
              0,
              "#0d0887"
             ],
             [
              0.1111111111111111,
              "#46039f"
             ],
             [
              0.2222222222222222,
              "#7201a8"
             ],
             [
              0.3333333333333333,
              "#9c179e"
             ],
             [
              0.4444444444444444,
              "#bd3786"
             ],
             [
              0.5555555555555556,
              "#d8576b"
             ],
             [
              0.6666666666666666,
              "#ed7953"
             ],
             [
              0.7777777777777778,
              "#fb9f3a"
             ],
             [
              0.8888888888888888,
              "#fdca26"
             ],
             [
              1,
              "#f0f921"
             ]
            ],
            "type": "histogram2d"
           }
          ],
          "histogram2dcontour": [
           {
            "colorbar": {
             "outlinewidth": 0,
             "ticks": ""
            },
            "colorscale": [
             [
              0,
              "#0d0887"
             ],
             [
              0.1111111111111111,
              "#46039f"
             ],
             [
              0.2222222222222222,
              "#7201a8"
             ],
             [
              0.3333333333333333,
              "#9c179e"
             ],
             [
              0.4444444444444444,
              "#bd3786"
             ],
             [
              0.5555555555555556,
              "#d8576b"
             ],
             [
              0.6666666666666666,
              "#ed7953"
             ],
             [
              0.7777777777777778,
              "#fb9f3a"
             ],
             [
              0.8888888888888888,
              "#fdca26"
             ],
             [
              1,
              "#f0f921"
             ]
            ],
            "type": "histogram2dcontour"
           }
          ],
          "mesh3d": [
           {
            "colorbar": {
             "outlinewidth": 0,
             "ticks": ""
            },
            "type": "mesh3d"
           }
          ],
          "parcoords": [
           {
            "line": {
             "colorbar": {
              "outlinewidth": 0,
              "ticks": ""
             }
            },
            "type": "parcoords"
           }
          ],
          "pie": [
           {
            "automargin": true,
            "type": "pie"
           }
          ],
          "scatter": [
           {
            "fillpattern": {
             "fillmode": "overlay",
             "size": 10,
             "solidity": 0.2
            },
            "type": "scatter"
           }
          ],
          "scatter3d": [
           {
            "line": {
             "colorbar": {
              "outlinewidth": 0,
              "ticks": ""
             }
            },
            "marker": {
             "colorbar": {
              "outlinewidth": 0,
              "ticks": ""
             }
            },
            "type": "scatter3d"
           }
          ],
          "scattercarpet": [
           {
            "marker": {
             "colorbar": {
              "outlinewidth": 0,
              "ticks": ""
             }
            },
            "type": "scattercarpet"
           }
          ],
          "scattergeo": [
           {
            "marker": {
             "colorbar": {
              "outlinewidth": 0,
              "ticks": ""
             }
            },
            "type": "scattergeo"
           }
          ],
          "scattergl": [
           {
            "marker": {
             "colorbar": {
              "outlinewidth": 0,
              "ticks": ""
             }
            },
            "type": "scattergl"
           }
          ],
          "scattermap": [
           {
            "marker": {
             "colorbar": {
              "outlinewidth": 0,
              "ticks": ""
             }
            },
            "type": "scattermap"
           }
          ],
          "scattermapbox": [
           {
            "marker": {
             "colorbar": {
              "outlinewidth": 0,
              "ticks": ""
             }
            },
            "type": "scattermapbox"
           }
          ],
          "scatterpolar": [
           {
            "marker": {
             "colorbar": {
              "outlinewidth": 0,
              "ticks": ""
             }
            },
            "type": "scatterpolar"
           }
          ],
          "scatterpolargl": [
           {
            "marker": {
             "colorbar": {
              "outlinewidth": 0,
              "ticks": ""
             }
            },
            "type": "scatterpolargl"
           }
          ],
          "scatterternary": [
           {
            "marker": {
             "colorbar": {
              "outlinewidth": 0,
              "ticks": ""
             }
            },
            "type": "scatterternary"
           }
          ],
          "surface": [
           {
            "colorbar": {
             "outlinewidth": 0,
             "ticks": ""
            },
            "colorscale": [
             [
              0,
              "#0d0887"
             ],
             [
              0.1111111111111111,
              "#46039f"
             ],
             [
              0.2222222222222222,
              "#7201a8"
             ],
             [
              0.3333333333333333,
              "#9c179e"
             ],
             [
              0.4444444444444444,
              "#bd3786"
             ],
             [
              0.5555555555555556,
              "#d8576b"
             ],
             [
              0.6666666666666666,
              "#ed7953"
             ],
             [
              0.7777777777777778,
              "#fb9f3a"
             ],
             [
              0.8888888888888888,
              "#fdca26"
             ],
             [
              1,
              "#f0f921"
             ]
            ],
            "type": "surface"
           }
          ],
          "table": [
           {
            "cells": {
             "fill": {
              "color": "#EBF0F8"
             },
             "line": {
              "color": "white"
             }
            },
            "header": {
             "fill": {
              "color": "#C8D4E3"
             },
             "line": {
              "color": "white"
             }
            },
            "type": "table"
           }
          ]
         },
         "layout": {
          "annotationdefaults": {
           "arrowcolor": "#2a3f5f",
           "arrowhead": 0,
           "arrowwidth": 1
          },
          "autotypenumbers": "strict",
          "coloraxis": {
           "colorbar": {
            "outlinewidth": 0,
            "ticks": ""
           }
          },
          "colorscale": {
           "diverging": [
            [
             0,
             "#8e0152"
            ],
            [
             0.1,
             "#c51b7d"
            ],
            [
             0.2,
             "#de77ae"
            ],
            [
             0.3,
             "#f1b6da"
            ],
            [
             0.4,
             "#fde0ef"
            ],
            [
             0.5,
             "#f7f7f7"
            ],
            [
             0.6,
             "#e6f5d0"
            ],
            [
             0.7,
             "#b8e186"
            ],
            [
             0.8,
             "#7fbc41"
            ],
            [
             0.9,
             "#4d9221"
            ],
            [
             1,
             "#276419"
            ]
           ],
           "sequential": [
            [
             0,
             "#0d0887"
            ],
            [
             0.1111111111111111,
             "#46039f"
            ],
            [
             0.2222222222222222,
             "#7201a8"
            ],
            [
             0.3333333333333333,
             "#9c179e"
            ],
            [
             0.4444444444444444,
             "#bd3786"
            ],
            [
             0.5555555555555556,
             "#d8576b"
            ],
            [
             0.6666666666666666,
             "#ed7953"
            ],
            [
             0.7777777777777778,
             "#fb9f3a"
            ],
            [
             0.8888888888888888,
             "#fdca26"
            ],
            [
             1,
             "#f0f921"
            ]
           ],
           "sequentialminus": [
            [
             0,
             "#0d0887"
            ],
            [
             0.1111111111111111,
             "#46039f"
            ],
            [
             0.2222222222222222,
             "#7201a8"
            ],
            [
             0.3333333333333333,
             "#9c179e"
            ],
            [
             0.4444444444444444,
             "#bd3786"
            ],
            [
             0.5555555555555556,
             "#d8576b"
            ],
            [
             0.6666666666666666,
             "#ed7953"
            ],
            [
             0.7777777777777778,
             "#fb9f3a"
            ],
            [
             0.8888888888888888,
             "#fdca26"
            ],
            [
             1,
             "#f0f921"
            ]
           ]
          },
          "colorway": [
           "#636efa",
           "#EF553B",
           "#00cc96",
           "#ab63fa",
           "#FFA15A",
           "#19d3f3",
           "#FF6692",
           "#B6E880",
           "#FF97FF",
           "#FECB52"
          ],
          "font": {
           "color": "#2a3f5f"
          },
          "geo": {
           "bgcolor": "white",
           "lakecolor": "white",
           "landcolor": "#E5ECF6",
           "showlakes": true,
           "showland": true,
           "subunitcolor": "white"
          },
          "hoverlabel": {
           "align": "left"
          },
          "hovermode": "closest",
          "mapbox": {
           "style": "light"
          },
          "paper_bgcolor": "white",
          "plot_bgcolor": "#E5ECF6",
          "polar": {
           "angularaxis": {
            "gridcolor": "white",
            "linecolor": "white",
            "ticks": ""
           },
           "bgcolor": "#E5ECF6",
           "radialaxis": {
            "gridcolor": "white",
            "linecolor": "white",
            "ticks": ""
           }
          },
          "scene": {
           "xaxis": {
            "backgroundcolor": "#E5ECF6",
            "gridcolor": "white",
            "gridwidth": 2,
            "linecolor": "white",
            "showbackground": true,
            "ticks": "",
            "zerolinecolor": "white"
           },
           "yaxis": {
            "backgroundcolor": "#E5ECF6",
            "gridcolor": "white",
            "gridwidth": 2,
            "linecolor": "white",
            "showbackground": true,
            "ticks": "",
            "zerolinecolor": "white"
           },
           "zaxis": {
            "backgroundcolor": "#E5ECF6",
            "gridcolor": "white",
            "gridwidth": 2,
            "linecolor": "white",
            "showbackground": true,
            "ticks": "",
            "zerolinecolor": "white"
           }
          },
          "shapedefaults": {
           "line": {
            "color": "#2a3f5f"
           }
          },
          "ternary": {
           "aaxis": {
            "gridcolor": "white",
            "linecolor": "white",
            "ticks": ""
           },
           "baxis": {
            "gridcolor": "white",
            "linecolor": "white",
            "ticks": ""
           },
           "bgcolor": "#E5ECF6",
           "caxis": {
            "gridcolor": "white",
            "linecolor": "white",
            "ticks": ""
           }
          },
          "title": {
           "x": 0.05
          },
          "xaxis": {
           "automargin": true,
           "gridcolor": "white",
           "linecolor": "white",
           "ticks": "",
           "title": {
            "standoff": 15
           },
           "zerolinecolor": "white",
           "zerolinewidth": 2
          },
          "yaxis": {
           "automargin": true,
           "gridcolor": "white",
           "linecolor": "white",
           "ticks": "",
           "title": {
            "standoff": 15
           },
           "zerolinecolor": "white",
           "zerolinewidth": 2
          }
         }
        },
        "xaxis": {
         "anchor": "y",
         "domain": [
          0,
          1
         ],
         "title": {
          "text": "index"
         }
        },
        "yaxis": {
         "anchor": "x",
         "domain": [
          0,
          1
         ],
         "title": {
          "text": "start_b"
         }
        }
       }
      }
     },
     "metadata": {},
     "output_type": "display_data"
    }
   ],
   "source": []
  },
  {
   "cell_type": "code",
   "execution_count": 16,
   "metadata": {},
   "outputs": [
    {
     "data": {
      "text/html": [
       "<div>\n",
       "<style scoped>\n",
       "    .dataframe tbody tr th:only-of-type {\n",
       "        vertical-align: middle;\n",
       "    }\n",
       "\n",
       "    .dataframe tbody tr th {\n",
       "        vertical-align: top;\n",
       "    }\n",
       "\n",
       "    .dataframe thead th {\n",
       "        text-align: right;\n",
       "    }\n",
       "</style>\n",
       "<table border=\"1\" class=\"dataframe\">\n",
       "  <thead>\n",
       "    <tr style=\"text-align: right;\">\n",
       "      <th></th>\n",
       "      <th>start_a</th>\n",
       "      <th>end_a</th>\n",
       "      <th>start_b</th>\n",
       "      <th>end_b</th>\n",
       "      <th>length</th>\n",
       "      <th>differenz</th>\n",
       "    </tr>\n",
       "  </thead>\n",
       "  <tbody>\n",
       "    <tr>\n",
       "      <th>0</th>\n",
       "      <td>105</td>\n",
       "      <td>124</td>\n",
       "      <td>127</td>\n",
       "      <td>146</td>\n",
       "      <td>19</td>\n",
       "      <td>22</td>\n",
       "    </tr>\n",
       "    <tr>\n",
       "      <th>1</th>\n",
       "      <td>225</td>\n",
       "      <td>236</td>\n",
       "      <td>473</td>\n",
       "      <td>484</td>\n",
       "      <td>11</td>\n",
       "      <td>248</td>\n",
       "    </tr>\n",
       "    <tr>\n",
       "      <th>2</th>\n",
       "      <td>442</td>\n",
       "      <td>456</td>\n",
       "      <td>585</td>\n",
       "      <td>599</td>\n",
       "      <td>14</td>\n",
       "      <td>143</td>\n",
       "    </tr>\n",
       "    <tr>\n",
       "      <th>3</th>\n",
       "      <td>465</td>\n",
       "      <td>475</td>\n",
       "      <td>600</td>\n",
       "      <td>610</td>\n",
       "      <td>10</td>\n",
       "      <td>135</td>\n",
       "    </tr>\n",
       "    <tr>\n",
       "      <th>4</th>\n",
       "      <td>507</td>\n",
       "      <td>535</td>\n",
       "      <td>962</td>\n",
       "      <td>990</td>\n",
       "      <td>28</td>\n",
       "      <td>455</td>\n",
       "    </tr>\n",
       "    <tr>\n",
       "      <th>...</th>\n",
       "      <td>...</td>\n",
       "      <td>...</td>\n",
       "      <td>...</td>\n",
       "      <td>...</td>\n",
       "      <td>...</td>\n",
       "      <td>...</td>\n",
       "    </tr>\n",
       "    <tr>\n",
       "      <th>575</th>\n",
       "      <td>25145</td>\n",
       "      <td>25159</td>\n",
       "      <td>29296</td>\n",
       "      <td>29310</td>\n",
       "      <td>14</td>\n",
       "      <td>4151</td>\n",
       "    </tr>\n",
       "    <tr>\n",
       "      <th>576</th>\n",
       "      <td>25168</td>\n",
       "      <td>25178</td>\n",
       "      <td>29319</td>\n",
       "      <td>29329</td>\n",
       "      <td>10</td>\n",
       "      <td>4151</td>\n",
       "    </tr>\n",
       "    <tr>\n",
       "      <th>577</th>\n",
       "      <td>25197</td>\n",
       "      <td>25220</td>\n",
       "      <td>29361</td>\n",
       "      <td>29384</td>\n",
       "      <td>23</td>\n",
       "      <td>4164</td>\n",
       "    </tr>\n",
       "    <tr>\n",
       "      <th>578</th>\n",
       "      <td>25418</td>\n",
       "      <td>25473</td>\n",
       "      <td>29029</td>\n",
       "      <td>29084</td>\n",
       "      <td>55</td>\n",
       "      <td>3611</td>\n",
       "    </tr>\n",
       "    <tr>\n",
       "      <th>579</th>\n",
       "      <td>25505</td>\n",
       "      <td>25518</td>\n",
       "      <td>28619</td>\n",
       "      <td>28632</td>\n",
       "      <td>13</td>\n",
       "      <td>3114</td>\n",
       "    </tr>\n",
       "  </tbody>\n",
       "</table>\n",
       "<p>580 rows × 6 columns</p>\n",
       "</div>"
      ],
      "text/plain": [
       "     start_a  end_a  start_b  end_b  length  differenz\n",
       "0        105    124      127    146      19         22\n",
       "1        225    236      473    484      11        248\n",
       "2        442    456      585    599      14        143\n",
       "3        465    475      600    610      10        135\n",
       "4        507    535      962    990      28        455\n",
       "..       ...    ...      ...    ...     ...        ...\n",
       "575    25145  25159    29296  29310      14       4151\n",
       "576    25168  25178    29319  29329      10       4151\n",
       "577    25197  25220    29361  29384      23       4164\n",
       "578    25418  25473    29029  29084      55       3611\n",
       "579    25505  25518    28619  28632      13       3114\n",
       "\n",
       "[580 rows x 6 columns]"
      ]
     },
     "execution_count": 16,
     "metadata": {},
     "output_type": "execute_result"
    }
   ],
   "source": [
    "def detect_outliers(df,col,window_size):\n",
    "    df[col] = df[col].rolling(window_size).apply(lambda x: np.mean(x))"
   ]
  },
  {
   "cell_type": "code",
   "execution_count": 25,
   "metadata": {},
   "outputs": [
    {
     "ename": "KeyError",
     "evalue": "0",
     "output_type": "error",
     "traceback": [
      "\u001b[1;31m---------------------------------------------------------------------------\u001b[0m",
      "\u001b[1;31mValueError\u001b[0m                                Traceback (most recent call last)",
      "File \u001b[1;32mc:\\Users\\rdeic\\OneDrive\\Dokumente\\Programierung\\eigeneProjekte\\text-cluster-comparison\\.venv\\Lib\\site-packages\\pandas\\core\\indexes\\range.py:413\u001b[0m, in \u001b[0;36mRangeIndex.get_loc\u001b[1;34m(self, key)\u001b[0m\n\u001b[0;32m    412\u001b[0m \u001b[38;5;28;01mtry\u001b[39;00m:\n\u001b[1;32m--> 413\u001b[0m     \u001b[38;5;28;01mreturn\u001b[39;00m \u001b[38;5;28;43mself\u001b[39;49m\u001b[38;5;241;43m.\u001b[39;49m\u001b[43m_range\u001b[49m\u001b[38;5;241;43m.\u001b[39;49m\u001b[43mindex\u001b[49m\u001b[43m(\u001b[49m\u001b[43mnew_key\u001b[49m\u001b[43m)\u001b[49m\n\u001b[0;32m    414\u001b[0m \u001b[38;5;28;01mexcept\u001b[39;00m \u001b[38;5;167;01mValueError\u001b[39;00m \u001b[38;5;28;01mas\u001b[39;00m err:\n",
      "\u001b[1;31mValueError\u001b[0m: 0 is not in range",
      "\nThe above exception was the direct cause of the following exception:\n",
      "\u001b[1;31mKeyError\u001b[0m                                  Traceback (most recent call last)",
      "Cell \u001b[1;32mIn[25], line 2\u001b[0m\n\u001b[0;32m      1\u001b[0m \u001b[38;5;28;01mimport\u001b[39;00m\u001b[38;5;250m \u001b[39m\u001b[38;5;21;01mnumpy\u001b[39;00m\u001b[38;5;250m \u001b[39m\u001b[38;5;28;01mas\u001b[39;00m\u001b[38;5;250m \u001b[39m\u001b[38;5;21;01mnp\u001b[39;00m\n\u001b[1;32m----> 2\u001b[0m df[\u001b[38;5;124m'\u001b[39m\u001b[38;5;124mroll\u001b[39m\u001b[38;5;124m'\u001b[39m] \u001b[38;5;241m=\u001b[39m \u001b[43mdf\u001b[49m\u001b[43m[\u001b[49m\u001b[38;5;124;43m'\u001b[39;49m\u001b[38;5;124;43mstart_b\u001b[39;49m\u001b[38;5;124;43m'\u001b[39;49m\u001b[43m]\u001b[49m\u001b[38;5;241;43m.\u001b[39;49m\u001b[43mrolling\u001b[49m\u001b[43m(\u001b[49m\u001b[38;5;241;43m2\u001b[39;49m\u001b[43m)\u001b[49m\u001b[38;5;241;43m.\u001b[39;49m\u001b[43mapply\u001b[49m\u001b[43m(\u001b[49m\u001b[38;5;28;43;01mlambda\u001b[39;49;00m\u001b[43m \u001b[49m\u001b[43mx\u001b[49m\u001b[43m:\u001b[49m\u001b[43m \u001b[49m\u001b[38;5;241;43m0\u001b[39;49m\u001b[43m \u001b[49m\u001b[38;5;28;43;01mif\u001b[39;49;00m\u001b[43m \u001b[49m\u001b[43m(\u001b[49m\u001b[43mx\u001b[49m\u001b[43m[\u001b[49m\u001b[38;5;241;43m0\u001b[39;49m\u001b[43m]\u001b[49m\u001b[38;5;241;43m<\u001b[39;49m\u001b[43m \u001b[49m\u001b[43mx\u001b[49m\u001b[43m[\u001b[49m\u001b[38;5;241;43m1\u001b[39;49m\u001b[43m]\u001b[49m\u001b[43m)\u001b[49m\u001b[43m \u001b[49m\u001b[38;5;28;43;01melse\u001b[39;49;00m\u001b[43m \u001b[49m\u001b[38;5;241;43m1\u001b[39;49m\u001b[43m)\u001b[49m\n",
      "File \u001b[1;32mc:\\Users\\rdeic\\OneDrive\\Dokumente\\Programierung\\eigeneProjekte\\text-cluster-comparison\\.venv\\Lib\\site-packages\\pandas\\core\\window\\rolling.py:2049\u001b[0m, in \u001b[0;36mRolling.apply\u001b[1;34m(self, func, raw, engine, engine_kwargs, args, kwargs)\u001b[0m\n\u001b[0;32m   2016\u001b[0m \u001b[38;5;129m@doc\u001b[39m(\n\u001b[0;32m   2017\u001b[0m     template_header,\n\u001b[0;32m   2018\u001b[0m     create_section_header(\u001b[38;5;124m\"\u001b[39m\u001b[38;5;124mParameters\u001b[39m\u001b[38;5;124m\"\u001b[39m),\n\u001b[1;32m   (...)\u001b[0m\n\u001b[0;32m   2047\u001b[0m     kwargs: \u001b[38;5;28mdict\u001b[39m[\u001b[38;5;28mstr\u001b[39m, Any] \u001b[38;5;241m|\u001b[39m \u001b[38;5;28;01mNone\u001b[39;00m \u001b[38;5;241m=\u001b[39m \u001b[38;5;28;01mNone\u001b[39;00m,\n\u001b[0;32m   2048\u001b[0m ):\n\u001b[1;32m-> 2049\u001b[0m     \u001b[38;5;28;01mreturn\u001b[39;00m \u001b[38;5;28;43msuper\u001b[39;49m\u001b[43m(\u001b[49m\u001b[43m)\u001b[49m\u001b[38;5;241;43m.\u001b[39;49m\u001b[43mapply\u001b[49m\u001b[43m(\u001b[49m\n\u001b[0;32m   2050\u001b[0m \u001b[43m        \u001b[49m\u001b[43mfunc\u001b[49m\u001b[43m,\u001b[49m\n\u001b[0;32m   2051\u001b[0m \u001b[43m        \u001b[49m\u001b[43mraw\u001b[49m\u001b[38;5;241;43m=\u001b[39;49m\u001b[43mraw\u001b[49m\u001b[43m,\u001b[49m\n\u001b[0;32m   2052\u001b[0m \u001b[43m        \u001b[49m\u001b[43mengine\u001b[49m\u001b[38;5;241;43m=\u001b[39;49m\u001b[43mengine\u001b[49m\u001b[43m,\u001b[49m\n\u001b[0;32m   2053\u001b[0m \u001b[43m        \u001b[49m\u001b[43mengine_kwargs\u001b[49m\u001b[38;5;241;43m=\u001b[39;49m\u001b[43mengine_kwargs\u001b[49m\u001b[43m,\u001b[49m\n\u001b[0;32m   2054\u001b[0m \u001b[43m        \u001b[49m\u001b[43margs\u001b[49m\u001b[38;5;241;43m=\u001b[39;49m\u001b[43margs\u001b[49m\u001b[43m,\u001b[49m\n\u001b[0;32m   2055\u001b[0m \u001b[43m        \u001b[49m\u001b[43mkwargs\u001b[49m\u001b[38;5;241;43m=\u001b[39;49m\u001b[43mkwargs\u001b[49m\u001b[43m,\u001b[49m\n\u001b[0;32m   2056\u001b[0m \u001b[43m    \u001b[49m\u001b[43m)\u001b[49m\n",
      "File \u001b[1;32mc:\\Users\\rdeic\\OneDrive\\Dokumente\\Programierung\\eigeneProjekte\\text-cluster-comparison\\.venv\\Lib\\site-packages\\pandas\\core\\window\\rolling.py:1508\u001b[0m, in \u001b[0;36mRollingAndExpandingMixin.apply\u001b[1;34m(self, func, raw, engine, engine_kwargs, args, kwargs)\u001b[0m\n\u001b[0;32m   1505\u001b[0m \u001b[38;5;28;01melse\u001b[39;00m:\n\u001b[0;32m   1506\u001b[0m     \u001b[38;5;28;01mraise\u001b[39;00m \u001b[38;5;167;01mValueError\u001b[39;00m(\u001b[38;5;124m\"\u001b[39m\u001b[38;5;124mengine must be either \u001b[39m\u001b[38;5;124m'\u001b[39m\u001b[38;5;124mnumba\u001b[39m\u001b[38;5;124m'\u001b[39m\u001b[38;5;124m or \u001b[39m\u001b[38;5;124m'\u001b[39m\u001b[38;5;124mcython\u001b[39m\u001b[38;5;124m'\u001b[39m\u001b[38;5;124m\"\u001b[39m)\n\u001b[1;32m-> 1508\u001b[0m \u001b[38;5;28;01mreturn\u001b[39;00m \u001b[38;5;28;43mself\u001b[39;49m\u001b[38;5;241;43m.\u001b[39;49m\u001b[43m_apply\u001b[49m\u001b[43m(\u001b[49m\n\u001b[0;32m   1509\u001b[0m \u001b[43m    \u001b[49m\u001b[43mapply_func\u001b[49m\u001b[43m,\u001b[49m\n\u001b[0;32m   1510\u001b[0m \u001b[43m    \u001b[49m\u001b[43mname\u001b[49m\u001b[38;5;241;43m=\u001b[39;49m\u001b[38;5;124;43m\"\u001b[39;49m\u001b[38;5;124;43mapply\u001b[39;49m\u001b[38;5;124;43m\"\u001b[39;49m\u001b[43m,\u001b[49m\n\u001b[0;32m   1511\u001b[0m \u001b[43m    \u001b[49m\u001b[43mnumba_args\u001b[49m\u001b[38;5;241;43m=\u001b[39;49m\u001b[43mnumba_args\u001b[49m\u001b[43m,\u001b[49m\n\u001b[0;32m   1512\u001b[0m \u001b[43m\u001b[49m\u001b[43m)\u001b[49m\n",
      "File \u001b[1;32mc:\\Users\\rdeic\\OneDrive\\Dokumente\\Programierung\\eigeneProjekte\\text-cluster-comparison\\.venv\\Lib\\site-packages\\pandas\\core\\window\\rolling.py:619\u001b[0m, in \u001b[0;36mBaseWindow._apply\u001b[1;34m(self, func, name, numeric_only, numba_args, **kwargs)\u001b[0m\n\u001b[0;32m    616\u001b[0m     \u001b[38;5;28;01mreturn\u001b[39;00m result\n\u001b[0;32m    618\u001b[0m \u001b[38;5;28;01mif\u001b[39;00m \u001b[38;5;28mself\u001b[39m\u001b[38;5;241m.\u001b[39mmethod \u001b[38;5;241m==\u001b[39m \u001b[38;5;124m\"\u001b[39m\u001b[38;5;124msingle\u001b[39m\u001b[38;5;124m\"\u001b[39m:\n\u001b[1;32m--> 619\u001b[0m     \u001b[38;5;28;01mreturn\u001b[39;00m \u001b[38;5;28;43mself\u001b[39;49m\u001b[38;5;241;43m.\u001b[39;49m\u001b[43m_apply_columnwise\u001b[49m\u001b[43m(\u001b[49m\u001b[43mhomogeneous_func\u001b[49m\u001b[43m,\u001b[49m\u001b[43m \u001b[49m\u001b[43mname\u001b[49m\u001b[43m,\u001b[49m\u001b[43m \u001b[49m\u001b[43mnumeric_only\u001b[49m\u001b[43m)\u001b[49m\n\u001b[0;32m    620\u001b[0m \u001b[38;5;28;01melse\u001b[39;00m:\n\u001b[0;32m    621\u001b[0m     \u001b[38;5;28;01mreturn\u001b[39;00m \u001b[38;5;28mself\u001b[39m\u001b[38;5;241m.\u001b[39m_apply_tablewise(homogeneous_func, name, numeric_only)\n",
      "File \u001b[1;32mc:\\Users\\rdeic\\OneDrive\\Dokumente\\Programierung\\eigeneProjekte\\text-cluster-comparison\\.venv\\Lib\\site-packages\\pandas\\core\\window\\rolling.py:472\u001b[0m, in \u001b[0;36mBaseWindow._apply_columnwise\u001b[1;34m(self, homogeneous_func, name, numeric_only)\u001b[0m\n\u001b[0;32m    470\u001b[0m \u001b[38;5;28mself\u001b[39m\u001b[38;5;241m.\u001b[39m_validate_numeric_only(name, numeric_only)\n\u001b[0;32m    471\u001b[0m \u001b[38;5;28;01mif\u001b[39;00m \u001b[38;5;28mself\u001b[39m\u001b[38;5;241m.\u001b[39m_selected_obj\u001b[38;5;241m.\u001b[39mndim \u001b[38;5;241m==\u001b[39m \u001b[38;5;241m1\u001b[39m:\n\u001b[1;32m--> 472\u001b[0m     \u001b[38;5;28;01mreturn\u001b[39;00m \u001b[38;5;28;43mself\u001b[39;49m\u001b[38;5;241;43m.\u001b[39;49m\u001b[43m_apply_series\u001b[49m\u001b[43m(\u001b[49m\u001b[43mhomogeneous_func\u001b[49m\u001b[43m,\u001b[49m\u001b[43m \u001b[49m\u001b[43mname\u001b[49m\u001b[43m)\u001b[49m\n\u001b[0;32m    474\u001b[0m obj \u001b[38;5;241m=\u001b[39m \u001b[38;5;28mself\u001b[39m\u001b[38;5;241m.\u001b[39m_create_data(\u001b[38;5;28mself\u001b[39m\u001b[38;5;241m.\u001b[39m_selected_obj, numeric_only)\n\u001b[0;32m    475\u001b[0m \u001b[38;5;28;01mif\u001b[39;00m name \u001b[38;5;241m==\u001b[39m \u001b[38;5;124m\"\u001b[39m\u001b[38;5;124mcount\u001b[39m\u001b[38;5;124m\"\u001b[39m:\n\u001b[0;32m    476\u001b[0m     \u001b[38;5;66;03m# GH 12541: Special case for count where we support date-like types\u001b[39;00m\n",
      "File \u001b[1;32mc:\\Users\\rdeic\\OneDrive\\Dokumente\\Programierung\\eigeneProjekte\\text-cluster-comparison\\.venv\\Lib\\site-packages\\pandas\\core\\window\\rolling.py:456\u001b[0m, in \u001b[0;36mBaseWindow._apply_series\u001b[1;34m(self, homogeneous_func, name)\u001b[0m\n\u001b[0;32m    453\u001b[0m \u001b[38;5;28;01mexcept\u001b[39;00m (\u001b[38;5;167;01mTypeError\u001b[39;00m, \u001b[38;5;167;01mNotImplementedError\u001b[39;00m) \u001b[38;5;28;01mas\u001b[39;00m err:\n\u001b[0;32m    454\u001b[0m     \u001b[38;5;28;01mraise\u001b[39;00m DataError(\u001b[38;5;124m\"\u001b[39m\u001b[38;5;124mNo numeric types to aggregate\u001b[39m\u001b[38;5;124m\"\u001b[39m) \u001b[38;5;28;01mfrom\u001b[39;00m\u001b[38;5;250m \u001b[39m\u001b[38;5;21;01merr\u001b[39;00m\n\u001b[1;32m--> 456\u001b[0m result \u001b[38;5;241m=\u001b[39m \u001b[43mhomogeneous_func\u001b[49m\u001b[43m(\u001b[49m\u001b[43mvalues\u001b[49m\u001b[43m)\u001b[49m\n\u001b[0;32m    457\u001b[0m index \u001b[38;5;241m=\u001b[39m \u001b[38;5;28mself\u001b[39m\u001b[38;5;241m.\u001b[39m_slice_axis_for_step(obj\u001b[38;5;241m.\u001b[39mindex, result)\n\u001b[0;32m    458\u001b[0m \u001b[38;5;28;01mreturn\u001b[39;00m obj\u001b[38;5;241m.\u001b[39m_constructor(result, index\u001b[38;5;241m=\u001b[39mindex, name\u001b[38;5;241m=\u001b[39mobj\u001b[38;5;241m.\u001b[39mname)\n",
      "File \u001b[1;32mc:\\Users\\rdeic\\OneDrive\\Dokumente\\Programierung\\eigeneProjekte\\text-cluster-comparison\\.venv\\Lib\\site-packages\\pandas\\core\\window\\rolling.py:614\u001b[0m, in \u001b[0;36mBaseWindow._apply.<locals>.homogeneous_func\u001b[1;34m(values)\u001b[0m\n\u001b[0;32m    611\u001b[0m     \u001b[38;5;28;01mreturn\u001b[39;00m func(x, start, end, min_periods, \u001b[38;5;241m*\u001b[39mnumba_args)\n\u001b[0;32m    613\u001b[0m \u001b[38;5;28;01mwith\u001b[39;00m np\u001b[38;5;241m.\u001b[39merrstate(\u001b[38;5;28mall\u001b[39m\u001b[38;5;241m=\u001b[39m\u001b[38;5;124m\"\u001b[39m\u001b[38;5;124mignore\u001b[39m\u001b[38;5;124m\"\u001b[39m):\n\u001b[1;32m--> 614\u001b[0m     result \u001b[38;5;241m=\u001b[39m \u001b[43mcalc\u001b[49m\u001b[43m(\u001b[49m\u001b[43mvalues\u001b[49m\u001b[43m)\u001b[49m\n\u001b[0;32m    616\u001b[0m \u001b[38;5;28;01mreturn\u001b[39;00m result\n",
      "File \u001b[1;32mc:\\Users\\rdeic\\OneDrive\\Dokumente\\Programierung\\eigeneProjekte\\text-cluster-comparison\\.venv\\Lib\\site-packages\\pandas\\core\\window\\rolling.py:611\u001b[0m, in \u001b[0;36mBaseWindow._apply.<locals>.homogeneous_func.<locals>.calc\u001b[1;34m(x)\u001b[0m\n\u001b[0;32m    602\u001b[0m start, end \u001b[38;5;241m=\u001b[39m window_indexer\u001b[38;5;241m.\u001b[39mget_window_bounds(\n\u001b[0;32m    603\u001b[0m     num_values\u001b[38;5;241m=\u001b[39m\u001b[38;5;28mlen\u001b[39m(x),\n\u001b[0;32m    604\u001b[0m     min_periods\u001b[38;5;241m=\u001b[39mmin_periods,\n\u001b[1;32m   (...)\u001b[0m\n\u001b[0;32m    607\u001b[0m     step\u001b[38;5;241m=\u001b[39m\u001b[38;5;28mself\u001b[39m\u001b[38;5;241m.\u001b[39mstep,\n\u001b[0;32m    608\u001b[0m )\n\u001b[0;32m    609\u001b[0m \u001b[38;5;28mself\u001b[39m\u001b[38;5;241m.\u001b[39m_check_window_bounds(start, end, \u001b[38;5;28mlen\u001b[39m(x))\n\u001b[1;32m--> 611\u001b[0m \u001b[38;5;28;01mreturn\u001b[39;00m \u001b[43mfunc\u001b[49m\u001b[43m(\u001b[49m\u001b[43mx\u001b[49m\u001b[43m,\u001b[49m\u001b[43m \u001b[49m\u001b[43mstart\u001b[49m\u001b[43m,\u001b[49m\u001b[43m \u001b[49m\u001b[43mend\u001b[49m\u001b[43m,\u001b[49m\u001b[43m \u001b[49m\u001b[43mmin_periods\u001b[49m\u001b[43m,\u001b[49m\u001b[43m \u001b[49m\u001b[38;5;241;43m*\u001b[39;49m\u001b[43mnumba_args\u001b[49m\u001b[43m)\u001b[49m\n",
      "File \u001b[1;32mc:\\Users\\rdeic\\OneDrive\\Dokumente\\Programierung\\eigeneProjekte\\text-cluster-comparison\\.venv\\Lib\\site-packages\\pandas\\core\\window\\rolling.py:1535\u001b[0m, in \u001b[0;36mRollingAndExpandingMixin._generate_cython_apply_func.<locals>.apply_func\u001b[1;34m(values, begin, end, min_periods, raw)\u001b[0m\n\u001b[0;32m   1532\u001b[0m \u001b[38;5;28;01mif\u001b[39;00m \u001b[38;5;129;01mnot\u001b[39;00m raw:\n\u001b[0;32m   1533\u001b[0m     \u001b[38;5;66;03m# GH 45912\u001b[39;00m\n\u001b[0;32m   1534\u001b[0m     values \u001b[38;5;241m=\u001b[39m Series(values, index\u001b[38;5;241m=\u001b[39m\u001b[38;5;28mself\u001b[39m\u001b[38;5;241m.\u001b[39m_on, copy\u001b[38;5;241m=\u001b[39m\u001b[38;5;28;01mFalse\u001b[39;00m)\n\u001b[1;32m-> 1535\u001b[0m \u001b[38;5;28;01mreturn\u001b[39;00m \u001b[43mwindow_func\u001b[49m\u001b[43m(\u001b[49m\u001b[43mvalues\u001b[49m\u001b[43m,\u001b[49m\u001b[43m \u001b[49m\u001b[43mbegin\u001b[49m\u001b[43m,\u001b[49m\u001b[43m \u001b[49m\u001b[43mend\u001b[49m\u001b[43m,\u001b[49m\u001b[43m \u001b[49m\u001b[43mmin_periods\u001b[49m\u001b[43m)\u001b[49m\n",
      "File \u001b[1;32maggregations.pyx:1422\u001b[0m, in \u001b[0;36mpandas._libs.window.aggregations.roll_apply\u001b[1;34m()\u001b[0m\n",
      "Cell \u001b[1;32mIn[25], line 2\u001b[0m, in \u001b[0;36m<lambda>\u001b[1;34m(x)\u001b[0m\n\u001b[0;32m      1\u001b[0m \u001b[38;5;28;01mimport\u001b[39;00m\u001b[38;5;250m \u001b[39m\u001b[38;5;21;01mnumpy\u001b[39;00m\u001b[38;5;250m \u001b[39m\u001b[38;5;28;01mas\u001b[39;00m\u001b[38;5;250m \u001b[39m\u001b[38;5;21;01mnp\u001b[39;00m\n\u001b[1;32m----> 2\u001b[0m df[\u001b[38;5;124m'\u001b[39m\u001b[38;5;124mroll\u001b[39m\u001b[38;5;124m'\u001b[39m] \u001b[38;5;241m=\u001b[39m df[\u001b[38;5;124m'\u001b[39m\u001b[38;5;124mstart_b\u001b[39m\u001b[38;5;124m'\u001b[39m]\u001b[38;5;241m.\u001b[39mrolling(\u001b[38;5;241m2\u001b[39m)\u001b[38;5;241m.\u001b[39mapply(\u001b[38;5;28;01mlambda\u001b[39;00m x: \u001b[38;5;241m0\u001b[39m \u001b[38;5;28;01mif\u001b[39;00m (\u001b[43mx\u001b[49m\u001b[43m[\u001b[49m\u001b[38;5;241;43m0\u001b[39;49m\u001b[43m]\u001b[49m\u001b[38;5;241m<\u001b[39m x[\u001b[38;5;241m1\u001b[39m]) \u001b[38;5;28;01melse\u001b[39;00m \u001b[38;5;241m1\u001b[39m)\n",
      "File \u001b[1;32mc:\\Users\\rdeic\\OneDrive\\Dokumente\\Programierung\\eigeneProjekte\\text-cluster-comparison\\.venv\\Lib\\site-packages\\pandas\\core\\series.py:1121\u001b[0m, in \u001b[0;36mSeries.__getitem__\u001b[1;34m(self, key)\u001b[0m\n\u001b[0;32m   1118\u001b[0m     \u001b[38;5;28;01mreturn\u001b[39;00m \u001b[38;5;28mself\u001b[39m\u001b[38;5;241m.\u001b[39m_values[key]\n\u001b[0;32m   1120\u001b[0m \u001b[38;5;28;01melif\u001b[39;00m key_is_scalar:\n\u001b[1;32m-> 1121\u001b[0m     \u001b[38;5;28;01mreturn\u001b[39;00m \u001b[38;5;28;43mself\u001b[39;49m\u001b[38;5;241;43m.\u001b[39;49m\u001b[43m_get_value\u001b[49m\u001b[43m(\u001b[49m\u001b[43mkey\u001b[49m\u001b[43m)\u001b[49m\n\u001b[0;32m   1123\u001b[0m \u001b[38;5;66;03m# Convert generator to list before going through hashable part\u001b[39;00m\n\u001b[0;32m   1124\u001b[0m \u001b[38;5;66;03m# (We will iterate through the generator there to check for slices)\u001b[39;00m\n\u001b[0;32m   1125\u001b[0m \u001b[38;5;28;01mif\u001b[39;00m is_iterator(key):\n",
      "File \u001b[1;32mc:\\Users\\rdeic\\OneDrive\\Dokumente\\Programierung\\eigeneProjekte\\text-cluster-comparison\\.venv\\Lib\\site-packages\\pandas\\core\\series.py:1237\u001b[0m, in \u001b[0;36mSeries._get_value\u001b[1;34m(self, label, takeable)\u001b[0m\n\u001b[0;32m   1234\u001b[0m     \u001b[38;5;28;01mreturn\u001b[39;00m \u001b[38;5;28mself\u001b[39m\u001b[38;5;241m.\u001b[39m_values[label]\n\u001b[0;32m   1236\u001b[0m \u001b[38;5;66;03m# Similar to Index.get_value, but we do not fall back to positional\u001b[39;00m\n\u001b[1;32m-> 1237\u001b[0m loc \u001b[38;5;241m=\u001b[39m \u001b[38;5;28;43mself\u001b[39;49m\u001b[38;5;241;43m.\u001b[39;49m\u001b[43mindex\u001b[49m\u001b[38;5;241;43m.\u001b[39;49m\u001b[43mget_loc\u001b[49m\u001b[43m(\u001b[49m\u001b[43mlabel\u001b[49m\u001b[43m)\u001b[49m\n\u001b[0;32m   1239\u001b[0m \u001b[38;5;28;01mif\u001b[39;00m is_integer(loc):\n\u001b[0;32m   1240\u001b[0m     \u001b[38;5;28;01mreturn\u001b[39;00m \u001b[38;5;28mself\u001b[39m\u001b[38;5;241m.\u001b[39m_values[loc]\n",
      "File \u001b[1;32mc:\\Users\\rdeic\\OneDrive\\Dokumente\\Programierung\\eigeneProjekte\\text-cluster-comparison\\.venv\\Lib\\site-packages\\pandas\\core\\indexes\\range.py:415\u001b[0m, in \u001b[0;36mRangeIndex.get_loc\u001b[1;34m(self, key)\u001b[0m\n\u001b[0;32m    413\u001b[0m         \u001b[38;5;28;01mreturn\u001b[39;00m \u001b[38;5;28mself\u001b[39m\u001b[38;5;241m.\u001b[39m_range\u001b[38;5;241m.\u001b[39mindex(new_key)\n\u001b[0;32m    414\u001b[0m     \u001b[38;5;28;01mexcept\u001b[39;00m \u001b[38;5;167;01mValueError\u001b[39;00m \u001b[38;5;28;01mas\u001b[39;00m err:\n\u001b[1;32m--> 415\u001b[0m         \u001b[38;5;28;01mraise\u001b[39;00m \u001b[38;5;167;01mKeyError\u001b[39;00m(key) \u001b[38;5;28;01mfrom\u001b[39;00m\u001b[38;5;250m \u001b[39m\u001b[38;5;21;01merr\u001b[39;00m\n\u001b[0;32m    416\u001b[0m \u001b[38;5;28;01mif\u001b[39;00m \u001b[38;5;28misinstance\u001b[39m(key, Hashable):\n\u001b[0;32m    417\u001b[0m     \u001b[38;5;28;01mraise\u001b[39;00m \u001b[38;5;167;01mKeyError\u001b[39;00m(key)\n",
      "\u001b[1;31mKeyError\u001b[0m: 0"
     ]
    }
   ],
   "source": [
    "import numpy as np\n",
    "df['roll'] = df['start_b'].rolling(2).apply(lambda x: 0 if (x[0]< x[1]) else 1)"
   ]
  },
  {
   "cell_type": "code",
   "execution_count": 505,
   "metadata": {},
   "outputs": [
    {
     "name": "stderr",
     "output_type": "stream",
     "text": [
      "C:\\Users\\rdeic\\AppData\\Local\\Temp\\ipykernel_18116\\3377497721.py:6: FutureWarning:\n",
      "\n",
      "Downcasting object dtype arrays on .fillna, .ffill, .bfill is deprecated and will change in a future version. Call result.infer_objects(copy=False) instead. To opt-in to the future behavior, set `pd.set_option('future.no_silent_downcasting', True)`\n",
      "\n"
     ]
    }
   ],
   "source": [
    "df['diff'] = df['start_b'].diff()\n",
    "#df['flag'] = df['diff'].apply(lambda x: 1 if x<1 else 0)\n",
    "df['flag'] = 0\n",
    "neg_diffs = df['diff'] < 1\n",
    "df.loc[neg_diffs, 'flag'] = 1\n",
    "shifted_mask = pd.Series(neg_diffs).shift(-1).fillna(False)\n",
    "df.loc[shifted_mask, 'flag'] = 1"
   ]
  },
  {
   "cell_type": "code",
   "execution_count": 508,
   "metadata": {},
   "outputs": [
    {
     "data": {
      "text/html": [
       "<div>\n",
       "<style scoped>\n",
       "    .dataframe tbody tr th:only-of-type {\n",
       "        vertical-align: middle;\n",
       "    }\n",
       "\n",
       "    .dataframe tbody tr th {\n",
       "        vertical-align: top;\n",
       "    }\n",
       "\n",
       "    .dataframe thead th {\n",
       "        text-align: right;\n",
       "    }\n",
       "</style>\n",
       "<table border=\"1\" class=\"dataframe\">\n",
       "  <thead>\n",
       "    <tr style=\"text-align: right;\">\n",
       "      <th></th>\n",
       "      <th>start_a</th>\n",
       "      <th>end_a</th>\n",
       "      <th>start_b</th>\n",
       "      <th>end_b</th>\n",
       "      <th>length</th>\n",
       "      <th>differenz</th>\n",
       "      <th>diff</th>\n",
       "      <th>flag</th>\n",
       "    </tr>\n",
       "  </thead>\n",
       "  <tbody>\n",
       "    <tr>\n",
       "      <th>0</th>\n",
       "      <td>105</td>\n",
       "      <td>124</td>\n",
       "      <td>127</td>\n",
       "      <td>146</td>\n",
       "      <td>19</td>\n",
       "      <td>22</td>\n",
       "      <td>NaN</td>\n",
       "      <td>0</td>\n",
       "    </tr>\n",
       "    <tr>\n",
       "      <th>1</th>\n",
       "      <td>225</td>\n",
       "      <td>236</td>\n",
       "      <td>473</td>\n",
       "      <td>484</td>\n",
       "      <td>11</td>\n",
       "      <td>248</td>\n",
       "      <td>346.0</td>\n",
       "      <td>0</td>\n",
       "    </tr>\n",
       "    <tr>\n",
       "      <th>2</th>\n",
       "      <td>442</td>\n",
       "      <td>456</td>\n",
       "      <td>585</td>\n",
       "      <td>599</td>\n",
       "      <td>14</td>\n",
       "      <td>143</td>\n",
       "      <td>112.0</td>\n",
       "      <td>0</td>\n",
       "    </tr>\n",
       "    <tr>\n",
       "      <th>3</th>\n",
       "      <td>465</td>\n",
       "      <td>475</td>\n",
       "      <td>600</td>\n",
       "      <td>610</td>\n",
       "      <td>10</td>\n",
       "      <td>135</td>\n",
       "      <td>15.0</td>\n",
       "      <td>0</td>\n",
       "    </tr>\n",
       "    <tr>\n",
       "      <th>4</th>\n",
       "      <td>507</td>\n",
       "      <td>535</td>\n",
       "      <td>962</td>\n",
       "      <td>990</td>\n",
       "      <td>28</td>\n",
       "      <td>455</td>\n",
       "      <td>362.0</td>\n",
       "      <td>0</td>\n",
       "    </tr>\n",
       "    <tr>\n",
       "      <th>5</th>\n",
       "      <td>543</td>\n",
       "      <td>572</td>\n",
       "      <td>998</td>\n",
       "      <td>1027</td>\n",
       "      <td>29</td>\n",
       "      <td>455</td>\n",
       "      <td>36.0</td>\n",
       "      <td>0</td>\n",
       "    </tr>\n",
       "    <tr>\n",
       "      <th>6</th>\n",
       "      <td>577</td>\n",
       "      <td>598</td>\n",
       "      <td>1031</td>\n",
       "      <td>1052</td>\n",
       "      <td>21</td>\n",
       "      <td>454</td>\n",
       "      <td>33.0</td>\n",
       "      <td>0</td>\n",
       "    </tr>\n",
       "    <tr>\n",
       "      <th>7</th>\n",
       "      <td>601</td>\n",
       "      <td>627</td>\n",
       "      <td>1052</td>\n",
       "      <td>1078</td>\n",
       "      <td>26</td>\n",
       "      <td>451</td>\n",
       "      <td>21.0</td>\n",
       "      <td>0</td>\n",
       "    </tr>\n",
       "    <tr>\n",
       "      <th>8</th>\n",
       "      <td>659</td>\n",
       "      <td>673</td>\n",
       "      <td>1113</td>\n",
       "      <td>1127</td>\n",
       "      <td>14</td>\n",
       "      <td>454</td>\n",
       "      <td>61.0</td>\n",
       "      <td>0</td>\n",
       "    </tr>\n",
       "    <tr>\n",
       "      <th>9</th>\n",
       "      <td>776</td>\n",
       "      <td>787</td>\n",
       "      <td>1277</td>\n",
       "      <td>1288</td>\n",
       "      <td>11</td>\n",
       "      <td>501</td>\n",
       "      <td>164.0</td>\n",
       "      <td>0</td>\n",
       "    </tr>\n",
       "    <tr>\n",
       "      <th>10</th>\n",
       "      <td>788</td>\n",
       "      <td>806</td>\n",
       "      <td>1289</td>\n",
       "      <td>1307</td>\n",
       "      <td>18</td>\n",
       "      <td>501</td>\n",
       "      <td>12.0</td>\n",
       "      <td>0</td>\n",
       "    </tr>\n",
       "    <tr>\n",
       "      <th>11</th>\n",
       "      <td>817</td>\n",
       "      <td>837</td>\n",
       "      <td>1313</td>\n",
       "      <td>1333</td>\n",
       "      <td>20</td>\n",
       "      <td>496</td>\n",
       "      <td>24.0</td>\n",
       "      <td>0</td>\n",
       "    </tr>\n",
       "    <tr>\n",
       "      <th>12</th>\n",
       "      <td>971</td>\n",
       "      <td>985</td>\n",
       "      <td>1529</td>\n",
       "      <td>1543</td>\n",
       "      <td>14</td>\n",
       "      <td>558</td>\n",
       "      <td>216.0</td>\n",
       "      <td>0</td>\n",
       "    </tr>\n",
       "    <tr>\n",
       "      <th>13</th>\n",
       "      <td>1015</td>\n",
       "      <td>1025</td>\n",
       "      <td>1572</td>\n",
       "      <td>1582</td>\n",
       "      <td>10</td>\n",
       "      <td>557</td>\n",
       "      <td>43.0</td>\n",
       "      <td>0</td>\n",
       "    </tr>\n",
       "    <tr>\n",
       "      <th>14</th>\n",
       "      <td>1033</td>\n",
       "      <td>1045</td>\n",
       "      <td>1590</td>\n",
       "      <td>1602</td>\n",
       "      <td>12</td>\n",
       "      <td>557</td>\n",
       "      <td>18.0</td>\n",
       "      <td>0</td>\n",
       "    </tr>\n",
       "    <tr>\n",
       "      <th>15</th>\n",
       "      <td>1076</td>\n",
       "      <td>1096</td>\n",
       "      <td>1656</td>\n",
       "      <td>1676</td>\n",
       "      <td>20</td>\n",
       "      <td>580</td>\n",
       "      <td>66.0</td>\n",
       "      <td>0</td>\n",
       "    </tr>\n",
       "    <tr>\n",
       "      <th>16</th>\n",
       "      <td>1097</td>\n",
       "      <td>1122</td>\n",
       "      <td>1677</td>\n",
       "      <td>1702</td>\n",
       "      <td>25</td>\n",
       "      <td>580</td>\n",
       "      <td>21.0</td>\n",
       "      <td>0</td>\n",
       "    </tr>\n",
       "    <tr>\n",
       "      <th>17</th>\n",
       "      <td>1134</td>\n",
       "      <td>1147</td>\n",
       "      <td>1720</td>\n",
       "      <td>1733</td>\n",
       "      <td>13</td>\n",
       "      <td>586</td>\n",
       "      <td>43.0</td>\n",
       "      <td>0</td>\n",
       "    </tr>\n",
       "    <tr>\n",
       "      <th>18</th>\n",
       "      <td>1171</td>\n",
       "      <td>1189</td>\n",
       "      <td>1758</td>\n",
       "      <td>1776</td>\n",
       "      <td>18</td>\n",
       "      <td>587</td>\n",
       "      <td>38.0</td>\n",
       "      <td>0</td>\n",
       "    </tr>\n",
       "    <tr>\n",
       "      <th>19</th>\n",
       "      <td>1233</td>\n",
       "      <td>1255</td>\n",
       "      <td>2301</td>\n",
       "      <td>2323</td>\n",
       "      <td>22</td>\n",
       "      <td>1068</td>\n",
       "      <td>543.0</td>\n",
       "      <td>0</td>\n",
       "    </tr>\n",
       "    <tr>\n",
       "      <th>20</th>\n",
       "      <td>1284</td>\n",
       "      <td>1302</td>\n",
       "      <td>2360</td>\n",
       "      <td>2378</td>\n",
       "      <td>18</td>\n",
       "      <td>1076</td>\n",
       "      <td>59.0</td>\n",
       "      <td>0</td>\n",
       "    </tr>\n",
       "    <tr>\n",
       "      <th>21</th>\n",
       "      <td>1442</td>\n",
       "      <td>1458</td>\n",
       "      <td>2523</td>\n",
       "      <td>2539</td>\n",
       "      <td>16</td>\n",
       "      <td>1081</td>\n",
       "      <td>163.0</td>\n",
       "      <td>0</td>\n",
       "    </tr>\n",
       "    <tr>\n",
       "      <th>22</th>\n",
       "      <td>1480</td>\n",
       "      <td>1545</td>\n",
       "      <td>2567</td>\n",
       "      <td>2632</td>\n",
       "      <td>65</td>\n",
       "      <td>1087</td>\n",
       "      <td>44.0</td>\n",
       "      <td>0</td>\n",
       "    </tr>\n",
       "    <tr>\n",
       "      <th>23</th>\n",
       "      <td>1546</td>\n",
       "      <td>1562</td>\n",
       "      <td>2633</td>\n",
       "      <td>2649</td>\n",
       "      <td>16</td>\n",
       "      <td>1087</td>\n",
       "      <td>66.0</td>\n",
       "      <td>0</td>\n",
       "    </tr>\n",
       "    <tr>\n",
       "      <th>24</th>\n",
       "      <td>1578</td>\n",
       "      <td>1592</td>\n",
       "      <td>2712</td>\n",
       "      <td>2726</td>\n",
       "      <td>14</td>\n",
       "      <td>1134</td>\n",
       "      <td>79.0</td>\n",
       "      <td>0</td>\n",
       "    </tr>\n",
       "    <tr>\n",
       "      <th>25</th>\n",
       "      <td>1594</td>\n",
       "      <td>1606</td>\n",
       "      <td>2726</td>\n",
       "      <td>2738</td>\n",
       "      <td>12</td>\n",
       "      <td>1132</td>\n",
       "      <td>14.0</td>\n",
       "      <td>0</td>\n",
       "    </tr>\n",
       "    <tr>\n",
       "      <th>26</th>\n",
       "      <td>1607</td>\n",
       "      <td>1622</td>\n",
       "      <td>2739</td>\n",
       "      <td>2754</td>\n",
       "      <td>15</td>\n",
       "      <td>1132</td>\n",
       "      <td>13.0</td>\n",
       "      <td>0</td>\n",
       "    </tr>\n",
       "    <tr>\n",
       "      <th>27</th>\n",
       "      <td>1623</td>\n",
       "      <td>1640</td>\n",
       "      <td>2755</td>\n",
       "      <td>2772</td>\n",
       "      <td>17</td>\n",
       "      <td>1132</td>\n",
       "      <td>16.0</td>\n",
       "      <td>0</td>\n",
       "    </tr>\n",
       "    <tr>\n",
       "      <th>28</th>\n",
       "      <td>1641</td>\n",
       "      <td>1652</td>\n",
       "      <td>2773</td>\n",
       "      <td>2784</td>\n",
       "      <td>11</td>\n",
       "      <td>1132</td>\n",
       "      <td>18.0</td>\n",
       "      <td>0</td>\n",
       "    </tr>\n",
       "    <tr>\n",
       "      <th>29</th>\n",
       "      <td>1671</td>\n",
       "      <td>1697</td>\n",
       "      <td>2802</td>\n",
       "      <td>2828</td>\n",
       "      <td>26</td>\n",
       "      <td>1131</td>\n",
       "      <td>29.0</td>\n",
       "      <td>0</td>\n",
       "    </tr>\n",
       "    <tr>\n",
       "      <th>30</th>\n",
       "      <td>1709</td>\n",
       "      <td>1722</td>\n",
       "      <td>2840</td>\n",
       "      <td>2853</td>\n",
       "      <td>13</td>\n",
       "      <td>1131</td>\n",
       "      <td>38.0</td>\n",
       "      <td>0</td>\n",
       "    </tr>\n",
       "    <tr>\n",
       "      <th>31</th>\n",
       "      <td>1723</td>\n",
       "      <td>1733</td>\n",
       "      <td>2854</td>\n",
       "      <td>2864</td>\n",
       "      <td>10</td>\n",
       "      <td>1131</td>\n",
       "      <td>14.0</td>\n",
       "      <td>0</td>\n",
       "    </tr>\n",
       "    <tr>\n",
       "      <th>32</th>\n",
       "      <td>1736</td>\n",
       "      <td>1753</td>\n",
       "      <td>2867</td>\n",
       "      <td>2884</td>\n",
       "      <td>17</td>\n",
       "      <td>1131</td>\n",
       "      <td>13.0</td>\n",
       "      <td>0</td>\n",
       "    </tr>\n",
       "    <tr>\n",
       "      <th>33</th>\n",
       "      <td>1760</td>\n",
       "      <td>1795</td>\n",
       "      <td>3087</td>\n",
       "      <td>3122</td>\n",
       "      <td>35</td>\n",
       "      <td>1327</td>\n",
       "      <td>220.0</td>\n",
       "      <td>0</td>\n",
       "    </tr>\n",
       "    <tr>\n",
       "      <th>34</th>\n",
       "      <td>1802</td>\n",
       "      <td>1823</td>\n",
       "      <td>3131</td>\n",
       "      <td>3152</td>\n",
       "      <td>21</td>\n",
       "      <td>1329</td>\n",
       "      <td>44.0</td>\n",
       "      <td>1</td>\n",
       "    </tr>\n",
       "    <tr>\n",
       "      <th>35</th>\n",
       "      <td>1861</td>\n",
       "      <td>1872</td>\n",
       "      <td>2687</td>\n",
       "      <td>2698</td>\n",
       "      <td>11</td>\n",
       "      <td>826</td>\n",
       "      <td>-444.0</td>\n",
       "      <td>1</td>\n",
       "    </tr>\n",
       "    <tr>\n",
       "      <th>36</th>\n",
       "      <td>1883</td>\n",
       "      <td>1916</td>\n",
       "      <td>3365</td>\n",
       "      <td>3398</td>\n",
       "      <td>33</td>\n",
       "      <td>1482</td>\n",
       "      <td>678.0</td>\n",
       "      <td>0</td>\n",
       "    </tr>\n",
       "    <tr>\n",
       "      <th>37</th>\n",
       "      <td>1918</td>\n",
       "      <td>1935</td>\n",
       "      <td>3400</td>\n",
       "      <td>3417</td>\n",
       "      <td>17</td>\n",
       "      <td>1482</td>\n",
       "      <td>35.0</td>\n",
       "      <td>0</td>\n",
       "    </tr>\n",
       "    <tr>\n",
       "      <th>38</th>\n",
       "      <td>1936</td>\n",
       "      <td>1951</td>\n",
       "      <td>3418</td>\n",
       "      <td>3433</td>\n",
       "      <td>15</td>\n",
       "      <td>1482</td>\n",
       "      <td>18.0</td>\n",
       "      <td>0</td>\n",
       "    </tr>\n",
       "    <tr>\n",
       "      <th>39</th>\n",
       "      <td>1991</td>\n",
       "      <td>2012</td>\n",
       "      <td>3457</td>\n",
       "      <td>3478</td>\n",
       "      <td>21</td>\n",
       "      <td>1466</td>\n",
       "      <td>39.0</td>\n",
       "      <td>0</td>\n",
       "    </tr>\n",
       "    <tr>\n",
       "      <th>40</th>\n",
       "      <td>2012</td>\n",
       "      <td>2033</td>\n",
       "      <td>3488</td>\n",
       "      <td>3509</td>\n",
       "      <td>21</td>\n",
       "      <td>1476</td>\n",
       "      <td>31.0</td>\n",
       "      <td>0</td>\n",
       "    </tr>\n",
       "    <tr>\n",
       "      <th>41</th>\n",
       "      <td>2118</td>\n",
       "      <td>2128</td>\n",
       "      <td>3688</td>\n",
       "      <td>3698</td>\n",
       "      <td>10</td>\n",
       "      <td>1570</td>\n",
       "      <td>200.0</td>\n",
       "      <td>0</td>\n",
       "    </tr>\n",
       "    <tr>\n",
       "      <th>42</th>\n",
       "      <td>2188</td>\n",
       "      <td>2198</td>\n",
       "      <td>3805</td>\n",
       "      <td>3815</td>\n",
       "      <td>10</td>\n",
       "      <td>1617</td>\n",
       "      <td>117.0</td>\n",
       "      <td>0</td>\n",
       "    </tr>\n",
       "    <tr>\n",
       "      <th>43</th>\n",
       "      <td>2199</td>\n",
       "      <td>2217</td>\n",
       "      <td>3816</td>\n",
       "      <td>3834</td>\n",
       "      <td>18</td>\n",
       "      <td>1617</td>\n",
       "      <td>11.0</td>\n",
       "      <td>0</td>\n",
       "    </tr>\n",
       "    <tr>\n",
       "      <th>44</th>\n",
       "      <td>2236</td>\n",
       "      <td>2262</td>\n",
       "      <td>3836</td>\n",
       "      <td>3862</td>\n",
       "      <td>26</td>\n",
       "      <td>1600</td>\n",
       "      <td>20.0</td>\n",
       "      <td>0</td>\n",
       "    </tr>\n",
       "    <tr>\n",
       "      <th>45</th>\n",
       "      <td>2283</td>\n",
       "      <td>2300</td>\n",
       "      <td>3880</td>\n",
       "      <td>3897</td>\n",
       "      <td>17</td>\n",
       "      <td>1597</td>\n",
       "      <td>44.0</td>\n",
       "      <td>0</td>\n",
       "    </tr>\n",
       "    <tr>\n",
       "      <th>46</th>\n",
       "      <td>2301</td>\n",
       "      <td>2313</td>\n",
       "      <td>3898</td>\n",
       "      <td>3910</td>\n",
       "      <td>12</td>\n",
       "      <td>1597</td>\n",
       "      <td>18.0</td>\n",
       "      <td>0</td>\n",
       "    </tr>\n",
       "    <tr>\n",
       "      <th>47</th>\n",
       "      <td>2315</td>\n",
       "      <td>2328</td>\n",
       "      <td>3914</td>\n",
       "      <td>3927</td>\n",
       "      <td>13</td>\n",
       "      <td>1599</td>\n",
       "      <td>16.0</td>\n",
       "      <td>0</td>\n",
       "    </tr>\n",
       "    <tr>\n",
       "      <th>48</th>\n",
       "      <td>2338</td>\n",
       "      <td>2354</td>\n",
       "      <td>3937</td>\n",
       "      <td>3953</td>\n",
       "      <td>16</td>\n",
       "      <td>1599</td>\n",
       "      <td>23.0</td>\n",
       "      <td>0</td>\n",
       "    </tr>\n",
       "    <tr>\n",
       "      <th>49</th>\n",
       "      <td>2373</td>\n",
       "      <td>2393</td>\n",
       "      <td>3972</td>\n",
       "      <td>3992</td>\n",
       "      <td>20</td>\n",
       "      <td>1599</td>\n",
       "      <td>35.0</td>\n",
       "      <td>0</td>\n",
       "    </tr>\n",
       "  </tbody>\n",
       "</table>\n",
       "</div>"
      ],
      "text/plain": [
       "    start_a  end_a  start_b  end_b  length  differenz   diff  flag\n",
       "0       105    124      127    146      19         22    NaN     0\n",
       "1       225    236      473    484      11        248  346.0     0\n",
       "2       442    456      585    599      14        143  112.0     0\n",
       "3       465    475      600    610      10        135   15.0     0\n",
       "4       507    535      962    990      28        455  362.0     0\n",
       "5       543    572      998   1027      29        455   36.0     0\n",
       "6       577    598     1031   1052      21        454   33.0     0\n",
       "7       601    627     1052   1078      26        451   21.0     0\n",
       "8       659    673     1113   1127      14        454   61.0     0\n",
       "9       776    787     1277   1288      11        501  164.0     0\n",
       "10      788    806     1289   1307      18        501   12.0     0\n",
       "11      817    837     1313   1333      20        496   24.0     0\n",
       "12      971    985     1529   1543      14        558  216.0     0\n",
       "13     1015   1025     1572   1582      10        557   43.0     0\n",
       "14     1033   1045     1590   1602      12        557   18.0     0\n",
       "15     1076   1096     1656   1676      20        580   66.0     0\n",
       "16     1097   1122     1677   1702      25        580   21.0     0\n",
       "17     1134   1147     1720   1733      13        586   43.0     0\n",
       "18     1171   1189     1758   1776      18        587   38.0     0\n",
       "19     1233   1255     2301   2323      22       1068  543.0     0\n",
       "20     1284   1302     2360   2378      18       1076   59.0     0\n",
       "21     1442   1458     2523   2539      16       1081  163.0     0\n",
       "22     1480   1545     2567   2632      65       1087   44.0     0\n",
       "23     1546   1562     2633   2649      16       1087   66.0     0\n",
       "24     1578   1592     2712   2726      14       1134   79.0     0\n",
       "25     1594   1606     2726   2738      12       1132   14.0     0\n",
       "26     1607   1622     2739   2754      15       1132   13.0     0\n",
       "27     1623   1640     2755   2772      17       1132   16.0     0\n",
       "28     1641   1652     2773   2784      11       1132   18.0     0\n",
       "29     1671   1697     2802   2828      26       1131   29.0     0\n",
       "30     1709   1722     2840   2853      13       1131   38.0     0\n",
       "31     1723   1733     2854   2864      10       1131   14.0     0\n",
       "32     1736   1753     2867   2884      17       1131   13.0     0\n",
       "33     1760   1795     3087   3122      35       1327  220.0     0\n",
       "34     1802   1823     3131   3152      21       1329   44.0     1\n",
       "35     1861   1872     2687   2698      11        826 -444.0     1\n",
       "36     1883   1916     3365   3398      33       1482  678.0     0\n",
       "37     1918   1935     3400   3417      17       1482   35.0     0\n",
       "38     1936   1951     3418   3433      15       1482   18.0     0\n",
       "39     1991   2012     3457   3478      21       1466   39.0     0\n",
       "40     2012   2033     3488   3509      21       1476   31.0     0\n",
       "41     2118   2128     3688   3698      10       1570  200.0     0\n",
       "42     2188   2198     3805   3815      10       1617  117.0     0\n",
       "43     2199   2217     3816   3834      18       1617   11.0     0\n",
       "44     2236   2262     3836   3862      26       1600   20.0     0\n",
       "45     2283   2300     3880   3897      17       1597   44.0     0\n",
       "46     2301   2313     3898   3910      12       1597   18.0     0\n",
       "47     2315   2328     3914   3927      13       1599   16.0     0\n",
       "48     2338   2354     3937   3953      16       1599   23.0     0\n",
       "49     2373   2393     3972   3992      20       1599   35.0     0"
      ]
     },
     "execution_count": 508,
     "metadata": {},
     "output_type": "execute_result"
    }
   ],
   "source": [
    "df.head(50)"
   ]
  },
  {
   "cell_type": "code",
   "execution_count": 503,
   "metadata": {},
   "outputs": [
    {
     "name": "stderr",
     "output_type": "stream",
     "text": [
      "2025-03-24 21:49:57,984 - src.clustering.cluster_search - INFO - Length of sequences: 25663 and 29924 items\n",
      "2025-03-24 21:49:57,985 - src.clustering.cluster_search - INFO - Using minimum cluster length: 10\n",
      "2025-03-24 21:49:58,199 - src.clustering.cluster_search - INFO - Found 580 clusters\n"
     ]
    }
   ],
   "source": [
    "a = load_text_a()\n",
    "b = load_text_b()\n",
    "sep = example_parameters()[0]\n",
    "#print(sep)\n",
    "a = convert_to_list(a,sep)\n",
    "b = convert_to_list(b,sep)\n",
    "df = find_cluster(a,b,10,'a','b')"
   ]
  },
  {
   "cell_type": "code",
   "execution_count": 529,
   "metadata": {},
   "outputs": [
    {
     "name": "stderr",
     "output_type": "stream",
     "text": [
      "C:\\Users\\rdeic\\AppData\\Local\\Temp\\ipykernel_18116\\528510280.py:6: FutureWarning:\n",
      "\n",
      "Downcasting object dtype arrays on .fillna, .ffill, .bfill is deprecated and will change in a future version. Call result.infer_objects(copy=False) instead. To opt-in to the future behavior, set `pd.set_option('future.no_silent_downcasting', True)`\n",
      "\n",
      "C:\\Users\\rdeic\\AppData\\Local\\Temp\\ipykernel_18116\\528510280.py:69: FutureWarning:\n",
      "\n",
      "Downcasting object dtype arrays on .fillna, .ffill, .bfill is deprecated and will change in a future version. Call result.infer_objects(copy=False) instead. To opt-in to the future behavior, set `pd.set_option('future.no_silent_downcasting', True)`\n",
      "\n"
     ]
    }
   ],
   "source": [
    "df['diff'] = df['start_b'].diff()\n",
    "#df['flag'] = df['diff'].apply(lambda x: 1 if x<1 else 0)\n",
    "df['flag'] = 0\n",
    "neg_diffs = df['diff'] < 0\n",
    "df.loc[neg_diffs, 'flag'] = 1\n",
    "shifted_mask = pd.Series(neg_diffs).shift(-1).fillna(False)\n",
    "df.loc[shifted_mask, 'flag'] = 1\n",
    "\n",
    "remove_indexes = np.zeros(df.shape[0])\n",
    "last_row_2 = ''\n",
    "last_row = ''\n",
    "for i in df.iterrows():\n",
    "    #print(f'{i[1]}\\t')\n",
    "    if last_row == '' and i[1]['flag']==1:\n",
    "        remove_indexes[i[0]] = True\n",
    "    \n",
    "    elif last_row == '' and i[1]['flag']==0:\n",
    "        remove_indexes[i[0]] = False\n",
    "\n",
    "    \n",
    "    elif last_row[1]['flag'] == 1 and i[1]['flag'] == 1:\n",
    "\n",
    "        if last_row_2 == '':\n",
    "            remove_indexes[i[0]] = True\n",
    "\n",
    "        elif i[1]['start_b']>last_row_2[1]['start_b']:\n",
    "\n",
    "            print(f'first {i[0]}')\n",
    "            remove_indexes[i[0]] = False\n",
    "            remove_indexes[last_row[0]] = True\n",
    "        else:\n",
    "            print(f'second {i[0]}')\n",
    "            remove_indexes[i[0]] = True       \n",
    "\n",
    "        \n",
    "#    elif i[1]['diff']>0 and last_row[1]['flag'] == 1 and i[1]['flag'] == 1:\n",
    "#        print(f'second {i[0]}')\n",
    "#        remove_indexes[i[0]-1] = True\n",
    "#        remove_indexes[i[0]] = False\n",
    "\n",
    " #   elif i[1]['diff']<=0 and last_row[1]['flag'] == 1:\n",
    " #       remove_indexes[i[0]] = True\n",
    "\n",
    "    elif i[1]['flag']==0:\n",
    "        remove_indexes[i[0]] = False\n",
    "\n",
    "#    elif last_row[1]['flag'] == 0 and i[1]['flag'] == 1:\n",
    "#        if i[1]['diff']*-0.2 > last_row[1]['diff']:\n",
    "#            remove_indexes[i[0]] = True\n",
    "#        remove_indexes[i[0]] = False\n",
    "\n",
    "    else:\n",
    "        remove_indexes[i[0]] = False\n",
    "\n",
    "    last_row_2 = last_row\n",
    "    last_row = i\n",
    "\n",
    "\n",
    "drop_indices = np.where(remove_indexes == 1)[0]\n",
    "\n",
    "# Methode 1: Mit drop und Index-Labels\n",
    "df = df.drop(index=drop_indices)\n",
    "df.reset_index(inplace=True,drop=True)\n",
    "df['diff'] = df['start_b'].diff()\n",
    "#df['flag'] = df['diff'].apply(lambda x: 1 if x<1 else 0)\n",
    "df['flag'] = 0\n",
    "neg_diffs = df['diff'] < 0\n",
    "df.loc[neg_diffs, 'flag'] = 1\n",
    "shifted_mask = pd.Series(neg_diffs).shift(-1).fillna(False)\n",
    "df.loc[shifted_mask, 'flag'] = 1\n",
    "#print(remove_indexes)"
   ]
  },
  {
   "cell_type": "code",
   "execution_count": 293,
   "metadata": {},
   "outputs": [
    {
     "data": {
      "text/html": [
       "<div>\n",
       "<style scoped>\n",
       "    .dataframe tbody tr th:only-of-type {\n",
       "        vertical-align: middle;\n",
       "    }\n",
       "\n",
       "    .dataframe tbody tr th {\n",
       "        vertical-align: top;\n",
       "    }\n",
       "\n",
       "    .dataframe thead th {\n",
       "        text-align: right;\n",
       "    }\n",
       "</style>\n",
       "<table border=\"1\" class=\"dataframe\">\n",
       "  <thead>\n",
       "    <tr style=\"text-align: right;\">\n",
       "      <th></th>\n",
       "      <th>start_a</th>\n",
       "      <th>end_a</th>\n",
       "      <th>start_b</th>\n",
       "      <th>end_b</th>\n",
       "      <th>length</th>\n",
       "      <th>differenz</th>\n",
       "      <th>diff</th>\n",
       "      <th>flag</th>\n",
       "    </tr>\n",
       "  </thead>\n",
       "  <tbody>\n",
       "    <tr>\n",
       "      <th>0</th>\n",
       "      <td>105</td>\n",
       "      <td>124</td>\n",
       "      <td>127</td>\n",
       "      <td>146</td>\n",
       "      <td>19</td>\n",
       "      <td>22</td>\n",
       "      <td>NaN</td>\n",
       "      <td>0</td>\n",
       "    </tr>\n",
       "    <tr>\n",
       "      <th>1</th>\n",
       "      <td>225</td>\n",
       "      <td>236</td>\n",
       "      <td>473</td>\n",
       "      <td>484</td>\n",
       "      <td>11</td>\n",
       "      <td>248</td>\n",
       "      <td>346.0</td>\n",
       "      <td>0</td>\n",
       "    </tr>\n",
       "    <tr>\n",
       "      <th>2</th>\n",
       "      <td>442</td>\n",
       "      <td>456</td>\n",
       "      <td>585</td>\n",
       "      <td>599</td>\n",
       "      <td>14</td>\n",
       "      <td>143</td>\n",
       "      <td>112.0</td>\n",
       "      <td>0</td>\n",
       "    </tr>\n",
       "    <tr>\n",
       "      <th>3</th>\n",
       "      <td>465</td>\n",
       "      <td>475</td>\n",
       "      <td>600</td>\n",
       "      <td>610</td>\n",
       "      <td>10</td>\n",
       "      <td>135</td>\n",
       "      <td>15.0</td>\n",
       "      <td>0</td>\n",
       "    </tr>\n",
       "    <tr>\n",
       "      <th>4</th>\n",
       "      <td>507</td>\n",
       "      <td>535</td>\n",
       "      <td>962</td>\n",
       "      <td>990</td>\n",
       "      <td>28</td>\n",
       "      <td>455</td>\n",
       "      <td>362.0</td>\n",
       "      <td>0</td>\n",
       "    </tr>\n",
       "    <tr>\n",
       "      <th>...</th>\n",
       "      <td>...</td>\n",
       "      <td>...</td>\n",
       "      <td>...</td>\n",
       "      <td>...</td>\n",
       "      <td>...</td>\n",
       "      <td>...</td>\n",
       "      <td>...</td>\n",
       "      <td>...</td>\n",
       "    </tr>\n",
       "    <tr>\n",
       "      <th>533</th>\n",
       "      <td>25030</td>\n",
       "      <td>25118</td>\n",
       "      <td>28299</td>\n",
       "      <td>28387</td>\n",
       "      <td>88</td>\n",
       "      <td>3269</td>\n",
       "      <td>40.0</td>\n",
       "      <td>0</td>\n",
       "    </tr>\n",
       "    <tr>\n",
       "      <th>534</th>\n",
       "      <td>25123</td>\n",
       "      <td>25144</td>\n",
       "      <td>28392</td>\n",
       "      <td>28413</td>\n",
       "      <td>21</td>\n",
       "      <td>3269</td>\n",
       "      <td>93.0</td>\n",
       "      <td>0</td>\n",
       "    </tr>\n",
       "    <tr>\n",
       "      <th>535</th>\n",
       "      <td>25145</td>\n",
       "      <td>25159</td>\n",
       "      <td>29296</td>\n",
       "      <td>29310</td>\n",
       "      <td>14</td>\n",
       "      <td>4151</td>\n",
       "      <td>904.0</td>\n",
       "      <td>0</td>\n",
       "    </tr>\n",
       "    <tr>\n",
       "      <th>536</th>\n",
       "      <td>25168</td>\n",
       "      <td>25178</td>\n",
       "      <td>29319</td>\n",
       "      <td>29329</td>\n",
       "      <td>10</td>\n",
       "      <td>4151</td>\n",
       "      <td>23.0</td>\n",
       "      <td>0</td>\n",
       "    </tr>\n",
       "    <tr>\n",
       "      <th>537</th>\n",
       "      <td>25505</td>\n",
       "      <td>25518</td>\n",
       "      <td>28619</td>\n",
       "      <td>28632</td>\n",
       "      <td>13</td>\n",
       "      <td>3114</td>\n",
       "      <td>-410.0</td>\n",
       "      <td>1</td>\n",
       "    </tr>\n",
       "  </tbody>\n",
       "</table>\n",
       "<p>538 rows × 8 columns</p>\n",
       "</div>"
      ],
      "text/plain": [
       "     start_a  end_a  start_b  end_b  length  differenz   diff  flag\n",
       "0        105    124      127    146      19         22    NaN     0\n",
       "1        225    236      473    484      11        248  346.0     0\n",
       "2        442    456      585    599      14        143  112.0     0\n",
       "3        465    475      600    610      10        135   15.0     0\n",
       "4        507    535      962    990      28        455  362.0     0\n",
       "..       ...    ...      ...    ...     ...        ...    ...   ...\n",
       "533    25030  25118    28299  28387      88       3269   40.0     0\n",
       "534    25123  25144    28392  28413      21       3269   93.0     0\n",
       "535    25145  25159    29296  29310      14       4151  904.0     0\n",
       "536    25168  25178    29319  29329      10       4151   23.0     0\n",
       "537    25505  25518    28619  28632      13       3114 -410.0     1\n",
       "\n",
       "[538 rows x 8 columns]"
      ]
     },
     "execution_count": 293,
     "metadata": {},
     "output_type": "execute_result"
    }
   ],
   "source": [
    "df.reset_index(drop=True)"
   ]
  },
  {
   "cell_type": "code",
   "execution_count": 191,
   "metadata": {},
   "outputs": [
    {
     "name": "stderr",
     "output_type": "stream",
     "text": [
      "C:\\Users\\rdeic\\AppData\\Local\\Temp\\ipykernel_18116\\2959704183.py:11: FutureWarning:\n",
      "\n",
      "Downcasting object dtype arrays on .fillna, .ffill, .bfill is deprecated and will change in a future version. Call result.infer_objects(copy=False) instead. To opt-in to the future behavior, set `pd.set_option('future.no_silent_downcasting', True)`\n",
      "\n"
     ]
    },
    {
     "data": {
      "text/plain": [
       "(516, 8)"
      ]
     },
     "execution_count": 191,
     "metadata": {},
     "output_type": "execute_result"
    }
   ],
   "source": [
    "drop_indices = np.where(remove_indexes == 1)[0]\n",
    "\n",
    "# Methode 1: Mit drop und Index-Labels\n",
    "df = df.drop(index=drop_indices)\n",
    "\n",
    "df['diff'] = df['start_b'].diff()\n",
    "#df['flag'] = df['diff'].apply(lambda x: 1 if x<1 else 0)\n",
    "df['flag'] = 0\n",
    "neg_diffs = df['diff'] < 1\n",
    "df.loc[neg_diffs, 'flag'] = 1\n",
    "shifted_mask = pd.Series(neg_diffs).shift(-1).fillna(False)\n",
    "df.loc[shifted_mask, 'flag'] = 1\n",
    "\n",
    "\n",
    "df.shape"
   ]
  },
  {
   "cell_type": "code",
   "execution_count": 167,
   "metadata": {},
   "outputs": [
    {
     "ename": "ValueError",
     "evalue": "cannot insert level_0, already exists",
     "output_type": "error",
     "traceback": [
      "\u001b[1;31m---------------------------------------------------------------------------\u001b[0m",
      "\u001b[1;31mValueError\u001b[0m                                Traceback (most recent call last)",
      "\u001b[1;32m~\\AppData\\Local\\Temp\\ipykernel_18116\\136303746.py\u001b[0m in \u001b[0;36m?\u001b[1;34m()\u001b[0m\n\u001b[1;32m----> 1\u001b[1;33m \u001b[0mdf\u001b[0m\u001b[1;33m.\u001b[0m\u001b[0mreset_index\u001b[0m\u001b[1;33m(\u001b[0m\u001b[0minplace\u001b[0m\u001b[1;33m=\u001b[0m\u001b[1;32mTrue\u001b[0m\u001b[1;33m)\u001b[0m\u001b[1;33m\u001b[0m\u001b[1;33m\u001b[0m\u001b[0m\n\u001b[0m",
      "\u001b[1;32mc:\\Users\\rdeic\\OneDrive\\Dokumente\\Programierung\\eigeneProjekte\\text-cluster-comparison\\.venv\\Lib\\site-packages\\pandas\\core\\frame.py\u001b[0m in \u001b[0;36m?\u001b[1;34m(self, level, drop, inplace, col_level, col_fill, allow_duplicates, names)\u001b[0m\n\u001b[0;32m   6468\u001b[0m                     level_values = algorithms.take(\n\u001b[0;32m   6469\u001b[0m                         \u001b[0mlevel_values\u001b[0m\u001b[1;33m,\u001b[0m \u001b[0mlab\u001b[0m\u001b[1;33m,\u001b[0m \u001b[0mallow_fill\u001b[0m\u001b[1;33m=\u001b[0m\u001b[1;32mTrue\u001b[0m\u001b[1;33m,\u001b[0m \u001b[0mfill_value\u001b[0m\u001b[1;33m=\u001b[0m\u001b[0mlev\u001b[0m\u001b[1;33m.\u001b[0m\u001b[0m_na_value\u001b[0m\u001b[1;33m\u001b[0m\u001b[1;33m\u001b[0m\u001b[0m\n\u001b[0;32m   6470\u001b[0m                     )\n\u001b[0;32m   6471\u001b[0m \u001b[1;33m\u001b[0m\u001b[0m\n\u001b[1;32m-> 6472\u001b[1;33m                 new_obj.insert(\n\u001b[0m\u001b[0;32m   6473\u001b[0m                     \u001b[1;36m0\u001b[0m\u001b[1;33m,\u001b[0m\u001b[1;33m\u001b[0m\u001b[1;33m\u001b[0m\u001b[0m\n\u001b[0;32m   6474\u001b[0m                     \u001b[0mname\u001b[0m\u001b[1;33m,\u001b[0m\u001b[1;33m\u001b[0m\u001b[1;33m\u001b[0m\u001b[0m\n\u001b[0;32m   6475\u001b[0m                     \u001b[0mlevel_values\u001b[0m\u001b[1;33m,\u001b[0m\u001b[1;33m\u001b[0m\u001b[1;33m\u001b[0m\u001b[0m\n",
      "\u001b[1;32mc:\\Users\\rdeic\\OneDrive\\Dokumente\\Programierung\\eigeneProjekte\\text-cluster-comparison\\.venv\\Lib\\site-packages\\pandas\\core\\frame.py\u001b[0m in \u001b[0;36m?\u001b[1;34m(self, loc, column, value, allow_duplicates)\u001b[0m\n\u001b[0;32m   5154\u001b[0m                 \u001b[1;34m\"'self.flags.allows_duplicate_labels' is False.\"\u001b[0m\u001b[1;33m\u001b[0m\u001b[1;33m\u001b[0m\u001b[0m\n\u001b[0;32m   5155\u001b[0m             )\n\u001b[0;32m   5156\u001b[0m         \u001b[1;32mif\u001b[0m \u001b[1;32mnot\u001b[0m \u001b[0mallow_duplicates\u001b[0m \u001b[1;32mand\u001b[0m \u001b[0mcolumn\u001b[0m \u001b[1;32min\u001b[0m \u001b[0mself\u001b[0m\u001b[1;33m.\u001b[0m\u001b[0mcolumns\u001b[0m\u001b[1;33m:\u001b[0m\u001b[1;33m\u001b[0m\u001b[1;33m\u001b[0m\u001b[0m\n\u001b[0;32m   5157\u001b[0m             \u001b[1;31m# Should this be a different kind of error??\u001b[0m\u001b[1;33m\u001b[0m\u001b[1;33m\u001b[0m\u001b[0m\n\u001b[1;32m-> 5158\u001b[1;33m             \u001b[1;32mraise\u001b[0m \u001b[0mValueError\u001b[0m\u001b[1;33m(\u001b[0m\u001b[1;34mf\"cannot insert {column}, already exists\"\u001b[0m\u001b[1;33m)\u001b[0m\u001b[1;33m\u001b[0m\u001b[1;33m\u001b[0m\u001b[0m\n\u001b[0m\u001b[0;32m   5159\u001b[0m         \u001b[1;32mif\u001b[0m \u001b[1;32mnot\u001b[0m \u001b[0mis_integer\u001b[0m\u001b[1;33m(\u001b[0m\u001b[0mloc\u001b[0m\u001b[1;33m)\u001b[0m\u001b[1;33m:\u001b[0m\u001b[1;33m\u001b[0m\u001b[1;33m\u001b[0m\u001b[0m\n\u001b[0;32m   5160\u001b[0m             \u001b[1;32mraise\u001b[0m \u001b[0mTypeError\u001b[0m\u001b[1;33m(\u001b[0m\u001b[1;34m\"loc must be int\"\u001b[0m\u001b[1;33m)\u001b[0m\u001b[1;33m\u001b[0m\u001b[1;33m\u001b[0m\u001b[0m\n\u001b[0;32m   5161\u001b[0m         \u001b[1;31m# convert non stdlib ints to satisfy typing checks\u001b[0m\u001b[1;33m\u001b[0m\u001b[1;33m\u001b[0m\u001b[0m\n",
      "\u001b[1;31mValueError\u001b[0m: cannot insert level_0, already exists"
     ]
    }
   ],
   "source": [
    "df.reset_index(inplace=True)"
   ]
  },
  {
   "cell_type": "code",
   "execution_count": 157,
   "metadata": {},
   "outputs": [
    {
     "data": {
      "text/plain": [
       "array([0., 0., 0., 0., 0., 0., 0., 0., 0., 1., 0., 0., 0., 0., 1., 0., 0.,\n",
       "       1., 0., 0., 0., 0., 0., 0., 0., 0., 0., 0., 0., 0., 0., 0., 0., 0.,\n",
       "       0., 0., 0., 1., 0., 0., 0., 0., 0., 0., 0., 0., 0., 0., 0., 0., 0.,\n",
       "       0., 0., 0., 0., 1., 0., 0., 0., 0., 0., 0., 0., 0., 0., 0., 0., 0.,\n",
       "       0., 0., 0., 0., 0., 0., 0., 0., 0., 0., 0., 0., 0., 0., 0., 0., 0.,\n",
       "       0., 0., 0., 0., 0., 0., 0., 0., 0., 0., 0., 1., 0., 0., 0., 1., 0.,\n",
       "       0., 0., 0., 0., 0., 0., 0., 1., 0., 0., 0., 0., 0., 0., 0., 0., 0.,\n",
       "       0., 0., 0., 0., 0., 0., 0., 0., 0., 0., 0., 0., 0., 0., 0., 0., 0.,\n",
       "       0., 0., 0., 0., 0., 0., 0., 0., 0., 0., 0., 0., 1., 0., 0., 0., 1.,\n",
       "       0., 1., 1., 0., 0., 0., 0., 0., 0., 1., 0., 0., 0., 0., 0., 1., 0.,\n",
       "       0., 0., 0., 0., 0., 0., 1., 0., 0., 0., 0., 0., 0., 0., 0., 0., 0.,\n",
       "       0., 1., 1., 0., 0., 1., 0., 0., 1., 0., 0., 0., 0., 0., 0., 0., 0.,\n",
       "       0., 0., 0., 0., 0., 0., 0., 0., 0., 0., 0., 1., 0., 0., 0., 0., 0.,\n",
       "       0., 0., 0., 0., 0., 0., 0., 0., 0., 0., 0., 0., 0., 0., 0., 0., 0.,\n",
       "       0., 0., 0., 0., 0., 0., 0., 0., 0., 0., 0., 0., 0., 0., 0., 0., 0.,\n",
       "       0., 0., 0., 0., 0., 0., 0., 0., 0., 0., 0., 0., 0., 0., 0., 0., 0.,\n",
       "       0., 0., 0., 0., 0., 0., 0., 1., 0., 0., 0., 0., 0., 0., 0., 0., 0.,\n",
       "       0., 0., 0., 1., 0., 0., 0., 0., 0., 0., 0., 0., 0., 0., 0., 0., 0.,\n",
       "       0., 0., 0., 0., 0., 0., 0., 0., 0., 0., 0., 0., 0., 0., 0., 0., 1.,\n",
       "       1., 0., 0., 0., 0., 0., 0., 0., 0., 0., 0., 0., 0., 0., 0., 1., 1.,\n",
       "       0., 1., 0., 1., 1., 1., 0., 0., 0., 0., 1., 0., 0., 0., 0., 0., 0.,\n",
       "       0., 0., 0., 1., 0., 1., 1., 0., 0., 0., 0., 0., 1., 0., 0., 0., 0.,\n",
       "       0., 0., 0., 0., 0., 0., 0., 0., 0., 0., 1., 0., 0., 0., 0., 0., 0.,\n",
       "       0., 0., 0., 0., 0., 0., 0., 0., 0., 0., 0., 1., 0., 0., 0., 0., 0.,\n",
       "       0., 0., 0., 0., 0., 0., 0., 0., 0., 0., 0., 0., 0., 0., 0., 0., 0.,\n",
       "       0., 0., 0., 0., 0., 0., 0., 0., 0., 0., 0., 0., 0., 0., 0., 0., 0.,\n",
       "       0., 0., 0., 0., 0., 0., 0., 0., 0., 0., 0., 0., 0., 0., 0., 0., 0.,\n",
       "       0., 0., 0., 0., 0., 0., 0., 0., 0., 0., 0., 0., 0., 0., 0., 0., 0.,\n",
       "       0., 0., 0., 0., 1., 0., 0., 0., 0., 0., 0., 0., 0., 0., 0., 0., 0.,\n",
       "       0., 0., 0., 0., 0., 0., 0., 0., 0., 0., 0., 0., 0., 0., 0., 0., 0.,\n",
       "       0., 0., 0., 0., 0., 0., 0., 0., 0., 0., 0., 0., 0., 0., 0., 0., 0.,\n",
       "       0., 0., 0., 0., 0., 0., 0., 0., 0., 0., 0., 0., 0., 1., 0., 0., 0.,\n",
       "       0., 0., 0., 0., 0., 0., 0., 0., 0., 0., 0., 0., 0., 0., 0., 0., 0.,\n",
       "       0., 0., 0., 0., 0., 0., 0., 1., 0., 0., 0., 0., 0., 0., 0., 0., 1.,\n",
       "       1., 0.])"
      ]
     },
     "execution_count": 157,
     "metadata": {},
     "output_type": "execute_result"
    }
   ],
   "source": [
    "remove_indexes"
   ]
  },
  {
   "cell_type": "code",
   "execution_count": 465,
   "metadata": {},
   "outputs": [
    {
     "data": {
      "application/vnd.plotly.v1+json": {
       "config": {
        "plotlyServerURL": "https://plot.ly"
       },
       "data": [
        {
         "hovertemplate": "index=%{x}<br>start_b=%{y}<extra></extra>",
         "legendgroup": "",
         "line": {
          "color": "#636efa",
          "dash": "solid"
         },
         "marker": {
          "symbol": "circle"
         },
         "mode": "lines",
         "name": "",
         "orientation": "v",
         "showlegend": false,
         "type": "scatter",
         "x": {
          "bdata": "AAABAAIAAwAEAAUABgAHAAgACQAKAAsADAANAA4ADwAQABEAEgATABQAFQAWABcAGAAZABoAGwAcAB0AHgAfACAAIQAiACMAJAAlACYAJwAoACkAKgArACwALQAuAC8AMAAxADIAMwA0ADUANgA3ADgAOQA6ADsAPAA9AD4APwBAAEEAQgBDAEQARQBGAEcASABJAEoASwBMAE0ATgBPAFAAUQBSAFMAVABVAFYAVwBYAFkAWgBbAFwAXQBeAF8AYABhAGIAYwBkAGUAZgBnAGgAaQBqAGsAbABtAG4AbwBwAHEAcgBzAHQAdQB2AHcAeAB5AHoAewB8AH0AfgB/AIAAgQCCAIMAhACFAIYAhwCIAIkAigCLAIwAjQCOAI8AkACRAJIAkwCUAJUAlgCXAJgAmQCaAJsAnACdAJ4AnwCgAKEAogCjAKQApQCmAKcAqACpAKoAqwCsAK0ArgCvALAAsQCyALMAtAC1ALYAtwC4ALkAugC7ALwAvQC+AL8AwADBAMIAwwDEAMUAxgDHAMgAyQDKAMsAzADNAM4AzwDQANEA0gDTANQA1QDWANcA2ADZANoA2wDcAN0A3gDfAOAA4QDiAOMA5ADlAOYA5wDoAOkA6gDrAOwA7QDuAO8A8ADxAPIA8wD0APUA9gD3APgA+QD6APsA/AD9AP4A/wAAAQEBAgEDAQQBBQEGAQcBCAEJAQoBCwEMAQ0BDgEPARABEQESARMBFAEVARYBFwEYARkBGgEbARwBHQEeAR8BIAEhASIBIwEkASUBJgEnASgBKQEqASsBLAEtAS4BLwEwATEBMgEzATQBNQE2ATcBOAE5AToBOwE8AT0BPgE/AUABQQFCAUMBRAFFAUYBRwFIAUkBSgFLAUwBTQFOAU8BUAFRAVIBUwFUAVUBVgFXAVgBWQFaAVsBXAFdAV4BXwFgAWEBYgFjAWQBZQFmAWcBaAFpAWoBawFsAW0BbgFvAXABcQFyAXMBdAF1AXYBdwF4AXkBegF7AXwBfQF+AX8BgAGBAYIBgwGEAYUBhgGHAYgBiQGKAYsBjAGNAY4BjwGQAZEBkgGTAZQBlQGWAZcBmAGZAZoBmwGcAZ0BngGfAaABoQGiAaMBpAGlAaYBpwGoAakBqgGrAawBrQGuAa8BsAGxAbIBswG0AbUBtgG3AbgBuQG6AbsBvAG9Ab4BvwHAAcEBwgHDAcQBxQHGAccByAHJAcoBywHMAc0BzgHPAdAB0QHSAdMB1AHVAdYB1wHYAdkB2gHbAdwB3QHeAd8B4AHhAeIB4wHkAeUB5gHnAegB6QHqAesB7AHtAe4B7wHwAfEB8gHzAfQB9QH2AfcB+AH5AfoB",
          "dtype": "i2"
         },
         "xaxis": "x",
         "y": {
          "bdata": "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",
          "dtype": "i4"
         },
         "yaxis": "y"
        }
       ],
       "layout": {
        "legend": {
         "tracegroupgap": 0
        },
        "margin": {
         "t": 60
        },
        "template": {
         "data": {
          "bar": [
           {
            "error_x": {
             "color": "#2a3f5f"
            },
            "error_y": {
             "color": "#2a3f5f"
            },
            "marker": {
             "line": {
              "color": "#E5ECF6",
              "width": 0.5
             },
             "pattern": {
              "fillmode": "overlay",
              "size": 10,
              "solidity": 0.2
             }
            },
            "type": "bar"
           }
          ],
          "barpolar": [
           {
            "marker": {
             "line": {
              "color": "#E5ECF6",
              "width": 0.5
             },
             "pattern": {
              "fillmode": "overlay",
              "size": 10,
              "solidity": 0.2
             }
            },
            "type": "barpolar"
           }
          ],
          "carpet": [
           {
            "aaxis": {
             "endlinecolor": "#2a3f5f",
             "gridcolor": "white",
             "linecolor": "white",
             "minorgridcolor": "white",
             "startlinecolor": "#2a3f5f"
            },
            "baxis": {
             "endlinecolor": "#2a3f5f",
             "gridcolor": "white",
             "linecolor": "white",
             "minorgridcolor": "white",
             "startlinecolor": "#2a3f5f"
            },
            "type": "carpet"
           }
          ],
          "choropleth": [
           {
            "colorbar": {
             "outlinewidth": 0,
             "ticks": ""
            },
            "type": "choropleth"
           }
          ],
          "contour": [
           {
            "colorbar": {
             "outlinewidth": 0,
             "ticks": ""
            },
            "colorscale": [
             [
              0,
              "#0d0887"
             ],
             [
              0.1111111111111111,
              "#46039f"
             ],
             [
              0.2222222222222222,
              "#7201a8"
             ],
             [
              0.3333333333333333,
              "#9c179e"
             ],
             [
              0.4444444444444444,
              "#bd3786"
             ],
             [
              0.5555555555555556,
              "#d8576b"
             ],
             [
              0.6666666666666666,
              "#ed7953"
             ],
             [
              0.7777777777777778,
              "#fb9f3a"
             ],
             [
              0.8888888888888888,
              "#fdca26"
             ],
             [
              1,
              "#f0f921"
             ]
            ],
            "type": "contour"
           }
          ],
          "contourcarpet": [
           {
            "colorbar": {
             "outlinewidth": 0,
             "ticks": ""
            },
            "type": "contourcarpet"
           }
          ],
          "heatmap": [
           {
            "colorbar": {
             "outlinewidth": 0,
             "ticks": ""
            },
            "colorscale": [
             [
              0,
              "#0d0887"
             ],
             [
              0.1111111111111111,
              "#46039f"
             ],
             [
              0.2222222222222222,
              "#7201a8"
             ],
             [
              0.3333333333333333,
              "#9c179e"
             ],
             [
              0.4444444444444444,
              "#bd3786"
             ],
             [
              0.5555555555555556,
              "#d8576b"
             ],
             [
              0.6666666666666666,
              "#ed7953"
             ],
             [
              0.7777777777777778,
              "#fb9f3a"
             ],
             [
              0.8888888888888888,
              "#fdca26"
             ],
             [
              1,
              "#f0f921"
             ]
            ],
            "type": "heatmap"
           }
          ],
          "histogram": [
           {
            "marker": {
             "pattern": {
              "fillmode": "overlay",
              "size": 10,
              "solidity": 0.2
             }
            },
            "type": "histogram"
           }
          ],
          "histogram2d": [
           {
            "colorbar": {
             "outlinewidth": 0,
             "ticks": ""
            },
            "colorscale": [
             [
              0,
              "#0d0887"
             ],
             [
              0.1111111111111111,
              "#46039f"
             ],
             [
              0.2222222222222222,
              "#7201a8"
             ],
             [
              0.3333333333333333,
              "#9c179e"
             ],
             [
              0.4444444444444444,
              "#bd3786"
             ],
             [
              0.5555555555555556,
              "#d8576b"
             ],
             [
              0.6666666666666666,
              "#ed7953"
             ],
             [
              0.7777777777777778,
              "#fb9f3a"
             ],
             [
              0.8888888888888888,
              "#fdca26"
             ],
             [
              1,
              "#f0f921"
             ]
            ],
            "type": "histogram2d"
           }
          ],
          "histogram2dcontour": [
           {
            "colorbar": {
             "outlinewidth": 0,
             "ticks": ""
            },
            "colorscale": [
             [
              0,
              "#0d0887"
             ],
             [
              0.1111111111111111,
              "#46039f"
             ],
             [
              0.2222222222222222,
              "#7201a8"
             ],
             [
              0.3333333333333333,
              "#9c179e"
             ],
             [
              0.4444444444444444,
              "#bd3786"
             ],
             [
              0.5555555555555556,
              "#d8576b"
             ],
             [
              0.6666666666666666,
              "#ed7953"
             ],
             [
              0.7777777777777778,
              "#fb9f3a"
             ],
             [
              0.8888888888888888,
              "#fdca26"
             ],
             [
              1,
              "#f0f921"
             ]
            ],
            "type": "histogram2dcontour"
           }
          ],
          "mesh3d": [
           {
            "colorbar": {
             "outlinewidth": 0,
             "ticks": ""
            },
            "type": "mesh3d"
           }
          ],
          "parcoords": [
           {
            "line": {
             "colorbar": {
              "outlinewidth": 0,
              "ticks": ""
             }
            },
            "type": "parcoords"
           }
          ],
          "pie": [
           {
            "automargin": true,
            "type": "pie"
           }
          ],
          "scatter": [
           {
            "fillpattern": {
             "fillmode": "overlay",
             "size": 10,
             "solidity": 0.2
            },
            "type": "scatter"
           }
          ],
          "scatter3d": [
           {
            "line": {
             "colorbar": {
              "outlinewidth": 0,
              "ticks": ""
             }
            },
            "marker": {
             "colorbar": {
              "outlinewidth": 0,
              "ticks": ""
             }
            },
            "type": "scatter3d"
           }
          ],
          "scattercarpet": [
           {
            "marker": {
             "colorbar": {
              "outlinewidth": 0,
              "ticks": ""
             }
            },
            "type": "scattercarpet"
           }
          ],
          "scattergeo": [
           {
            "marker": {
             "colorbar": {
              "outlinewidth": 0,
              "ticks": ""
             }
            },
            "type": "scattergeo"
           }
          ],
          "scattergl": [
           {
            "marker": {
             "colorbar": {
              "outlinewidth": 0,
              "ticks": ""
             }
            },
            "type": "scattergl"
           }
          ],
          "scattermap": [
           {
            "marker": {
             "colorbar": {
              "outlinewidth": 0,
              "ticks": ""
             }
            },
            "type": "scattermap"
           }
          ],
          "scattermapbox": [
           {
            "marker": {
             "colorbar": {
              "outlinewidth": 0,
              "ticks": ""
             }
            },
            "type": "scattermapbox"
           }
          ],
          "scatterpolar": [
           {
            "marker": {
             "colorbar": {
              "outlinewidth": 0,
              "ticks": ""
             }
            },
            "type": "scatterpolar"
           }
          ],
          "scatterpolargl": [
           {
            "marker": {
             "colorbar": {
              "outlinewidth": 0,
              "ticks": ""
             }
            },
            "type": "scatterpolargl"
           }
          ],
          "scatterternary": [
           {
            "marker": {
             "colorbar": {
              "outlinewidth": 0,
              "ticks": ""
             }
            },
            "type": "scatterternary"
           }
          ],
          "surface": [
           {
            "colorbar": {
             "outlinewidth": 0,
             "ticks": ""
            },
            "colorscale": [
             [
              0,
              "#0d0887"
             ],
             [
              0.1111111111111111,
              "#46039f"
             ],
             [
              0.2222222222222222,
              "#7201a8"
             ],
             [
              0.3333333333333333,
              "#9c179e"
             ],
             [
              0.4444444444444444,
              "#bd3786"
             ],
             [
              0.5555555555555556,
              "#d8576b"
             ],
             [
              0.6666666666666666,
              "#ed7953"
             ],
             [
              0.7777777777777778,
              "#fb9f3a"
             ],
             [
              0.8888888888888888,
              "#fdca26"
             ],
             [
              1,
              "#f0f921"
             ]
            ],
            "type": "surface"
           }
          ],
          "table": [
           {
            "cells": {
             "fill": {
              "color": "#EBF0F8"
             },
             "line": {
              "color": "white"
             }
            },
            "header": {
             "fill": {
              "color": "#C8D4E3"
             },
             "line": {
              "color": "white"
             }
            },
            "type": "table"
           }
          ]
         },
         "layout": {
          "annotationdefaults": {
           "arrowcolor": "#2a3f5f",
           "arrowhead": 0,
           "arrowwidth": 1
          },
          "autotypenumbers": "strict",
          "coloraxis": {
           "colorbar": {
            "outlinewidth": 0,
            "ticks": ""
           }
          },
          "colorscale": {
           "diverging": [
            [
             0,
             "#8e0152"
            ],
            [
             0.1,
             "#c51b7d"
            ],
            [
             0.2,
             "#de77ae"
            ],
            [
             0.3,
             "#f1b6da"
            ],
            [
             0.4,
             "#fde0ef"
            ],
            [
             0.5,
             "#f7f7f7"
            ],
            [
             0.6,
             "#e6f5d0"
            ],
            [
             0.7,
             "#b8e186"
            ],
            [
             0.8,
             "#7fbc41"
            ],
            [
             0.9,
             "#4d9221"
            ],
            [
             1,
             "#276419"
            ]
           ],
           "sequential": [
            [
             0,
             "#0d0887"
            ],
            [
             0.1111111111111111,
             "#46039f"
            ],
            [
             0.2222222222222222,
             "#7201a8"
            ],
            [
             0.3333333333333333,
             "#9c179e"
            ],
            [
             0.4444444444444444,
             "#bd3786"
            ],
            [
             0.5555555555555556,
             "#d8576b"
            ],
            [
             0.6666666666666666,
             "#ed7953"
            ],
            [
             0.7777777777777778,
             "#fb9f3a"
            ],
            [
             0.8888888888888888,
             "#fdca26"
            ],
            [
             1,
             "#f0f921"
            ]
           ],
           "sequentialminus": [
            [
             0,
             "#0d0887"
            ],
            [
             0.1111111111111111,
             "#46039f"
            ],
            [
             0.2222222222222222,
             "#7201a8"
            ],
            [
             0.3333333333333333,
             "#9c179e"
            ],
            [
             0.4444444444444444,
             "#bd3786"
            ],
            [
             0.5555555555555556,
             "#d8576b"
            ],
            [
             0.6666666666666666,
             "#ed7953"
            ],
            [
             0.7777777777777778,
             "#fb9f3a"
            ],
            [
             0.8888888888888888,
             "#fdca26"
            ],
            [
             1,
             "#f0f921"
            ]
           ]
          },
          "colorway": [
           "#636efa",
           "#EF553B",
           "#00cc96",
           "#ab63fa",
           "#FFA15A",
           "#19d3f3",
           "#FF6692",
           "#B6E880",
           "#FF97FF",
           "#FECB52"
          ],
          "font": {
           "color": "#2a3f5f"
          },
          "geo": {
           "bgcolor": "white",
           "lakecolor": "white",
           "landcolor": "#E5ECF6",
           "showlakes": true,
           "showland": true,
           "subunitcolor": "white"
          },
          "hoverlabel": {
           "align": "left"
          },
          "hovermode": "closest",
          "mapbox": {
           "style": "light"
          },
          "paper_bgcolor": "white",
          "plot_bgcolor": "#E5ECF6",
          "polar": {
           "angularaxis": {
            "gridcolor": "white",
            "linecolor": "white",
            "ticks": ""
           },
           "bgcolor": "#E5ECF6",
           "radialaxis": {
            "gridcolor": "white",
            "linecolor": "white",
            "ticks": ""
           }
          },
          "scene": {
           "xaxis": {
            "backgroundcolor": "#E5ECF6",
            "gridcolor": "white",
            "gridwidth": 2,
            "linecolor": "white",
            "showbackground": true,
            "ticks": "",
            "zerolinecolor": "white"
           },
           "yaxis": {
            "backgroundcolor": "#E5ECF6",
            "gridcolor": "white",
            "gridwidth": 2,
            "linecolor": "white",
            "showbackground": true,
            "ticks": "",
            "zerolinecolor": "white"
           },
           "zaxis": {
            "backgroundcolor": "#E5ECF6",
            "gridcolor": "white",
            "gridwidth": 2,
            "linecolor": "white",
            "showbackground": true,
            "ticks": "",
            "zerolinecolor": "white"
           }
          },
          "shapedefaults": {
           "line": {
            "color": "#2a3f5f"
           }
          },
          "ternary": {
           "aaxis": {
            "gridcolor": "white",
            "linecolor": "white",
            "ticks": ""
           },
           "baxis": {
            "gridcolor": "white",
            "linecolor": "white",
            "ticks": ""
           },
           "bgcolor": "#E5ECF6",
           "caxis": {
            "gridcolor": "white",
            "linecolor": "white",
            "ticks": ""
           }
          },
          "title": {
           "x": 0.05
          },
          "xaxis": {
           "automargin": true,
           "gridcolor": "white",
           "linecolor": "white",
           "ticks": "",
           "title": {
            "standoff": 15
           },
           "zerolinecolor": "white",
           "zerolinewidth": 2
          },
          "yaxis": {
           "automargin": true,
           "gridcolor": "white",
           "linecolor": "white",
           "ticks": "",
           "title": {
            "standoff": 15
           },
           "zerolinecolor": "white",
           "zerolinewidth": 2
          }
         }
        },
        "xaxis": {
         "anchor": "y",
         "domain": [
          0,
          1
         ],
         "title": {
          "text": "index"
         }
        },
        "yaxis": {
         "anchor": "x",
         "domain": [
          0,
          1
         ],
         "title": {
          "text": "start_b"
         }
        }
       }
      }
     },
     "metadata": {},
     "output_type": "display_data"
    }
   ],
   "source": [
    "fig = px.line(df, y='start_b')\n",
    "fig"
   ]
  },
  {
   "cell_type": "code",
   "execution_count": 426,
   "metadata": {},
   "outputs": [
    {
     "data": {
      "application/vnd.plotly.v1+json": {
       "config": {
        "plotlyServerURL": "https://plot.ly"
       },
       "data": [
        {
         "hovertemplate": "index=%{x}<br>diff=%{y}<extra></extra>",
         "legendgroup": "",
         "line": {
          "color": "#636efa",
          "dash": "solid"
         },
         "marker": {
          "symbol": "circle"
         },
         "mode": "lines",
         "name": "",
         "orientation": "v",
         "showlegend": false,
         "type": "scatter",
         "x": {
          "bdata": "AAABAAIAAwAEAAUABgAHAAgACQAKAAsADAANAA4ADwAQABEAEgATABQAFQAWABcAGAAZABoAGwAcAB0AHgAfACAAIQAiACMAJAAlACYAJwAoACkAKgArACwALQAuAC8AMAAxADIAMwA0ADUANgA3ADgAOQA6ADsAPAA9AD4APwBAAEEAQgBDAEQARQBGAEcASABJAEoASwBMAE0ATgBPAFAAUQBSAFMAVABVAFYAVwBYAFkAWgBbAFwAXQBeAF8AYABhAGIAYwBkAGUAZgBnAGgAaQBqAGsAbABtAG4AbwBwAHEAcgBzAHQAdQB2AHcAeAB5AHoAewB8AH0AfgB/AIAAgQCCAIMAhACFAIYAhwCIAIkAigCLAIwAjQCOAI8AkACRAJIAkwCUAJUAlgCXAJgAmQCaAJsAnACdAJ4AnwCgAKEAogCjAKQApQCmAKcAqACpAKoAqwCsAK0ArgCvALAAsQCyALMAtAC1ALYAtwC4ALkAugC7ALwAvQC+AL8AwADBAMIAwwDEAMUAxgDHAMgAyQDKAMsAzADNAM4AzwDQANEA0gDTANQA1QDWANcA2ADZANoA2wDcAN0A3gDfAOAA4QDiAOMA5ADlAOYA5wDoAOkA6gDrAOwA7QDuAO8A8ADxAPIA8wD0APUA9gD3APgA+QD6APsA/AD9AP4A/wAAAQEBAgEDAQQBBQEGAQcBCAEJAQoBCwEMAQ0BDgEPARABEQESARMBFAEVARYBFwEYARkBGgEbARwBHQEeAR8BIAEhASIBIwEkASUBJgEnASgBKQEqASsBLAEtAS4BLwEwATEBMgEzATQBNQE2ATcBOAE5AToBOwE8AT0BPgE/AUABQQFCAUMBRAFFAUYBRwFIAUkBSgFLAUwBTQFOAU8BUAFRAVIBUwFUAVUBVgFXAVgBWQFaAVsBXAFdAV4BXwFgAWEBYgFjAWQBZQFmAWcBaAFpAWoBawFsAW0BbgFvAXABcQFyAXMBdAF1AXYBdwF4AXkBegF7AXwBfQF+AX8BgAGBAYIBgwGEAYUBhgGHAYgBiQGKAYsBjAGNAY4BjwGQAZEBkgGTAZQBlQGWAZcBmAGZAZoBmwGcAZ0BngGfAaABoQGiAaMBpAGlAaYBpwGoAakBqgGrAawBrQGuAa8BsAGxAbIBswG0AbUBtgG3AbgBuQG6AbsBvAG9Ab4BvwHAAcEBwgHDAcQBxQHGAQ==",
          "dtype": "i2"
         },
         "xaxis": "x",
         "y": {
          "bdata": "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",
          "dtype": "f8"
         },
         "yaxis": "y"
        }
       ],
       "layout": {
        "legend": {
         "tracegroupgap": 0
        },
        "margin": {
         "t": 60
        },
        "template": {
         "data": {
          "bar": [
           {
            "error_x": {
             "color": "#2a3f5f"
            },
            "error_y": {
             "color": "#2a3f5f"
            },
            "marker": {
             "line": {
              "color": "#E5ECF6",
              "width": 0.5
             },
             "pattern": {
              "fillmode": "overlay",
              "size": 10,
              "solidity": 0.2
             }
            },
            "type": "bar"
           }
          ],
          "barpolar": [
           {
            "marker": {
             "line": {
              "color": "#E5ECF6",
              "width": 0.5
             },
             "pattern": {
              "fillmode": "overlay",
              "size": 10,
              "solidity": 0.2
             }
            },
            "type": "barpolar"
           }
          ],
          "carpet": [
           {
            "aaxis": {
             "endlinecolor": "#2a3f5f",
             "gridcolor": "white",
             "linecolor": "white",
             "minorgridcolor": "white",
             "startlinecolor": "#2a3f5f"
            },
            "baxis": {
             "endlinecolor": "#2a3f5f",
             "gridcolor": "white",
             "linecolor": "white",
             "minorgridcolor": "white",
             "startlinecolor": "#2a3f5f"
            },
            "type": "carpet"
           }
          ],
          "choropleth": [
           {
            "colorbar": {
             "outlinewidth": 0,
             "ticks": ""
            },
            "type": "choropleth"
           }
          ],
          "contour": [
           {
            "colorbar": {
             "outlinewidth": 0,
             "ticks": ""
            },
            "colorscale": [
             [
              0,
              "#0d0887"
             ],
             [
              0.1111111111111111,
              "#46039f"
             ],
             [
              0.2222222222222222,
              "#7201a8"
             ],
             [
              0.3333333333333333,
              "#9c179e"
             ],
             [
              0.4444444444444444,
              "#bd3786"
             ],
             [
              0.5555555555555556,
              "#d8576b"
             ],
             [
              0.6666666666666666,
              "#ed7953"
             ],
             [
              0.7777777777777778,
              "#fb9f3a"
             ],
             [
              0.8888888888888888,
              "#fdca26"
             ],
             [
              1,
              "#f0f921"
             ]
            ],
            "type": "contour"
           }
          ],
          "contourcarpet": [
           {
            "colorbar": {
             "outlinewidth": 0,
             "ticks": ""
            },
            "type": "contourcarpet"
           }
          ],
          "heatmap": [
           {
            "colorbar": {
             "outlinewidth": 0,
             "ticks": ""
            },
            "colorscale": [
             [
              0,
              "#0d0887"
             ],
             [
              0.1111111111111111,
              "#46039f"
             ],
             [
              0.2222222222222222,
              "#7201a8"
             ],
             [
              0.3333333333333333,
              "#9c179e"
             ],
             [
              0.4444444444444444,
              "#bd3786"
             ],
             [
              0.5555555555555556,
              "#d8576b"
             ],
             [
              0.6666666666666666,
              "#ed7953"
             ],
             [
              0.7777777777777778,
              "#fb9f3a"
             ],
             [
              0.8888888888888888,
              "#fdca26"
             ],
             [
              1,
              "#f0f921"
             ]
            ],
            "type": "heatmap"
           }
          ],
          "histogram": [
           {
            "marker": {
             "pattern": {
              "fillmode": "overlay",
              "size": 10,
              "solidity": 0.2
             }
            },
            "type": "histogram"
           }
          ],
          "histogram2d": [
           {
            "colorbar": {
             "outlinewidth": 0,
             "ticks": ""
            },
            "colorscale": [
             [
              0,
              "#0d0887"
             ],
             [
              0.1111111111111111,
              "#46039f"
             ],
             [
              0.2222222222222222,
              "#7201a8"
             ],
             [
              0.3333333333333333,
              "#9c179e"
             ],
             [
              0.4444444444444444,
              "#bd3786"
             ],
             [
              0.5555555555555556,
              "#d8576b"
             ],
             [
              0.6666666666666666,
              "#ed7953"
             ],
             [
              0.7777777777777778,
              "#fb9f3a"
             ],
             [
              0.8888888888888888,
              "#fdca26"
             ],
             [
              1,
              "#f0f921"
             ]
            ],
            "type": "histogram2d"
           }
          ],
          "histogram2dcontour": [
           {
            "colorbar": {
             "outlinewidth": 0,
             "ticks": ""
            },
            "colorscale": [
             [
              0,
              "#0d0887"
             ],
             [
              0.1111111111111111,
              "#46039f"
             ],
             [
              0.2222222222222222,
              "#7201a8"
             ],
             [
              0.3333333333333333,
              "#9c179e"
             ],
             [
              0.4444444444444444,
              "#bd3786"
             ],
             [
              0.5555555555555556,
              "#d8576b"
             ],
             [
              0.6666666666666666,
              "#ed7953"
             ],
             [
              0.7777777777777778,
              "#fb9f3a"
             ],
             [
              0.8888888888888888,
              "#fdca26"
             ],
             [
              1,
              "#f0f921"
             ]
            ],
            "type": "histogram2dcontour"
           }
          ],
          "mesh3d": [
           {
            "colorbar": {
             "outlinewidth": 0,
             "ticks": ""
            },
            "type": "mesh3d"
           }
          ],
          "parcoords": [
           {
            "line": {
             "colorbar": {
              "outlinewidth": 0,
              "ticks": ""
             }
            },
            "type": "parcoords"
           }
          ],
          "pie": [
           {
            "automargin": true,
            "type": "pie"
           }
          ],
          "scatter": [
           {
            "fillpattern": {
             "fillmode": "overlay",
             "size": 10,
             "solidity": 0.2
            },
            "type": "scatter"
           }
          ],
          "scatter3d": [
           {
            "line": {
             "colorbar": {
              "outlinewidth": 0,
              "ticks": ""
             }
            },
            "marker": {
             "colorbar": {
              "outlinewidth": 0,
              "ticks": ""
             }
            },
            "type": "scatter3d"
           }
          ],
          "scattercarpet": [
           {
            "marker": {
             "colorbar": {
              "outlinewidth": 0,
              "ticks": ""
             }
            },
            "type": "scattercarpet"
           }
          ],
          "scattergeo": [
           {
            "marker": {
             "colorbar": {
              "outlinewidth": 0,
              "ticks": ""
             }
            },
            "type": "scattergeo"
           }
          ],
          "scattergl": [
           {
            "marker": {
             "colorbar": {
              "outlinewidth": 0,
              "ticks": ""
             }
            },
            "type": "scattergl"
           }
          ],
          "scattermap": [
           {
            "marker": {
             "colorbar": {
              "outlinewidth": 0,
              "ticks": ""
             }
            },
            "type": "scattermap"
           }
          ],
          "scattermapbox": [
           {
            "marker": {
             "colorbar": {
              "outlinewidth": 0,
              "ticks": ""
             }
            },
            "type": "scattermapbox"
           }
          ],
          "scatterpolar": [
           {
            "marker": {
             "colorbar": {
              "outlinewidth": 0,
              "ticks": ""
             }
            },
            "type": "scatterpolar"
           }
          ],
          "scatterpolargl": [
           {
            "marker": {
             "colorbar": {
              "outlinewidth": 0,
              "ticks": ""
             }
            },
            "type": "scatterpolargl"
           }
          ],
          "scatterternary": [
           {
            "marker": {
             "colorbar": {
              "outlinewidth": 0,
              "ticks": ""
             }
            },
            "type": "scatterternary"
           }
          ],
          "surface": [
           {
            "colorbar": {
             "outlinewidth": 0,
             "ticks": ""
            },
            "colorscale": [
             [
              0,
              "#0d0887"
             ],
             [
              0.1111111111111111,
              "#46039f"
             ],
             [
              0.2222222222222222,
              "#7201a8"
             ],
             [
              0.3333333333333333,
              "#9c179e"
             ],
             [
              0.4444444444444444,
              "#bd3786"
             ],
             [
              0.5555555555555556,
              "#d8576b"
             ],
             [
              0.6666666666666666,
              "#ed7953"
             ],
             [
              0.7777777777777778,
              "#fb9f3a"
             ],
             [
              0.8888888888888888,
              "#fdca26"
             ],
             [
              1,
              "#f0f921"
             ]
            ],
            "type": "surface"
           }
          ],
          "table": [
           {
            "cells": {
             "fill": {
              "color": "#EBF0F8"
             },
             "line": {
              "color": "white"
             }
            },
            "header": {
             "fill": {
              "color": "#C8D4E3"
             },
             "line": {
              "color": "white"
             }
            },
            "type": "table"
           }
          ]
         },
         "layout": {
          "annotationdefaults": {
           "arrowcolor": "#2a3f5f",
           "arrowhead": 0,
           "arrowwidth": 1
          },
          "autotypenumbers": "strict",
          "coloraxis": {
           "colorbar": {
            "outlinewidth": 0,
            "ticks": ""
           }
          },
          "colorscale": {
           "diverging": [
            [
             0,
             "#8e0152"
            ],
            [
             0.1,
             "#c51b7d"
            ],
            [
             0.2,
             "#de77ae"
            ],
            [
             0.3,
             "#f1b6da"
            ],
            [
             0.4,
             "#fde0ef"
            ],
            [
             0.5,
             "#f7f7f7"
            ],
            [
             0.6,
             "#e6f5d0"
            ],
            [
             0.7,
             "#b8e186"
            ],
            [
             0.8,
             "#7fbc41"
            ],
            [
             0.9,
             "#4d9221"
            ],
            [
             1,
             "#276419"
            ]
           ],
           "sequential": [
            [
             0,
             "#0d0887"
            ],
            [
             0.1111111111111111,
             "#46039f"
            ],
            [
             0.2222222222222222,
             "#7201a8"
            ],
            [
             0.3333333333333333,
             "#9c179e"
            ],
            [
             0.4444444444444444,
             "#bd3786"
            ],
            [
             0.5555555555555556,
             "#d8576b"
            ],
            [
             0.6666666666666666,
             "#ed7953"
            ],
            [
             0.7777777777777778,
             "#fb9f3a"
            ],
            [
             0.8888888888888888,
             "#fdca26"
            ],
            [
             1,
             "#f0f921"
            ]
           ],
           "sequentialminus": [
            [
             0,
             "#0d0887"
            ],
            [
             0.1111111111111111,
             "#46039f"
            ],
            [
             0.2222222222222222,
             "#7201a8"
            ],
            [
             0.3333333333333333,
             "#9c179e"
            ],
            [
             0.4444444444444444,
             "#bd3786"
            ],
            [
             0.5555555555555556,
             "#d8576b"
            ],
            [
             0.6666666666666666,
             "#ed7953"
            ],
            [
             0.7777777777777778,
             "#fb9f3a"
            ],
            [
             0.8888888888888888,
             "#fdca26"
            ],
            [
             1,
             "#f0f921"
            ]
           ]
          },
          "colorway": [
           "#636efa",
           "#EF553B",
           "#00cc96",
           "#ab63fa",
           "#FFA15A",
           "#19d3f3",
           "#FF6692",
           "#B6E880",
           "#FF97FF",
           "#FECB52"
          ],
          "font": {
           "color": "#2a3f5f"
          },
          "geo": {
           "bgcolor": "white",
           "lakecolor": "white",
           "landcolor": "#E5ECF6",
           "showlakes": true,
           "showland": true,
           "subunitcolor": "white"
          },
          "hoverlabel": {
           "align": "left"
          },
          "hovermode": "closest",
          "mapbox": {
           "style": "light"
          },
          "paper_bgcolor": "white",
          "plot_bgcolor": "#E5ECF6",
          "polar": {
           "angularaxis": {
            "gridcolor": "white",
            "linecolor": "white",
            "ticks": ""
           },
           "bgcolor": "#E5ECF6",
           "radialaxis": {
            "gridcolor": "white",
            "linecolor": "white",
            "ticks": ""
           }
          },
          "scene": {
           "xaxis": {
            "backgroundcolor": "#E5ECF6",
            "gridcolor": "white",
            "gridwidth": 2,
            "linecolor": "white",
            "showbackground": true,
            "ticks": "",
            "zerolinecolor": "white"
           },
           "yaxis": {
            "backgroundcolor": "#E5ECF6",
            "gridcolor": "white",
            "gridwidth": 2,
            "linecolor": "white",
            "showbackground": true,
            "ticks": "",
            "zerolinecolor": "white"
           },
           "zaxis": {
            "backgroundcolor": "#E5ECF6",
            "gridcolor": "white",
            "gridwidth": 2,
            "linecolor": "white",
            "showbackground": true,
            "ticks": "",
            "zerolinecolor": "white"
           }
          },
          "shapedefaults": {
           "line": {
            "color": "#2a3f5f"
           }
          },
          "ternary": {
           "aaxis": {
            "gridcolor": "white",
            "linecolor": "white",
            "ticks": ""
           },
           "baxis": {
            "gridcolor": "white",
            "linecolor": "white",
            "ticks": ""
           },
           "bgcolor": "#E5ECF6",
           "caxis": {
            "gridcolor": "white",
            "linecolor": "white",
            "ticks": ""
           }
          },
          "title": {
           "x": 0.05
          },
          "xaxis": {
           "automargin": true,
           "gridcolor": "white",
           "linecolor": "white",
           "ticks": "",
           "title": {
            "standoff": 15
           },
           "zerolinecolor": "white",
           "zerolinewidth": 2
          },
          "yaxis": {
           "automargin": true,
           "gridcolor": "white",
           "linecolor": "white",
           "ticks": "",
           "title": {
            "standoff": 15
           },
           "zerolinecolor": "white",
           "zerolinewidth": 2
          }
         }
        },
        "xaxis": {
         "anchor": "y",
         "domain": [
          0,
          1
         ],
         "title": {
          "text": "index"
         }
        },
        "yaxis": {
         "anchor": "x",
         "domain": [
          0,
          1
         ],
         "title": {
          "text": "diff"
         }
        }
       }
      }
     },
     "metadata": {},
     "output_type": "display_data"
    }
   ],
   "source": [
    "fig = px.line(df, y='diff')\n",
    "fig"
   ]
  },
  {
   "cell_type": "code",
   "execution_count": 530,
   "metadata": {},
   "outputs": [
    {
     "data": {
      "application/vnd.plotly.v1+json": {
       "config": {
        "plotlyServerURL": "https://plot.ly"
       },
       "data": [
        {
         "hovertemplate": "start_a=%{x}<br>start_b=%{y}<br>flag=%{marker.color}<extra></extra>",
         "legendgroup": "",
         "marker": {
          "color": {
           "bdata": "AAAAAAAAAAAAAAAAAAAAAAAAAAAAAAAAAAAAAAAAAAAAAAAAAAAAAAAAAAAAAAAAAAAAAAAAAAAAAAAAAAAAAAAAAAAAAAAAAAAAAAAAAAAAAAAAAAAAAAAAAAAAAAAAAAAAAAAAAAAAAAAAAAAAAAAAAAAAAAAAAAAAAAAAAAAAAAAAAAAAAAAAAAAAAAAAAAAAAAAAAAAAAAAAAAAAAAAAAAAAAAAAAAAAAAAAAAAAAAAAAAAAAAAAAAAAAAAAAAAAAAAAAAAAAAAAAAAAAAAAAAAAAAAAAAAAAAAAAAAAAAAAAAAAAAAAAAAAAAAAAAAAAAAAAAAAAAAAAAAAAAAAAAAAAAAAAAAAAAAAAAAAAAAAAAAAAAAAAAAAAAAAAAAAAAAAAAAAAAAAAAAAAAAAAAAAAAAAAAAAAAAAAAAAAAAAAAAAAAAAAAAAAAAAAAAAAAAAAAAAAAAAAAAAAAAAAAAAAAAAAAAAAAAAAAAAAAAAAAAAAAAAAAAAAAAAAAAAAAAAAAAAAAAAAAAAAAAAAAAAAAAAAAAAAAAAAAAAAAAAAAAAAAAAAAAAAAAAAAAAAAAAAAAAAAAAAAAAAAAAAAAAAAAAAAAAAAAAAAAAAAAAAAAAAAAAAAAAAAAAAAAAAAAAAAAAAAAAAAAAAAAAAAAAAAAA",
           "dtype": "i1"
          },
          "coloraxis": "coloraxis",
          "symbol": "circle"
         },
         "mode": "markers",
         "name": "",
         "orientation": "v",
         "showlegend": false,
         "type": "scatter",
         "x": {
          "bdata": "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",
          "dtype": "i4"
         },
         "xaxis": "x",
         "y": {
          "bdata": "fwAAANkBAABJAgAAWAIAAMIDAADmAwAABwQAABwEAABZBAAA/QQAAAkFAAAhBQAA+QUAACQGAAA2BgAAeAYAAI0GAAC4BgAA3gYAAP0IAAA4CQAA2wkAAAcKAABJCgAAmAoAAKYKAACzCgAAwwoAANUKAADyCgAAGAsAACYLAAAzCwAADwwAADsMAAAlDQAASA0AAFoNAACBDQAAoA0AAGgOAADdDgAA6A4AAPwOAAAoDwAAOg8AAEoPAABhDwAAhA8AAJ0PAAC8DwAA5g8AAPkPAAANEAAAGxAAAKIQAACyEAAAyBAAAAgRAAAYEQAAMBEAAEcRAABZEQAAdBEAAK4RAADJEQAA2hEAAPIRAAAKEgAAVBIAAG8SAAB/EgAAzxMAAAEUAAArFAAAOxQAAKgUAADFFAAA3RQAAPsUAAAlFQAAMhUAAEUVAABcFQAAfRUAAJQVAADTFQAA+xUAANQfAAAMIAAAICAAALAgAAD/IAAAfSEAALchAAAbIgAAQCIAAFciAABuIgAAjiIAAKYiAAAFJQAALSUAAEIlAABhJQAAoCUAAK0lAADYJQAA9SUAABImAAAmJgAAjSYAAKMmAACwJgAAFCcAAEAnAABhJwAAdScAAI0nAABBKAAAZSgAAHUoAACbKAAAxCgAAPUoAAAIKQAApSkAAMYpAADpKQAABSoAALgqAADLKgAAby0AAG8tAAB/LQAAfy0AAKAtAADRLQAARy4AAEcuAAB+LgAA4C4AAPQuAAAJLwAAOS8AAFMvAABkLwAAfi8AAKYvAADGLwAA1y8AAPAvAAD6LwAA+i8AAEIwAABCMAAAdDAAALEwAADIMAAAADEAACQxAABAMQAAXjEAAHsxAACYMQAAvDEAAAkyAAAZMgAANTIAAEsyAACEMgAAnDIAALAyAAC7MgAA3jIAAPYyAAADMwAAGDMAADwzAABLMwAAZDMAAIEzAACwMwAAzjMAACc0AAA4NAAAWjQAAJ00AADxNQAACzYAAD82AABZNgAAZDYAAI02AACaNgAAazcAAHk3AACMNwAAvTcAANk3AAALOAAAHjgAADk4AABsOAAAvjgAAPA4AAA/OQAATzkAAF85AABzOQAAzzkAADU6AABkOgAAhDoAAJY6AADDOgAA1joAAOE6AAAfOwAARzsAAF87AACCOwAArjsAADc8AABwPAAAlTwAAKM8AADDPAAA5jwAADo9AABVPQAAfz0AAAQ+AABYPgAAbD4AANA+AADpPgAAJz8AAEw/AABiPwAAgT8AAJY/AACmPwAAuD8AAMU/AAD1PwAAE0AAACpAAABHQAAAaEAAAH1AAACJQAAAmUAAAKxAAAC4QAAAxEAAANlAAAAeQQAAXEEAAK9BAAAmQgAAZ0IAAJtCAAD8QgAAFEMAACVDAAAxQwAAZUMAAIBDAACpQwAAxUMAANBDAADwQwAA/kMAAC5EAABVRAAAlkQAAMBEAADKRAAA7EQAABBFAABgRQAAiUUAAJpFAACwRQAA3kUAAAZGAAAURgAAQUYAAHJGAACiRgAAxUYAAAxHAAAyRwAARkcAAK1HAADTRwAA5UcAAPlHAAAESAAAFUgAACpJAABDSQAAY0kAAHhJAACuSQAAGEoAADBKAABRSgAAaEoAAJVKAAD6SgAAHUsAAEtLAAC7SwAA0ksAAOdLAAAETAAAEEwAAFxMAABzTAAAg0wAAJBMAAC1TAAA4kwAAB9NAAAxTQAAUE0AAHhNAACbTQAAvU0AABlOAAA/TgAAbk4AAJ5OAAC5TgAA404AAP9OAAARTwAAhU8AALpPAAAjUAAAX1AAAHdQAAA9UQAAZlEAAItRAACvUQAAwFEAANBRAADyUQAAcVMAAJZTAACrUwAA9FMAAARUAAApVAAAPFQAAEtUAABjVAAAeFQAAIRUAADIVAAA41QAAPZUAAAMVQAAL1UAAEBVAABhVQAA8FUAABJWAAAeVgAAN1YAAFhWAABjVgAAtFYAAM1WAADlVgAABVcAABxXAABpVwAAlFcAANNXAAAiWAAAPFgAAF9YAAB5WAAAilgAALlYAADMWAAA6lgAAPdYAAALWQAAJVkAAE5ZAABhWQAAlFkAAMVZAADZWQAA8FkAADtaAABdWgAAfloAAJZaAACtWgAAuFoAAMZaAAA9WwAAZVsAAHJbAACRWwAAo1sAAM1bAAAPXAAAMFwAAFVcAAC8XQAAz10AANtdAAD7XQAAGl4AAHVeAACbXgAArF4AANxeAADnXgAAJV8AADlfAAB9XwAAv18AAOpfAAApYAAANWAAAHVgAACIYAAAtmAAANdgAAAPYQAAZGEAAJlhAAARYgAAbWIAAJViAACwYgAALmQAAFJkAAByZAAAlWQAAL5kAADMZAAA6GQAAChmAABJZgAAdWYAAJFmAACgZgAAtWYAANZmAAAfZwAAM2cAAFZnAAB2ZwAAhWcAAKZnAADYZwAAAGgAABVoAABvaAAAb2gAAKRoAAC8aAAA6WgAAAJpAAAfaQAANmkAAFdpAABmaQAAi2kAAL5pAAAmagAAPmoAAElqAABaagAAe2oAAIdqAACbagAAtmoAAMBqAADbagAA+2oAABBrAAAtawAAUG0AAHJtAACKbQAAqW0AACtuAABPbgAAY24AAItuAADobgAAcHIAAIdyAACxcgAA",
          "dtype": "i4"
         },
         "yaxis": "y"
        }
       ],
       "layout": {
        "coloraxis": {
         "colorbar": {
          "title": {
           "text": "flag"
          }
         },
         "colorscale": [
          [
           0,
           "#0d0887"
          ],
          [
           0.1111111111111111,
           "#46039f"
          ],
          [
           0.2222222222222222,
           "#7201a8"
          ],
          [
           0.3333333333333333,
           "#9c179e"
          ],
          [
           0.4444444444444444,
           "#bd3786"
          ],
          [
           0.5555555555555556,
           "#d8576b"
          ],
          [
           0.6666666666666666,
           "#ed7953"
          ],
          [
           0.7777777777777778,
           "#fb9f3a"
          ],
          [
           0.8888888888888888,
           "#fdca26"
          ],
          [
           1,
           "#f0f921"
          ]
         ]
        },
        "legend": {
         "tracegroupgap": 0
        },
        "margin": {
         "t": 60
        },
        "template": {
         "data": {
          "bar": [
           {
            "error_x": {
             "color": "#2a3f5f"
            },
            "error_y": {
             "color": "#2a3f5f"
            },
            "marker": {
             "line": {
              "color": "#E5ECF6",
              "width": 0.5
             },
             "pattern": {
              "fillmode": "overlay",
              "size": 10,
              "solidity": 0.2
             }
            },
            "type": "bar"
           }
          ],
          "barpolar": [
           {
            "marker": {
             "line": {
              "color": "#E5ECF6",
              "width": 0.5
             },
             "pattern": {
              "fillmode": "overlay",
              "size": 10,
              "solidity": 0.2
             }
            },
            "type": "barpolar"
           }
          ],
          "carpet": [
           {
            "aaxis": {
             "endlinecolor": "#2a3f5f",
             "gridcolor": "white",
             "linecolor": "white",
             "minorgridcolor": "white",
             "startlinecolor": "#2a3f5f"
            },
            "baxis": {
             "endlinecolor": "#2a3f5f",
             "gridcolor": "white",
             "linecolor": "white",
             "minorgridcolor": "white",
             "startlinecolor": "#2a3f5f"
            },
            "type": "carpet"
           }
          ],
          "choropleth": [
           {
            "colorbar": {
             "outlinewidth": 0,
             "ticks": ""
            },
            "type": "choropleth"
           }
          ],
          "contour": [
           {
            "colorbar": {
             "outlinewidth": 0,
             "ticks": ""
            },
            "colorscale": [
             [
              0,
              "#0d0887"
             ],
             [
              0.1111111111111111,
              "#46039f"
             ],
             [
              0.2222222222222222,
              "#7201a8"
             ],
             [
              0.3333333333333333,
              "#9c179e"
             ],
             [
              0.4444444444444444,
              "#bd3786"
             ],
             [
              0.5555555555555556,
              "#d8576b"
             ],
             [
              0.6666666666666666,
              "#ed7953"
             ],
             [
              0.7777777777777778,
              "#fb9f3a"
             ],
             [
              0.8888888888888888,
              "#fdca26"
             ],
             [
              1,
              "#f0f921"
             ]
            ],
            "type": "contour"
           }
          ],
          "contourcarpet": [
           {
            "colorbar": {
             "outlinewidth": 0,
             "ticks": ""
            },
            "type": "contourcarpet"
           }
          ],
          "heatmap": [
           {
            "colorbar": {
             "outlinewidth": 0,
             "ticks": ""
            },
            "colorscale": [
             [
              0,
              "#0d0887"
             ],
             [
              0.1111111111111111,
              "#46039f"
             ],
             [
              0.2222222222222222,
              "#7201a8"
             ],
             [
              0.3333333333333333,
              "#9c179e"
             ],
             [
              0.4444444444444444,
              "#bd3786"
             ],
             [
              0.5555555555555556,
              "#d8576b"
             ],
             [
              0.6666666666666666,
              "#ed7953"
             ],
             [
              0.7777777777777778,
              "#fb9f3a"
             ],
             [
              0.8888888888888888,
              "#fdca26"
             ],
             [
              1,
              "#f0f921"
             ]
            ],
            "type": "heatmap"
           }
          ],
          "histogram": [
           {
            "marker": {
             "pattern": {
              "fillmode": "overlay",
              "size": 10,
              "solidity": 0.2
             }
            },
            "type": "histogram"
           }
          ],
          "histogram2d": [
           {
            "colorbar": {
             "outlinewidth": 0,
             "ticks": ""
            },
            "colorscale": [
             [
              0,
              "#0d0887"
             ],
             [
              0.1111111111111111,
              "#46039f"
             ],
             [
              0.2222222222222222,
              "#7201a8"
             ],
             [
              0.3333333333333333,
              "#9c179e"
             ],
             [
              0.4444444444444444,
              "#bd3786"
             ],
             [
              0.5555555555555556,
              "#d8576b"
             ],
             [
              0.6666666666666666,
              "#ed7953"
             ],
             [
              0.7777777777777778,
              "#fb9f3a"
             ],
             [
              0.8888888888888888,
              "#fdca26"
             ],
             [
              1,
              "#f0f921"
             ]
            ],
            "type": "histogram2d"
           }
          ],
          "histogram2dcontour": [
           {
            "colorbar": {
             "outlinewidth": 0,
             "ticks": ""
            },
            "colorscale": [
             [
              0,
              "#0d0887"
             ],
             [
              0.1111111111111111,
              "#46039f"
             ],
             [
              0.2222222222222222,
              "#7201a8"
             ],
             [
              0.3333333333333333,
              "#9c179e"
             ],
             [
              0.4444444444444444,
              "#bd3786"
             ],
             [
              0.5555555555555556,
              "#d8576b"
             ],
             [
              0.6666666666666666,
              "#ed7953"
             ],
             [
              0.7777777777777778,
              "#fb9f3a"
             ],
             [
              0.8888888888888888,
              "#fdca26"
             ],
             [
              1,
              "#f0f921"
             ]
            ],
            "type": "histogram2dcontour"
           }
          ],
          "mesh3d": [
           {
            "colorbar": {
             "outlinewidth": 0,
             "ticks": ""
            },
            "type": "mesh3d"
           }
          ],
          "parcoords": [
           {
            "line": {
             "colorbar": {
              "outlinewidth": 0,
              "ticks": ""
             }
            },
            "type": "parcoords"
           }
          ],
          "pie": [
           {
            "automargin": true,
            "type": "pie"
           }
          ],
          "scatter": [
           {
            "fillpattern": {
             "fillmode": "overlay",
             "size": 10,
             "solidity": 0.2
            },
            "type": "scatter"
           }
          ],
          "scatter3d": [
           {
            "line": {
             "colorbar": {
              "outlinewidth": 0,
              "ticks": ""
             }
            },
            "marker": {
             "colorbar": {
              "outlinewidth": 0,
              "ticks": ""
             }
            },
            "type": "scatter3d"
           }
          ],
          "scattercarpet": [
           {
            "marker": {
             "colorbar": {
              "outlinewidth": 0,
              "ticks": ""
             }
            },
            "type": "scattercarpet"
           }
          ],
          "scattergeo": [
           {
            "marker": {
             "colorbar": {
              "outlinewidth": 0,
              "ticks": ""
             }
            },
            "type": "scattergeo"
           }
          ],
          "scattergl": [
           {
            "marker": {
             "colorbar": {
              "outlinewidth": 0,
              "ticks": ""
             }
            },
            "type": "scattergl"
           }
          ],
          "scattermap": [
           {
            "marker": {
             "colorbar": {
              "outlinewidth": 0,
              "ticks": ""
             }
            },
            "type": "scattermap"
           }
          ],
          "scattermapbox": [
           {
            "marker": {
             "colorbar": {
              "outlinewidth": 0,
              "ticks": ""
             }
            },
            "type": "scattermapbox"
           }
          ],
          "scatterpolar": [
           {
            "marker": {
             "colorbar": {
              "outlinewidth": 0,
              "ticks": ""
             }
            },
            "type": "scatterpolar"
           }
          ],
          "scatterpolargl": [
           {
            "marker": {
             "colorbar": {
              "outlinewidth": 0,
              "ticks": ""
             }
            },
            "type": "scatterpolargl"
           }
          ],
          "scatterternary": [
           {
            "marker": {
             "colorbar": {
              "outlinewidth": 0,
              "ticks": ""
             }
            },
            "type": "scatterternary"
           }
          ],
          "surface": [
           {
            "colorbar": {
             "outlinewidth": 0,
             "ticks": ""
            },
            "colorscale": [
             [
              0,
              "#0d0887"
             ],
             [
              0.1111111111111111,
              "#46039f"
             ],
             [
              0.2222222222222222,
              "#7201a8"
             ],
             [
              0.3333333333333333,
              "#9c179e"
             ],
             [
              0.4444444444444444,
              "#bd3786"
             ],
             [
              0.5555555555555556,
              "#d8576b"
             ],
             [
              0.6666666666666666,
              "#ed7953"
             ],
             [
              0.7777777777777778,
              "#fb9f3a"
             ],
             [
              0.8888888888888888,
              "#fdca26"
             ],
             [
              1,
              "#f0f921"
             ]
            ],
            "type": "surface"
           }
          ],
          "table": [
           {
            "cells": {
             "fill": {
              "color": "#EBF0F8"
             },
             "line": {
              "color": "white"
             }
            },
            "header": {
             "fill": {
              "color": "#C8D4E3"
             },
             "line": {
              "color": "white"
             }
            },
            "type": "table"
           }
          ]
         },
         "layout": {
          "annotationdefaults": {
           "arrowcolor": "#2a3f5f",
           "arrowhead": 0,
           "arrowwidth": 1
          },
          "autotypenumbers": "strict",
          "coloraxis": {
           "colorbar": {
            "outlinewidth": 0,
            "ticks": ""
           }
          },
          "colorscale": {
           "diverging": [
            [
             0,
             "#8e0152"
            ],
            [
             0.1,
             "#c51b7d"
            ],
            [
             0.2,
             "#de77ae"
            ],
            [
             0.3,
             "#f1b6da"
            ],
            [
             0.4,
             "#fde0ef"
            ],
            [
             0.5,
             "#f7f7f7"
            ],
            [
             0.6,
             "#e6f5d0"
            ],
            [
             0.7,
             "#b8e186"
            ],
            [
             0.8,
             "#7fbc41"
            ],
            [
             0.9,
             "#4d9221"
            ],
            [
             1,
             "#276419"
            ]
           ],
           "sequential": [
            [
             0,
             "#0d0887"
            ],
            [
             0.1111111111111111,
             "#46039f"
            ],
            [
             0.2222222222222222,
             "#7201a8"
            ],
            [
             0.3333333333333333,
             "#9c179e"
            ],
            [
             0.4444444444444444,
             "#bd3786"
            ],
            [
             0.5555555555555556,
             "#d8576b"
            ],
            [
             0.6666666666666666,
             "#ed7953"
            ],
            [
             0.7777777777777778,
             "#fb9f3a"
            ],
            [
             0.8888888888888888,
             "#fdca26"
            ],
            [
             1,
             "#f0f921"
            ]
           ],
           "sequentialminus": [
            [
             0,
             "#0d0887"
            ],
            [
             0.1111111111111111,
             "#46039f"
            ],
            [
             0.2222222222222222,
             "#7201a8"
            ],
            [
             0.3333333333333333,
             "#9c179e"
            ],
            [
             0.4444444444444444,
             "#bd3786"
            ],
            [
             0.5555555555555556,
             "#d8576b"
            ],
            [
             0.6666666666666666,
             "#ed7953"
            ],
            [
             0.7777777777777778,
             "#fb9f3a"
            ],
            [
             0.8888888888888888,
             "#fdca26"
            ],
            [
             1,
             "#f0f921"
            ]
           ]
          },
          "colorway": [
           "#636efa",
           "#EF553B",
           "#00cc96",
           "#ab63fa",
           "#FFA15A",
           "#19d3f3",
           "#FF6692",
           "#B6E880",
           "#FF97FF",
           "#FECB52"
          ],
          "font": {
           "color": "#2a3f5f"
          },
          "geo": {
           "bgcolor": "white",
           "lakecolor": "white",
           "landcolor": "#E5ECF6",
           "showlakes": true,
           "showland": true,
           "subunitcolor": "white"
          },
          "hoverlabel": {
           "align": "left"
          },
          "hovermode": "closest",
          "mapbox": {
           "style": "light"
          },
          "paper_bgcolor": "white",
          "plot_bgcolor": "#E5ECF6",
          "polar": {
           "angularaxis": {
            "gridcolor": "white",
            "linecolor": "white",
            "ticks": ""
           },
           "bgcolor": "#E5ECF6",
           "radialaxis": {
            "gridcolor": "white",
            "linecolor": "white",
            "ticks": ""
           }
          },
          "scene": {
           "xaxis": {
            "backgroundcolor": "#E5ECF6",
            "gridcolor": "white",
            "gridwidth": 2,
            "linecolor": "white",
            "showbackground": true,
            "ticks": "",
            "zerolinecolor": "white"
           },
           "yaxis": {
            "backgroundcolor": "#E5ECF6",
            "gridcolor": "white",
            "gridwidth": 2,
            "linecolor": "white",
            "showbackground": true,
            "ticks": "",
            "zerolinecolor": "white"
           },
           "zaxis": {
            "backgroundcolor": "#E5ECF6",
            "gridcolor": "white",
            "gridwidth": 2,
            "linecolor": "white",
            "showbackground": true,
            "ticks": "",
            "zerolinecolor": "white"
           }
          },
          "shapedefaults": {
           "line": {
            "color": "#2a3f5f"
           }
          },
          "ternary": {
           "aaxis": {
            "gridcolor": "white",
            "linecolor": "white",
            "ticks": ""
           },
           "baxis": {
            "gridcolor": "white",
            "linecolor": "white",
            "ticks": ""
           },
           "bgcolor": "#E5ECF6",
           "caxis": {
            "gridcolor": "white",
            "linecolor": "white",
            "ticks": ""
           }
          },
          "title": {
           "x": 0.05
          },
          "xaxis": {
           "automargin": true,
           "gridcolor": "white",
           "linecolor": "white",
           "ticks": "",
           "title": {
            "standoff": 15
           },
           "zerolinecolor": "white",
           "zerolinewidth": 2
          },
          "yaxis": {
           "automargin": true,
           "gridcolor": "white",
           "linecolor": "white",
           "ticks": "",
           "title": {
            "standoff": 15
           },
           "zerolinecolor": "white",
           "zerolinewidth": 2
          }
         }
        },
        "xaxis": {
         "anchor": "y",
         "domain": [
          0,
          1
         ],
         "title": {
          "text": "start_a"
         }
        },
        "yaxis": {
         "anchor": "x",
         "domain": [
          0,
          1
         ],
         "title": {
          "text": "start_b"
         }
        }
       }
      }
     },
     "metadata": {},
     "output_type": "display_data"
    }
   ],
   "source": [
    "fig = px.scatter(df,x='start_a', y='start_b',color='flag')\n",
    "fig"
   ]
  },
  {
   "cell_type": "code",
   "execution_count": 242,
   "metadata": {},
   "outputs": [
    {
     "data": {
      "text/html": [
       "<div>\n",
       "<style scoped>\n",
       "    .dataframe tbody tr th:only-of-type {\n",
       "        vertical-align: middle;\n",
       "    }\n",
       "\n",
       "    .dataframe tbody tr th {\n",
       "        vertical-align: top;\n",
       "    }\n",
       "\n",
       "    .dataframe thead th {\n",
       "        text-align: right;\n",
       "    }\n",
       "</style>\n",
       "<table border=\"1\" class=\"dataframe\">\n",
       "  <thead>\n",
       "    <tr style=\"text-align: right;\">\n",
       "      <th></th>\n",
       "      <th>diff</th>\n",
       "      <th>flag</th>\n",
       "    </tr>\n",
       "  </thead>\n",
       "  <tbody>\n",
       "    <tr>\n",
       "      <th>302</th>\n",
       "      <td>38.0</td>\n",
       "      <td>0</td>\n",
       "    </tr>\n",
       "    <tr>\n",
       "      <th>303</th>\n",
       "      <td>20.0</td>\n",
       "      <td>0</td>\n",
       "    </tr>\n",
       "    <tr>\n",
       "      <th>304</th>\n",
       "      <td>103.0</td>\n",
       "      <td>0</td>\n",
       "    </tr>\n",
       "    <tr>\n",
       "      <th>305</th>\n",
       "      <td>38.0</td>\n",
       "      <td>0</td>\n",
       "    </tr>\n",
       "    <tr>\n",
       "      <th>306</th>\n",
       "      <td>18.0</td>\n",
       "      <td>0</td>\n",
       "    </tr>\n",
       "    <tr>\n",
       "      <th>307</th>\n",
       "      <td>20.0</td>\n",
       "      <td>0</td>\n",
       "    </tr>\n",
       "    <tr>\n",
       "      <th>308</th>\n",
       "      <td>11.0</td>\n",
       "      <td>0</td>\n",
       "    </tr>\n",
       "    <tr>\n",
       "      <th>309</th>\n",
       "      <td>17.0</td>\n",
       "      <td>0</td>\n",
       "    </tr>\n",
       "    <tr>\n",
       "      <th>310</th>\n",
       "      <td>277.0</td>\n",
       "      <td>1</td>\n",
       "    </tr>\n",
       "    <tr>\n",
       "      <th>312</th>\n",
       "      <td>-17441.0</td>\n",
       "      <td>1</td>\n",
       "    </tr>\n",
       "    <tr>\n",
       "      <th>313</th>\n",
       "      <td>17679.0</td>\n",
       "      <td>0</td>\n",
       "    </tr>\n",
       "    <tr>\n",
       "      <th>314</th>\n",
       "      <td>24.0</td>\n",
       "      <td>0</td>\n",
       "    </tr>\n",
       "    <tr>\n",
       "      <th>316</th>\n",
       "      <td>23.0</td>\n",
       "      <td>0</td>\n",
       "    </tr>\n",
       "    <tr>\n",
       "      <th>317</th>\n",
       "      <td>179.0</td>\n",
       "      <td>0</td>\n",
       "    </tr>\n",
       "    <tr>\n",
       "      <th>318</th>\n",
       "      <td>35.0</td>\n",
       "      <td>0</td>\n",
       "    </tr>\n",
       "    <tr>\n",
       "      <th>319</th>\n",
       "      <td>46.0</td>\n",
       "      <td>0</td>\n",
       "    </tr>\n",
       "    <tr>\n",
       "      <th>320</th>\n",
       "      <td>112.0</td>\n",
       "      <td>0</td>\n",
       "    </tr>\n",
       "    <tr>\n",
       "      <th>321</th>\n",
       "      <td>23.0</td>\n",
       "      <td>0</td>\n",
       "    </tr>\n",
       "    <tr>\n",
       "      <th>322</th>\n",
       "      <td>21.0</td>\n",
       "      <td>0</td>\n",
       "    </tr>\n",
       "    <tr>\n",
       "      <th>323</th>\n",
       "      <td>29.0</td>\n",
       "      <td>0</td>\n",
       "    </tr>\n",
       "    <tr>\n",
       "      <th>324</th>\n",
       "      <td>12.0</td>\n",
       "      <td>0</td>\n",
       "    </tr>\n",
       "    <tr>\n",
       "      <th>325</th>\n",
       "      <td>76.0</td>\n",
       "      <td>0</td>\n",
       "    </tr>\n",
       "    <tr>\n",
       "      <th>326</th>\n",
       "      <td>23.0</td>\n",
       "      <td>0</td>\n",
       "    </tr>\n",
       "    <tr>\n",
       "      <th>327</th>\n",
       "      <td>16.0</td>\n",
       "      <td>1</td>\n",
       "    </tr>\n",
       "    <tr>\n",
       "      <th>329</th>\n",
       "      <td>-262.0</td>\n",
       "      <td>1</td>\n",
       "    </tr>\n",
       "    <tr>\n",
       "      <th>330</th>\n",
       "      <td>418.0</td>\n",
       "      <td>0</td>\n",
       "    </tr>\n",
       "    <tr>\n",
       "      <th>331</th>\n",
       "      <td>18.0</td>\n",
       "      <td>0</td>\n",
       "    </tr>\n",
       "    <tr>\n",
       "      <th>332</th>\n",
       "      <td>31.0</td>\n",
       "      <td>0</td>\n",
       "    </tr>\n",
       "    <tr>\n",
       "      <th>333</th>\n",
       "      <td>40.0</td>\n",
       "      <td>0</td>\n",
       "    </tr>\n",
       "    <tr>\n",
       "      <th>334</th>\n",
       "      <td>35.0</td>\n",
       "      <td>0</td>\n",
       "    </tr>\n",
       "    <tr>\n",
       "      <th>335</th>\n",
       "      <td>34.0</td>\n",
       "      <td>0</td>\n",
       "    </tr>\n",
       "    <tr>\n",
       "      <th>336</th>\n",
       "      <td>92.0</td>\n",
       "      <td>0</td>\n",
       "    </tr>\n",
       "    <tr>\n",
       "      <th>337</th>\n",
       "      <td>38.0</td>\n",
       "      <td>0</td>\n",
       "    </tr>\n",
       "    <tr>\n",
       "      <th>338</th>\n",
       "      <td>47.0</td>\n",
       "      <td>0</td>\n",
       "    </tr>\n",
       "    <tr>\n",
       "      <th>339</th>\n",
       "      <td>48.0</td>\n",
       "      <td>0</td>\n",
       "    </tr>\n",
       "    <tr>\n",
       "      <th>340</th>\n",
       "      <td>27.0</td>\n",
       "      <td>0</td>\n",
       "    </tr>\n",
       "    <tr>\n",
       "      <th>341</th>\n",
       "      <td>42.0</td>\n",
       "      <td>0</td>\n",
       "    </tr>\n",
       "    <tr>\n",
       "      <th>342</th>\n",
       "      <td>28.0</td>\n",
       "      <td>0</td>\n",
       "    </tr>\n",
       "    <tr>\n",
       "      <th>343</th>\n",
       "      <td>18.0</td>\n",
       "      <td>1</td>\n",
       "    </tr>\n",
       "    <tr>\n",
       "      <th>345</th>\n",
       "      <td>-141.0</td>\n",
       "      <td>1</td>\n",
       "    </tr>\n",
       "  </tbody>\n",
       "</table>\n",
       "</div>"
      ],
      "text/plain": [
       "        diff  flag\n",
       "302     38.0     0\n",
       "303     20.0     0\n",
       "304    103.0     0\n",
       "305     38.0     0\n",
       "306     18.0     0\n",
       "307     20.0     0\n",
       "308     11.0     0\n",
       "309     17.0     0\n",
       "310    277.0     1\n",
       "312 -17441.0     1\n",
       "313  17679.0     0\n",
       "314     24.0     0\n",
       "316     23.0     0\n",
       "317    179.0     0\n",
       "318     35.0     0\n",
       "319     46.0     0\n",
       "320    112.0     0\n",
       "321     23.0     0\n",
       "322     21.0     0\n",
       "323     29.0     0\n",
       "324     12.0     0\n",
       "325     76.0     0\n",
       "326     23.0     0\n",
       "327     16.0     1\n",
       "329   -262.0     1\n",
       "330    418.0     0\n",
       "331     18.0     0\n",
       "332     31.0     0\n",
       "333     40.0     0\n",
       "334     35.0     0\n",
       "335     34.0     0\n",
       "336     92.0     0\n",
       "337     38.0     0\n",
       "338     47.0     0\n",
       "339     48.0     0\n",
       "340     27.0     0\n",
       "341     42.0     0\n",
       "342     28.0     0\n",
       "343     18.0     1\n",
       "345   -141.0     1"
      ]
     },
     "execution_count": 242,
     "metadata": {},
     "output_type": "execute_result"
    }
   ],
   "source": [
    "df[['diff','flag']].iloc[290:330]"
   ]
  },
  {
   "cell_type": "code",
   "execution_count": 108,
   "metadata": {},
   "outputs": [
    {
     "data": {
      "text/plain": [
       "(551, 8)"
      ]
     },
     "execution_count": 108,
     "metadata": {},
     "output_type": "execute_result"
    }
   ],
   "source": [
    "df.shape"
   ]
  },
  {
   "cell_type": "code",
   "execution_count": 107,
   "metadata": {},
   "outputs": [
    {
     "data": {
      "text/html": [
       "<div>\n",
       "<style scoped>\n",
       "    .dataframe tbody tr th:only-of-type {\n",
       "        vertical-align: middle;\n",
       "    }\n",
       "\n",
       "    .dataframe tbody tr th {\n",
       "        vertical-align: top;\n",
       "    }\n",
       "\n",
       "    .dataframe thead th {\n",
       "        text-align: right;\n",
       "    }\n",
       "</style>\n",
       "<table border=\"1\" class=\"dataframe\">\n",
       "  <thead>\n",
       "    <tr style=\"text-align: right;\">\n",
       "      <th></th>\n",
       "      <th>start_a</th>\n",
       "      <th>end_a</th>\n",
       "      <th>start_b</th>\n",
       "      <th>end_b</th>\n",
       "      <th>length</th>\n",
       "      <th>differenz</th>\n",
       "      <th>diff</th>\n",
       "      <th>flag</th>\n",
       "    </tr>\n",
       "  </thead>\n",
       "  <tbody>\n",
       "    <tr>\n",
       "      <th>0</th>\n",
       "      <td>105</td>\n",
       "      <td>124</td>\n",
       "      <td>127</td>\n",
       "      <td>146</td>\n",
       "      <td>19</td>\n",
       "      <td>22</td>\n",
       "      <td>NaN</td>\n",
       "      <td>0</td>\n",
       "    </tr>\n",
       "    <tr>\n",
       "      <th>1</th>\n",
       "      <td>225</td>\n",
       "      <td>236</td>\n",
       "      <td>473</td>\n",
       "      <td>484</td>\n",
       "      <td>11</td>\n",
       "      <td>248</td>\n",
       "      <td>346.0</td>\n",
       "      <td>0</td>\n",
       "    </tr>\n",
       "    <tr>\n",
       "      <th>2</th>\n",
       "      <td>442</td>\n",
       "      <td>456</td>\n",
       "      <td>585</td>\n",
       "      <td>599</td>\n",
       "      <td>14</td>\n",
       "      <td>143</td>\n",
       "      <td>112.0</td>\n",
       "      <td>0</td>\n",
       "    </tr>\n",
       "    <tr>\n",
       "      <th>3</th>\n",
       "      <td>465</td>\n",
       "      <td>475</td>\n",
       "      <td>600</td>\n",
       "      <td>610</td>\n",
       "      <td>10</td>\n",
       "      <td>135</td>\n",
       "      <td>15.0</td>\n",
       "      <td>0</td>\n",
       "    </tr>\n",
       "    <tr>\n",
       "      <th>4</th>\n",
       "      <td>507</td>\n",
       "      <td>535</td>\n",
       "      <td>962</td>\n",
       "      <td>990</td>\n",
       "      <td>28</td>\n",
       "      <td>455</td>\n",
       "      <td>362.0</td>\n",
       "      <td>0</td>\n",
       "    </tr>\n",
       "    <tr>\n",
       "      <th>5</th>\n",
       "      <td>543</td>\n",
       "      <td>572</td>\n",
       "      <td>998</td>\n",
       "      <td>1027</td>\n",
       "      <td>29</td>\n",
       "      <td>455</td>\n",
       "      <td>36.0</td>\n",
       "      <td>0</td>\n",
       "    </tr>\n",
       "    <tr>\n",
       "      <th>6</th>\n",
       "      <td>577</td>\n",
       "      <td>598</td>\n",
       "      <td>1031</td>\n",
       "      <td>1052</td>\n",
       "      <td>21</td>\n",
       "      <td>454</td>\n",
       "      <td>33.0</td>\n",
       "      <td>0</td>\n",
       "    </tr>\n",
       "    <tr>\n",
       "      <th>7</th>\n",
       "      <td>601</td>\n",
       "      <td>627</td>\n",
       "      <td>1052</td>\n",
       "      <td>1078</td>\n",
       "      <td>26</td>\n",
       "      <td>451</td>\n",
       "      <td>21.0</td>\n",
       "      <td>0</td>\n",
       "    </tr>\n",
       "    <tr>\n",
       "      <th>8</th>\n",
       "      <td>659</td>\n",
       "      <td>673</td>\n",
       "      <td>1113</td>\n",
       "      <td>1127</td>\n",
       "      <td>14</td>\n",
       "      <td>454</td>\n",
       "      <td>61.0</td>\n",
       "      <td>0</td>\n",
       "    </tr>\n",
       "    <tr>\n",
       "      <th>9</th>\n",
       "      <td>759</td>\n",
       "      <td>776</td>\n",
       "      <td>14820</td>\n",
       "      <td>14837</td>\n",
       "      <td>17</td>\n",
       "      <td>14061</td>\n",
       "      <td>13707.0</td>\n",
       "      <td>1</td>\n",
       "    </tr>\n",
       "    <tr>\n",
       "      <th>11</th>\n",
       "      <td>788</td>\n",
       "      <td>806</td>\n",
       "      <td>1289</td>\n",
       "      <td>1307</td>\n",
       "      <td>18</td>\n",
       "      <td>501</td>\n",
       "      <td>-13531.0</td>\n",
       "      <td>1</td>\n",
       "    </tr>\n",
       "    <tr>\n",
       "      <th>12</th>\n",
       "      <td>817</td>\n",
       "      <td>837</td>\n",
       "      <td>1313</td>\n",
       "      <td>1333</td>\n",
       "      <td>20</td>\n",
       "      <td>496</td>\n",
       "      <td>24.0</td>\n",
       "      <td>0</td>\n",
       "    </tr>\n",
       "    <tr>\n",
       "      <th>13</th>\n",
       "      <td>971</td>\n",
       "      <td>985</td>\n",
       "      <td>1529</td>\n",
       "      <td>1543</td>\n",
       "      <td>14</td>\n",
       "      <td>558</td>\n",
       "      <td>216.0</td>\n",
       "      <td>0</td>\n",
       "    </tr>\n",
       "    <tr>\n",
       "      <th>14</th>\n",
       "      <td>985</td>\n",
       "      <td>1002</td>\n",
       "      <td>14485</td>\n",
       "      <td>14502</td>\n",
       "      <td>17</td>\n",
       "      <td>13500</td>\n",
       "      <td>12956.0</td>\n",
       "      <td>1</td>\n",
       "    </tr>\n",
       "    <tr>\n",
       "      <th>16</th>\n",
       "      <td>1033</td>\n",
       "      <td>1045</td>\n",
       "      <td>1590</td>\n",
       "      <td>1602</td>\n",
       "      <td>12</td>\n",
       "      <td>557</td>\n",
       "      <td>-12895.0</td>\n",
       "      <td>1</td>\n",
       "    </tr>\n",
       "    <tr>\n",
       "      <th>17</th>\n",
       "      <td>1062</td>\n",
       "      <td>1074</td>\n",
       "      <td>14526</td>\n",
       "      <td>14538</td>\n",
       "      <td>12</td>\n",
       "      <td>13464</td>\n",
       "      <td>12936.0</td>\n",
       "      <td>1</td>\n",
       "    </tr>\n",
       "    <tr>\n",
       "      <th>19</th>\n",
       "      <td>1097</td>\n",
       "      <td>1122</td>\n",
       "      <td>1677</td>\n",
       "      <td>1702</td>\n",
       "      <td>25</td>\n",
       "      <td>580</td>\n",
       "      <td>-12849.0</td>\n",
       "      <td>1</td>\n",
       "    </tr>\n",
       "    <tr>\n",
       "      <th>20</th>\n",
       "      <td>1134</td>\n",
       "      <td>1147</td>\n",
       "      <td>1720</td>\n",
       "      <td>1733</td>\n",
       "      <td>13</td>\n",
       "      <td>586</td>\n",
       "      <td>43.0</td>\n",
       "      <td>0</td>\n",
       "    </tr>\n",
       "    <tr>\n",
       "      <th>21</th>\n",
       "      <td>1171</td>\n",
       "      <td>1189</td>\n",
       "      <td>1758</td>\n",
       "      <td>1776</td>\n",
       "      <td>18</td>\n",
       "      <td>587</td>\n",
       "      <td>38.0</td>\n",
       "      <td>0</td>\n",
       "    </tr>\n",
       "    <tr>\n",
       "      <th>22</th>\n",
       "      <td>1233</td>\n",
       "      <td>1255</td>\n",
       "      <td>2301</td>\n",
       "      <td>2323</td>\n",
       "      <td>22</td>\n",
       "      <td>1068</td>\n",
       "      <td>543.0</td>\n",
       "      <td>0</td>\n",
       "    </tr>\n",
       "    <tr>\n",
       "      <th>23</th>\n",
       "      <td>1284</td>\n",
       "      <td>1302</td>\n",
       "      <td>2360</td>\n",
       "      <td>2378</td>\n",
       "      <td>18</td>\n",
       "      <td>1076</td>\n",
       "      <td>59.0</td>\n",
       "      <td>0</td>\n",
       "    </tr>\n",
       "    <tr>\n",
       "      <th>24</th>\n",
       "      <td>1442</td>\n",
       "      <td>1458</td>\n",
       "      <td>2523</td>\n",
       "      <td>2539</td>\n",
       "      <td>16</td>\n",
       "      <td>1081</td>\n",
       "      <td>163.0</td>\n",
       "      <td>0</td>\n",
       "    </tr>\n",
       "    <tr>\n",
       "      <th>25</th>\n",
       "      <td>1480</td>\n",
       "      <td>1545</td>\n",
       "      <td>2567</td>\n",
       "      <td>2632</td>\n",
       "      <td>65</td>\n",
       "      <td>1087</td>\n",
       "      <td>44.0</td>\n",
       "      <td>0</td>\n",
       "    </tr>\n",
       "    <tr>\n",
       "      <th>26</th>\n",
       "      <td>1546</td>\n",
       "      <td>1562</td>\n",
       "      <td>2633</td>\n",
       "      <td>2649</td>\n",
       "      <td>16</td>\n",
       "      <td>1087</td>\n",
       "      <td>66.0</td>\n",
       "      <td>0</td>\n",
       "    </tr>\n",
       "    <tr>\n",
       "      <th>27</th>\n",
       "      <td>1578</td>\n",
       "      <td>1592</td>\n",
       "      <td>2712</td>\n",
       "      <td>2726</td>\n",
       "      <td>14</td>\n",
       "      <td>1134</td>\n",
       "      <td>79.0</td>\n",
       "      <td>0</td>\n",
       "    </tr>\n",
       "    <tr>\n",
       "      <th>28</th>\n",
       "      <td>1594</td>\n",
       "      <td>1606</td>\n",
       "      <td>2726</td>\n",
       "      <td>2738</td>\n",
       "      <td>12</td>\n",
       "      <td>1132</td>\n",
       "      <td>14.0</td>\n",
       "      <td>0</td>\n",
       "    </tr>\n",
       "    <tr>\n",
       "      <th>29</th>\n",
       "      <td>1607</td>\n",
       "      <td>1622</td>\n",
       "      <td>2739</td>\n",
       "      <td>2754</td>\n",
       "      <td>15</td>\n",
       "      <td>1132</td>\n",
       "      <td>13.0</td>\n",
       "      <td>0</td>\n",
       "    </tr>\n",
       "    <tr>\n",
       "      <th>30</th>\n",
       "      <td>1623</td>\n",
       "      <td>1640</td>\n",
       "      <td>2755</td>\n",
       "      <td>2772</td>\n",
       "      <td>17</td>\n",
       "      <td>1132</td>\n",
       "      <td>16.0</td>\n",
       "      <td>0</td>\n",
       "    </tr>\n",
       "    <tr>\n",
       "      <th>31</th>\n",
       "      <td>1641</td>\n",
       "      <td>1652</td>\n",
       "      <td>2773</td>\n",
       "      <td>2784</td>\n",
       "      <td>11</td>\n",
       "      <td>1132</td>\n",
       "      <td>18.0</td>\n",
       "      <td>0</td>\n",
       "    </tr>\n",
       "    <tr>\n",
       "      <th>32</th>\n",
       "      <td>1671</td>\n",
       "      <td>1697</td>\n",
       "      <td>2802</td>\n",
       "      <td>2828</td>\n",
       "      <td>26</td>\n",
       "      <td>1131</td>\n",
       "      <td>29.0</td>\n",
       "      <td>0</td>\n",
       "    </tr>\n",
       "    <tr>\n",
       "      <th>33</th>\n",
       "      <td>1709</td>\n",
       "      <td>1722</td>\n",
       "      <td>2840</td>\n",
       "      <td>2853</td>\n",
       "      <td>13</td>\n",
       "      <td>1131</td>\n",
       "      <td>38.0</td>\n",
       "      <td>0</td>\n",
       "    </tr>\n",
       "    <tr>\n",
       "      <th>34</th>\n",
       "      <td>1723</td>\n",
       "      <td>1733</td>\n",
       "      <td>2854</td>\n",
       "      <td>2864</td>\n",
       "      <td>10</td>\n",
       "      <td>1131</td>\n",
       "      <td>14.0</td>\n",
       "      <td>0</td>\n",
       "    </tr>\n",
       "    <tr>\n",
       "      <th>35</th>\n",
       "      <td>1736</td>\n",
       "      <td>1753</td>\n",
       "      <td>2867</td>\n",
       "      <td>2884</td>\n",
       "      <td>17</td>\n",
       "      <td>1131</td>\n",
       "      <td>13.0</td>\n",
       "      <td>0</td>\n",
       "    </tr>\n",
       "    <tr>\n",
       "      <th>36</th>\n",
       "      <td>1760</td>\n",
       "      <td>1795</td>\n",
       "      <td>3087</td>\n",
       "      <td>3122</td>\n",
       "      <td>35</td>\n",
       "      <td>1327</td>\n",
       "      <td>220.0</td>\n",
       "      <td>0</td>\n",
       "    </tr>\n",
       "    <tr>\n",
       "      <th>37</th>\n",
       "      <td>1802</td>\n",
       "      <td>1823</td>\n",
       "      <td>3131</td>\n",
       "      <td>3152</td>\n",
       "      <td>21</td>\n",
       "      <td>1329</td>\n",
       "      <td>44.0</td>\n",
       "      <td>1</td>\n",
       "    </tr>\n",
       "    <tr>\n",
       "      <th>39</th>\n",
       "      <td>1861</td>\n",
       "      <td>1872</td>\n",
       "      <td>2687</td>\n",
       "      <td>2698</td>\n",
       "      <td>11</td>\n",
       "      <td>826</td>\n",
       "      <td>-444.0</td>\n",
       "      <td>1</td>\n",
       "    </tr>\n",
       "    <tr>\n",
       "      <th>40</th>\n",
       "      <td>1883</td>\n",
       "      <td>1916</td>\n",
       "      <td>3365</td>\n",
       "      <td>3398</td>\n",
       "      <td>33</td>\n",
       "      <td>1482</td>\n",
       "      <td>678.0</td>\n",
       "      <td>0</td>\n",
       "    </tr>\n",
       "    <tr>\n",
       "      <th>41</th>\n",
       "      <td>1918</td>\n",
       "      <td>1935</td>\n",
       "      <td>3400</td>\n",
       "      <td>3417</td>\n",
       "      <td>17</td>\n",
       "      <td>1482</td>\n",
       "      <td>35.0</td>\n",
       "      <td>0</td>\n",
       "    </tr>\n",
       "    <tr>\n",
       "      <th>42</th>\n",
       "      <td>1936</td>\n",
       "      <td>1951</td>\n",
       "      <td>3418</td>\n",
       "      <td>3433</td>\n",
       "      <td>15</td>\n",
       "      <td>1482</td>\n",
       "      <td>18.0</td>\n",
       "      <td>0</td>\n",
       "    </tr>\n",
       "    <tr>\n",
       "      <th>43</th>\n",
       "      <td>1991</td>\n",
       "      <td>2012</td>\n",
       "      <td>3457</td>\n",
       "      <td>3478</td>\n",
       "      <td>21</td>\n",
       "      <td>1466</td>\n",
       "      <td>39.0</td>\n",
       "      <td>0</td>\n",
       "    </tr>\n",
       "    <tr>\n",
       "      <th>44</th>\n",
       "      <td>2012</td>\n",
       "      <td>2033</td>\n",
       "      <td>3488</td>\n",
       "      <td>3509</td>\n",
       "      <td>21</td>\n",
       "      <td>1476</td>\n",
       "      <td>31.0</td>\n",
       "      <td>0</td>\n",
       "    </tr>\n",
       "    <tr>\n",
       "      <th>45</th>\n",
       "      <td>2118</td>\n",
       "      <td>2128</td>\n",
       "      <td>3688</td>\n",
       "      <td>3698</td>\n",
       "      <td>10</td>\n",
       "      <td>1570</td>\n",
       "      <td>200.0</td>\n",
       "      <td>0</td>\n",
       "    </tr>\n",
       "    <tr>\n",
       "      <th>46</th>\n",
       "      <td>2188</td>\n",
       "      <td>2198</td>\n",
       "      <td>3805</td>\n",
       "      <td>3815</td>\n",
       "      <td>10</td>\n",
       "      <td>1617</td>\n",
       "      <td>117.0</td>\n",
       "      <td>0</td>\n",
       "    </tr>\n",
       "    <tr>\n",
       "      <th>47</th>\n",
       "      <td>2199</td>\n",
       "      <td>2217</td>\n",
       "      <td>3816</td>\n",
       "      <td>3834</td>\n",
       "      <td>18</td>\n",
       "      <td>1617</td>\n",
       "      <td>11.0</td>\n",
       "      <td>0</td>\n",
       "    </tr>\n",
       "    <tr>\n",
       "      <th>48</th>\n",
       "      <td>2236</td>\n",
       "      <td>2262</td>\n",
       "      <td>3836</td>\n",
       "      <td>3862</td>\n",
       "      <td>26</td>\n",
       "      <td>1600</td>\n",
       "      <td>20.0</td>\n",
       "      <td>0</td>\n",
       "    </tr>\n",
       "    <tr>\n",
       "      <th>49</th>\n",
       "      <td>2283</td>\n",
       "      <td>2300</td>\n",
       "      <td>3880</td>\n",
       "      <td>3897</td>\n",
       "      <td>17</td>\n",
       "      <td>1597</td>\n",
       "      <td>44.0</td>\n",
       "      <td>0</td>\n",
       "    </tr>\n",
       "    <tr>\n",
       "      <th>50</th>\n",
       "      <td>2301</td>\n",
       "      <td>2313</td>\n",
       "      <td>3898</td>\n",
       "      <td>3910</td>\n",
       "      <td>12</td>\n",
       "      <td>1597</td>\n",
       "      <td>18.0</td>\n",
       "      <td>0</td>\n",
       "    </tr>\n",
       "    <tr>\n",
       "      <th>51</th>\n",
       "      <td>2315</td>\n",
       "      <td>2328</td>\n",
       "      <td>3914</td>\n",
       "      <td>3927</td>\n",
       "      <td>13</td>\n",
       "      <td>1599</td>\n",
       "      <td>16.0</td>\n",
       "      <td>0</td>\n",
       "    </tr>\n",
       "    <tr>\n",
       "      <th>52</th>\n",
       "      <td>2338</td>\n",
       "      <td>2354</td>\n",
       "      <td>3937</td>\n",
       "      <td>3953</td>\n",
       "      <td>16</td>\n",
       "      <td>1599</td>\n",
       "      <td>23.0</td>\n",
       "      <td>0</td>\n",
       "    </tr>\n",
       "    <tr>\n",
       "      <th>53</th>\n",
       "      <td>2373</td>\n",
       "      <td>2393</td>\n",
       "      <td>3972</td>\n",
       "      <td>3992</td>\n",
       "      <td>20</td>\n",
       "      <td>1599</td>\n",
       "      <td>35.0</td>\n",
       "      <td>0</td>\n",
       "    </tr>\n",
       "  </tbody>\n",
       "</table>\n",
       "</div>"
      ],
      "text/plain": [
       "    start_a  end_a  start_b  end_b  length  differenz     diff  flag\n",
       "0       105    124      127    146      19         22      NaN     0\n",
       "1       225    236      473    484      11        248    346.0     0\n",
       "2       442    456      585    599      14        143    112.0     0\n",
       "3       465    475      600    610      10        135     15.0     0\n",
       "4       507    535      962    990      28        455    362.0     0\n",
       "5       543    572      998   1027      29        455     36.0     0\n",
       "6       577    598     1031   1052      21        454     33.0     0\n",
       "7       601    627     1052   1078      26        451     21.0     0\n",
       "8       659    673     1113   1127      14        454     61.0     0\n",
       "9       759    776    14820  14837      17      14061  13707.0     1\n",
       "11      788    806     1289   1307      18        501 -13531.0     1\n",
       "12      817    837     1313   1333      20        496     24.0     0\n",
       "13      971    985     1529   1543      14        558    216.0     0\n",
       "14      985   1002    14485  14502      17      13500  12956.0     1\n",
       "16     1033   1045     1590   1602      12        557 -12895.0     1\n",
       "17     1062   1074    14526  14538      12      13464  12936.0     1\n",
       "19     1097   1122     1677   1702      25        580 -12849.0     1\n",
       "20     1134   1147     1720   1733      13        586     43.0     0\n",
       "21     1171   1189     1758   1776      18        587     38.0     0\n",
       "22     1233   1255     2301   2323      22       1068    543.0     0\n",
       "23     1284   1302     2360   2378      18       1076     59.0     0\n",
       "24     1442   1458     2523   2539      16       1081    163.0     0\n",
       "25     1480   1545     2567   2632      65       1087     44.0     0\n",
       "26     1546   1562     2633   2649      16       1087     66.0     0\n",
       "27     1578   1592     2712   2726      14       1134     79.0     0\n",
       "28     1594   1606     2726   2738      12       1132     14.0     0\n",
       "29     1607   1622     2739   2754      15       1132     13.0     0\n",
       "30     1623   1640     2755   2772      17       1132     16.0     0\n",
       "31     1641   1652     2773   2784      11       1132     18.0     0\n",
       "32     1671   1697     2802   2828      26       1131     29.0     0\n",
       "33     1709   1722     2840   2853      13       1131     38.0     0\n",
       "34     1723   1733     2854   2864      10       1131     14.0     0\n",
       "35     1736   1753     2867   2884      17       1131     13.0     0\n",
       "36     1760   1795     3087   3122      35       1327    220.0     0\n",
       "37     1802   1823     3131   3152      21       1329     44.0     1\n",
       "39     1861   1872     2687   2698      11        826   -444.0     1\n",
       "40     1883   1916     3365   3398      33       1482    678.0     0\n",
       "41     1918   1935     3400   3417      17       1482     35.0     0\n",
       "42     1936   1951     3418   3433      15       1482     18.0     0\n",
       "43     1991   2012     3457   3478      21       1466     39.0     0\n",
       "44     2012   2033     3488   3509      21       1476     31.0     0\n",
       "45     2118   2128     3688   3698      10       1570    200.0     0\n",
       "46     2188   2198     3805   3815      10       1617    117.0     0\n",
       "47     2199   2217     3816   3834      18       1617     11.0     0\n",
       "48     2236   2262     3836   3862      26       1600     20.0     0\n",
       "49     2283   2300     3880   3897      17       1597     44.0     0\n",
       "50     2301   2313     3898   3910      12       1597     18.0     0\n",
       "51     2315   2328     3914   3927      13       1599     16.0     0\n",
       "52     2338   2354     3937   3953      16       1599     23.0     0\n",
       "53     2373   2393     3972   3992      20       1599     35.0     0"
      ]
     },
     "execution_count": 107,
     "metadata": {},
     "output_type": "execute_result"
    }
   ],
   "source": [
    "df.head(50)"
   ]
  },
  {
   "cell_type": "code",
   "execution_count": null,
   "metadata": {},
   "outputs": [],
   "source": []
  }
 ],
 "metadata": {
  "kernelspec": {
   "display_name": ".venv",
   "language": "python",
   "name": "python3"
  },
  "language_info": {
   "codemirror_mode": {
    "name": "ipython",
    "version": 3
   },
   "file_extension": ".py",
   "mimetype": "text/x-python",
   "name": "python",
   "nbconvert_exporter": "python",
   "pygments_lexer": "ipython3",
   "version": "3.11.4"
  }
 },
 "nbformat": 4,
 "nbformat_minor": 2
}
